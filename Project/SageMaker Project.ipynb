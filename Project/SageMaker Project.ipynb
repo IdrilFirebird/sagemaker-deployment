{
 "cells": [
  {
   "cell_type": "markdown",
   "metadata": {},
   "source": [
    "# Creating a Sentiment Analysis Web App\n",
    "## Using PyTorch and SageMaker\n",
    "\n",
    "_Deep Learning Nanodegree Program | Deployment_\n",
    "\n",
    "---\n",
    "\n",
    "Now that we have a basic understanding of how SageMaker works we will try to use it to construct a complete project from end to end. Our goal will be to have a simple web page which a user can use to enter a movie review. The web page will then send the review off to our deployed model which will predict the sentiment of the entered review.\n",
    "\n",
    "## Instructions\n",
    "\n",
    "Some template code has already been provided for you, and you will need to implement additional functionality to successfully complete this notebook. You will not need to modify the included code beyond what is requested. Sections that begin with '**TODO**' in the header indicate that you need to complete or implement some portion within them. Instructions will be provided for each section and the specifics of the implementation are marked in the code block with a `# TODO: ...` comment. Please be sure to read the instructions carefully!\n",
    "\n",
    "In addition to implementing code, there will be questions for you to answer which relate to the task and your implementation. Each section where you will answer a question is preceded by a '**Question:**' header. Carefully read each question and provide your answer below the '**Answer:**' header by editing the Markdown cell.\n",
    "\n",
    "> **Note**: Code and Markdown cells can be executed using the **Shift+Enter** keyboard shortcut. In addition, a cell can be edited by typically clicking it (double-click for Markdown cells) or by pressing **Enter** while it is highlighted.\n",
    "\n",
    "## General Outline\n",
    "\n",
    "Recall the general outline for SageMaker projects using a notebook instance.\n",
    "\n",
    "1. Download or otherwise retrieve the data.\n",
    "2. Process / Prepare the data.\n",
    "3. Upload the processed data to S3.\n",
    "4. Train a chosen model.\n",
    "5. Test the trained model (typically using a batch transform job).\n",
    "6. Deploy the trained model.\n",
    "7. Use the deployed model.\n",
    "\n",
    "For this project, you will be following the steps in the general outline with some modifications. \n",
    "\n",
    "First, you will not be testing the model in its own step. You will still be testing the model, however, you will do it by deploying your model and then using the deployed model by sending the test data to it. One of the reasons for doing this is so that you can make sure that your deployed model is working correctly before moving forward.\n",
    "\n",
    "In addition, you will deploy and use your trained model a second time. In the second iteration you will customize the way that your trained model is deployed by including some of your own code. In addition, your newly deployed model will be used in the sentiment analysis web app."
   ]
  },
  {
   "cell_type": "markdown",
   "metadata": {},
   "source": [
    "## Step 1: Downloading the data\n",
    "\n",
    "As in the XGBoost in SageMaker notebook, we will be using the [IMDb dataset](http://ai.stanford.edu/~amaas/data/sentiment/)\n",
    "\n",
    "> Maas, Andrew L., et al. [Learning Word Vectors for Sentiment Analysis](http://ai.stanford.edu/~amaas/data/sentiment/). In _Proceedings of the 49th Annual Meeting of the Association for Computational Linguistics: Human Language Technologies_. Association for Computational Linguistics, 2011."
   ]
  },
  {
   "cell_type": "code",
   "execution_count": 1,
   "metadata": {},
   "outputs": [
    {
     "name": "stdout",
     "output_type": "stream",
     "text": [
      "mkdir: cannot create directory ‘../data’: File exists\n",
      "--2020-06-05 09:22:11--  http://ai.stanford.edu/~amaas/data/sentiment/aclImdb_v1.tar.gz\n",
      "Resolving ai.stanford.edu (ai.stanford.edu)... 171.64.68.10\n",
      "Connecting to ai.stanford.edu (ai.stanford.edu)|171.64.68.10|:80... connected.\n",
      "HTTP request sent, awaiting response... 200 OK\n",
      "Length: 84125825 (80M) [application/x-gzip]\n",
      "Saving to: ‘../data/aclImdb_v1.tar.gz’\n",
      "\n",
      "../data/aclImdb_v1. 100%[===================>]  80.23M  10.1MB/s    in 11s     \n",
      "\n",
      "2020-06-05 09:22:23 (7.13 MB/s) - ‘../data/aclImdb_v1.tar.gz’ saved [84125825/84125825]\n",
      "\n"
     ]
    }
   ],
   "source": [
    "%mkdir ../data\n",
    "!wget -O ../data/aclImdb_v1.tar.gz http://ai.stanford.edu/~amaas/data/sentiment/aclImdb_v1.tar.gz\n",
    "!tar -zxf ../data/aclImdb_v1.tar.gz -C ../data"
   ]
  },
  {
   "cell_type": "markdown",
   "metadata": {},
   "source": [
    "## Step 2: Preparing and Processing the data\n",
    "\n",
    "Also, as in the XGBoost notebook, we will be doing some initial data processing. The first few steps are the same as in the XGBoost example. To begin with, we will read in each of the reviews and combine them into a single input structure. Then, we will split the dataset into a training set and a testing set."
   ]
  },
  {
   "cell_type": "code",
   "execution_count": 1,
   "metadata": {},
   "outputs": [],
   "source": [
    "import os\n",
    "import glob\n",
    "\n",
    "def read_imdb_data(data_dir='../data/aclImdb'):\n",
    "    data = {}\n",
    "    labels = {}\n",
    "    \n",
    "    for data_type in ['train', 'test']:\n",
    "        data[data_type] = {}\n",
    "        labels[data_type] = {}\n",
    "        \n",
    "        for sentiment in ['pos', 'neg']:\n",
    "            data[data_type][sentiment] = []\n",
    "            labels[data_type][sentiment] = []\n",
    "            \n",
    "            path = os.path.join(data_dir, data_type, sentiment, '*.txt')\n",
    "            files = glob.glob(path)\n",
    "            \n",
    "            for f in files:\n",
    "                with open(f) as review:\n",
    "                    data[data_type][sentiment].append(review.read())\n",
    "                    # Here we represent a positive review by '1' and a negative review by '0'\n",
    "                    labels[data_type][sentiment].append(1 if sentiment == 'pos' else 0)\n",
    "                    \n",
    "            assert len(data[data_type][sentiment]) == len(labels[data_type][sentiment]), \\\n",
    "                    \"{}/{} data size does not match labels size\".format(data_type, sentiment)\n",
    "                \n",
    "    return data, labels"
   ]
  },
  {
   "cell_type": "code",
   "execution_count": 2,
   "metadata": {},
   "outputs": [
    {
     "name": "stdout",
     "output_type": "stream",
     "text": [
      "IMDB reviews: train = 12500 pos / 12500 neg, test = 12500 pos / 12500 neg\n"
     ]
    }
   ],
   "source": [
    "data, labels = read_imdb_data()\n",
    "print(\"IMDB reviews: train = {} pos / {} neg, test = {} pos / {} neg\".format(\n",
    "            len(data['train']['pos']), len(data['train']['neg']),\n",
    "            len(data['test']['pos']), len(data['test']['neg'])))"
   ]
  },
  {
   "cell_type": "markdown",
   "metadata": {},
   "source": [
    "Now that we've read the raw training and testing data from the downloaded dataset, we will combine the positive and negative reviews and shuffle the resulting records."
   ]
  },
  {
   "cell_type": "code",
   "execution_count": 3,
   "metadata": {},
   "outputs": [],
   "source": [
    "from sklearn.utils import shuffle\n",
    "\n",
    "def prepare_imdb_data(data, labels):\n",
    "    \"\"\"Prepare training and test sets from IMDb movie reviews.\"\"\"\n",
    "    \n",
    "    #Combine positive and negative reviews and labels\n",
    "    data_train = data['train']['pos'] + data['train']['neg']\n",
    "    data_test = data['test']['pos'] + data['test']['neg']\n",
    "    labels_train = labels['train']['pos'] + labels['train']['neg']\n",
    "    labels_test = labels['test']['pos'] + labels['test']['neg']\n",
    "    \n",
    "    #Shuffle reviews and corresponding labels within training and test sets\n",
    "    data_train, labels_train = shuffle(data_train, labels_train)\n",
    "    data_test, labels_test = shuffle(data_test, labels_test)\n",
    "    \n",
    "    # Return a unified training data, test data, training labels, test labets\n",
    "    return data_train, data_test, labels_train, labels_test"
   ]
  },
  {
   "cell_type": "code",
   "execution_count": 4,
   "metadata": {},
   "outputs": [
    {
     "name": "stdout",
     "output_type": "stream",
     "text": [
      "IMDb reviews (combined): train = 25000, test = 25000\n"
     ]
    }
   ],
   "source": [
    "train_X, test_X, train_y, test_y = prepare_imdb_data(data, labels)\n",
    "print(\"IMDb reviews (combined): train = {}, test = {}\".format(len(train_X), len(test_X)))"
   ]
  },
  {
   "cell_type": "markdown",
   "metadata": {},
   "source": [
    "Now that we have our training and testing sets unified and prepared, we should do a quick check and see an example of the data our model will be trained on. This is generally a good idea as it allows you to see how each of the further processing steps affects the reviews and it also ensures that the data has been loaded correctly."
   ]
  },
  {
   "cell_type": "code",
   "execution_count": 5,
   "metadata": {},
   "outputs": [
    {
     "name": "stdout",
     "output_type": "stream",
     "text": [
      "This long episode packs amount of astounding of surprises, thriller, mystery and concerns about a battle of wits of Sherlock against Charles Augustus Milverton, a master blackmailer. This is an excellent overlong runtime of Jeremy Brett-Holmes series. In the film appear usual Holmes's cannon as Inspector Lestrade and Mrs Hudson, though no Moriarty, however is a greatest villain, Charles Augustus.<br /><br />It's a genuine ripping yarn with intrigue, thrills, and suspense, including an exciting final twist. This is a particular Sherlock movie but we find to Holmes falling in love with a servant, kissing, crying and even robbing. This time along with the episode ¨Scandal in Boheme¨ with Irene Adler, result to be the only one which Holmes is enamored. Top-notch Brett performance, he alongside Peter Cushing are the best Sherlock TV , while in the cinema is forever Basil Rathbone. Brett performs as a resolutive, headstrong, impetuous sleuth. Here Doctor Watson isn't a comic, botcher, and clumsy pal personified by Nigel Bruce, but is an astute and cunning partner well incarnated by Edward Hardwicke, a perfect counterpoint of Brett. Casting is frankly magnificent, special mention to Robert Hardy as astute nasty. Hardy, today famous by role as Cornelius Fudge in Harry Potter, is a veteran actor with forty years of career and with several success such as, The 10th kingdom and Winston Churchill. Furthermore appear secondaries actors with terrific performances, Nickolas Grace, Sophie Gordon, Serena Gordon, among others. The movie gets a colorful atmosphere , the London streets and 221 Baker Street's house are well designed. The motion picture is well directed by Peter Hammond, director of various episodes. It's a must see for the Arthur Conan Doyle fans.\n",
      "1\n"
     ]
    }
   ],
   "source": [
    "print(train_X[200])\n",
    "print(train_y[200])"
   ]
  },
  {
   "cell_type": "markdown",
   "metadata": {},
   "source": [
    "The first step in processing the reviews is to make sure that any html tags that appear should be removed. In addition we wish to tokenize our input, that way words such as *entertained* and *entertaining* are considered the same with regard to sentiment analysis."
   ]
  },
  {
   "cell_type": "code",
   "execution_count": 6,
   "metadata": {},
   "outputs": [],
   "source": [
    "import nltk\n",
    "from nltk.corpus import stopwords\n",
    "from nltk.stem.porter import *\n",
    "\n",
    "import re\n",
    "from bs4 import BeautifulSoup\n",
    "\n",
    "def review_to_words(review):\n",
    "    nltk.download(\"stopwords\", quiet=True)\n",
    "    stemmer = PorterStemmer()\n",
    "    \n",
    "    text = BeautifulSoup(review, \"html.parser\").get_text() # Remove HTML tags\n",
    "    text = re.sub(r\"[^a-zA-Z0-9]\", \" \", text.lower()) # Convert to lower case\n",
    "    words = text.split() # Split string into words\n",
    "    words = [w for w in words if w not in stopwords.words(\"english\")] # Remove stopwords\n",
    "    words = [PorterStemmer().stem(w) for w in words] # stem\n",
    "    \n",
    "    return words"
   ]
  },
  {
   "cell_type": "markdown",
   "metadata": {},
   "source": [
    "The `review_to_words` method defined above uses `BeautifulSoup` to remove any html tags that appear and uses the `nltk` package to tokenize the reviews. As a check to ensure we know how everything is working, try applying `review_to_words` to one of the reviews in the training set."
   ]
  },
  {
   "cell_type": "code",
   "execution_count": 7,
   "metadata": {},
   "outputs": [
    {
     "name": "stdout",
     "output_type": "stream",
     "text": [
      "['long', 'episod', 'pack', 'amount', 'astound', 'surpris', 'thriller', 'mysteri', 'concern', 'battl', 'wit', 'sherlock', 'charl', 'augustu', 'milverton', 'master', 'blackmail', 'excel', 'overlong', 'runtim', 'jeremi', 'brett', 'holm', 'seri', 'film', 'appear', 'usual', 'holm', 'cannon', 'inspector', 'lestrad', 'mr', 'hudson', 'though', 'moriarti', 'howev', 'greatest', 'villain', 'charl', 'augustu', 'genuin', 'rip', 'yarn', 'intrigu', 'thrill', 'suspens', 'includ', 'excit', 'final', 'twist', 'particular', 'sherlock', 'movi', 'find', 'holm', 'fall', 'love', 'servant', 'kiss', 'cri', 'even', 'rob', 'time', 'along', 'episod', 'scandal', 'bohem', 'iren', 'adler', 'result', 'one', 'holm', 'enamor', 'top', 'notch', 'brett', 'perform', 'alongsid', 'peter', 'cush', 'best', 'sherlock', 'tv', 'cinema', 'forev', 'basil', 'rathbon', 'brett', 'perform', 'resolut', 'headstrong', 'impetu', 'sleuth', 'doctor', 'watson', 'comic', 'botcher', 'clumsi', 'pal', 'personifi', 'nigel', 'bruce', 'astut', 'cun', 'partner', 'well', 'incarn', 'edward', 'hardwick', 'perfect', 'counterpoint', 'brett', 'cast', 'frankli', 'magnific', 'special', 'mention', 'robert', 'hardi', 'astut', 'nasti', 'hardi', 'today', 'famou', 'role', 'corneliu', 'fudg', 'harri', 'potter', 'veteran', 'actor', 'forti', 'year', 'career', 'sever', 'success', '10th', 'kingdom', 'winston', 'churchil', 'furthermor', 'appear', 'secondari', 'actor', 'terrif', 'perform', 'nickola', 'grace', 'sophi', 'gordon', 'serena', 'gordon', 'among', 'other', 'movi', 'get', 'color', 'atmospher', 'london', 'street', '221', 'baker', 'street', 'hous', 'well', 'design', 'motion', 'pictur', 'well', 'direct', 'peter', 'hammond', 'director', 'variou', 'episod', 'must', 'see', 'arthur', 'conan', 'doyl', 'fan']\n"
     ]
    }
   ],
   "source": [
    "# TODO: Apply review_to_words to a review (train_X[100] or any other review)\n",
    "print(review_to_words(train_X[200]))"
   ]
  },
  {
   "cell_type": "code",
   "execution_count": 8,
   "metadata": {},
   "outputs": [
    {
     "data": {
      "text/plain": [
       "'eleph'"
      ]
     },
     "execution_count": 8,
     "metadata": {},
     "output_type": "execute_result"
    }
   ],
   "source": [
    "PorterStemmer().stem('elephant') # intressting that elephant is stemmed to eleph :)"
   ]
  },
  {
   "cell_type": "markdown",
   "metadata": {},
   "source": [
    "**Question:** Above we mentioned that `review_to_words` method removes html formatting and allows us to tokenize the words found in a review, for example, converting *entertained* and *entertaining* into *entertain* so that they are treated as though they are the same word. What else, if anything, does this method do to the input?"
   ]
  },
  {
   "cell_type": "markdown",
   "metadata": {},
   "source": [
    "**Answer:**\n",
    "* the function removes punctuation and other symbols with a regex\n",
    "* splits the text in single words\n",
    "* and removes stop words like and, it, etc. \n"
   ]
  },
  {
   "cell_type": "markdown",
   "metadata": {},
   "source": [
    "The method below applies the `review_to_words` method to each of the reviews in the training and testing datasets. In addition it caches the results. This is because performing this processing step can take a long time. This way if you are unable to complete the notebook in the current session, you can come back without needing to process the data a second time."
   ]
  },
  {
   "cell_type": "code",
   "execution_count": 9,
   "metadata": {},
   "outputs": [],
   "source": [
    "import pickle\n",
    "\n",
    "cache_dir = os.path.join(\"../cache\", \"sentiment_analysis\")  # where to store cache files\n",
    "os.makedirs(cache_dir, exist_ok=True)  # ensure cache directory exists\n",
    "\n",
    "def preprocess_data(data_train, data_test, labels_train, labels_test,\n",
    "                    cache_dir=cache_dir, cache_file=\"preprocessed_data.pkl\"):\n",
    "    \"\"\"Convert each review to words; read from cache if available.\"\"\"\n",
    "\n",
    "    # If cache_file is not None, try to read from it first\n",
    "    cache_data = None\n",
    "    if cache_file is not None:\n",
    "        try:\n",
    "            with open(os.path.join(cache_dir, cache_file), \"rb\") as f:\n",
    "                cache_data = pickle.load(f)\n",
    "            print(\"Read preprocessed data from cache file:\", cache_file)\n",
    "        except:\n",
    "            pass  # unable to read from cache, but that's okay\n",
    "    \n",
    "    # If cache is missing, then do the heavy lifting\n",
    "    if cache_data is None:\n",
    "        # Preprocess training and test data to obtain words for each review\n",
    "        #words_train = list(map(review_to_words, data_train))\n",
    "        #words_test = list(map(review_to_words, data_test))\n",
    "        words_train = [review_to_words(review) for review in data_train]\n",
    "        words_test = [review_to_words(review) for review in data_test]\n",
    "        \n",
    "        # Write to cache file for future runs\n",
    "        if cache_file is not None:\n",
    "            cache_data = dict(words_train=words_train, words_test=words_test,\n",
    "                              labels_train=labels_train, labels_test=labels_test)\n",
    "            with open(os.path.join(cache_dir, cache_file), \"wb\") as f:\n",
    "                pickle.dump(cache_data, f)\n",
    "            print(\"Wrote preprocessed data to cache file:\", cache_file)\n",
    "    else:\n",
    "        # Unpack data loaded from cache file\n",
    "        words_train, words_test, labels_train, labels_test = (cache_data['words_train'],\n",
    "                cache_data['words_test'], cache_data['labels_train'], cache_data['labels_test'])\n",
    "    \n",
    "    return words_train, words_test, labels_train, labels_test"
   ]
  },
  {
   "cell_type": "code",
   "execution_count": 10,
   "metadata": {},
   "outputs": [
    {
     "name": "stdout",
     "output_type": "stream",
     "text": [
      "Read preprocessed data from cache file: preprocessed_data.pkl\n"
     ]
    }
   ],
   "source": [
    "# Preprocess data\n",
    "train_X, test_X, train_y, test_y = preprocess_data(train_X, test_X, train_y, test_y)"
   ]
  },
  {
   "cell_type": "markdown",
   "metadata": {},
   "source": [
    "## Transform the data\n",
    "\n",
    "In the XGBoost notebook we transformed the data from its word representation to a bag-of-words feature representation. For the model we are going to construct in this notebook we will construct a feature representation which is very similar. To start, we will represent each word as an integer. Of course, some of the words that appear in the reviews occur very infrequently and so likely don't contain much information for the purposes of sentiment analysis. The way we will deal with this problem is that we will fix the size of our working vocabulary and we will only include the words that appear most frequently. We will then combine all of the infrequent words into a single category and, in our case, we will label it as `1`.\n",
    "\n",
    "Since we will be using a recurrent neural network, it will be convenient if the length of each review is the same. To do this, we will fix a size for our reviews and then pad short reviews with the category 'no word' (which we will label `0`) and truncate long reviews."
   ]
  },
  {
   "cell_type": "markdown",
   "metadata": {},
   "source": [
    "### (TODO) Create a word dictionary\n",
    "\n",
    "To begin with, we need to construct a way to map words that appear in the reviews to integers. Here we fix the size of our vocabulary (including the 'no word' and 'infrequent' categories) to be `5000` but you may wish to change this to see how it affects the model.\n",
    "\n",
    "> **TODO:** Complete the implementation for the `build_dict()` method below. Note that even though the vocab_size is set to `5000`, we only want to construct a mapping for the most frequently appearing `4998` words. This is because we want to reserve the special labels `0` for 'no word' and `1` for 'infrequent word'."
   ]
  },
  {
   "cell_type": "code",
   "execution_count": 11,
   "metadata": {},
   "outputs": [],
   "source": [
    "import numpy as np\n",
    "from collections import Counter\n",
    "\n",
    "def build_dict(data, vocab_size = 5000):\n",
    "    \"\"\"Construct and return a dictionary mapping each of the most frequently appearing words to a unique integer.\"\"\"\n",
    "    \n",
    "    # TODO: Determine how often each word appears in `data`. Note that `data` is a list of sentences and that a\n",
    "    #       sentence is a list of words.\n",
    "    \n",
    "    word_count = Counter() # A dict storing the words that appear in the reviews along with how often they occur\n",
    "    for review in data:\n",
    "        word_count.update(review)\n",
    "    \n",
    "    # TODO: Sort the words found in `data` so that sorted_words[0] is the most frequently appearing word and\n",
    "    #       sorted_words[-1] is the least frequently appearing word.\n",
    "    \n",
    "    sorted_words = word_count.most_common(vocab_size)\n",
    "    print(word_count.most_common(5))\n",
    "    \n",
    "    word_dict = {} # This is what we are building, a dictionary that translates words into integers\n",
    "    for idx, (word, _) in enumerate(sorted_words[:vocab_size - 2]): # The -2 is so that we save room for the 'no word'\n",
    "        word_dict[word] = idx + 2                              # 'infrequent' labels\n",
    "        \n",
    "    return word_dict"
   ]
  },
  {
   "cell_type": "code",
   "execution_count": 12,
   "metadata": {},
   "outputs": [
    {
     "name": "stdout",
     "output_type": "stream",
     "text": [
      "[('movi', 51695), ('film', 48190), ('one', 27741), ('like', 22799), ('time', 16191)]\n"
     ]
    }
   ],
   "source": [
    "word_dict = build_dict(train_X)"
   ]
  },
  {
   "cell_type": "code",
   "execution_count": 13,
   "metadata": {},
   "outputs": [
    {
     "name": "stdout",
     "output_type": "stream",
     "text": [
      "{'movi': 2, 'film': 3, 'one': 4, 'like': 5, 'time': 6, 'good': 7, 'make': 8, 'charact': 9, 'get': 10, 'see': 11, 'watch': 12, 'stori': 13, 'even': 14, 'would': 15, 'realli': 16, 'well': 17, 'scene': 18, 'look': 19, 'show': 20, 'much': 21, 'end': 22, 'peopl': 23, 'bad': 24, 'go': 25, 'great': 26, 'also': 27, 'first': 28, 'love': 29, 'think': 30, 'way': 31, 'act': 32, 'play': 33, 'made': 34, 'thing': 35, 'could': 36, 'know': 37, 'say': 38, 'seem': 39, 'work': 40, 'plot': 41, 'two': 42, 'actor': 43, 'year': 44, 'come': 45, 'mani': 46, 'seen': 47, 'take': 48, 'want': 49, 'life': 50, 'never': 51, 'littl': 52, 'best': 53, 'tri': 54, 'man': 55, 'ever': 56, 'give': 57, 'better': 58, 'still': 59, 'perform': 60, 'find': 61, 'feel': 62, 'part': 63, 'back': 64, 'use': 65, 'someth': 66, 'director': 67, 'actual': 68, 'interest': 69, 'lot': 70, 'real': 71, 'old': 72, 'cast': 73, 'though': 74, 'live': 75, 'star': 76, 'enjoy': 77, 'guy': 78, 'anoth': 79, 'new': 80, 'role': 81, 'noth': 82, '10': 83, 'funni': 84, 'music': 85, 'point': 86, 'start': 87, 'set': 88, 'girl': 89, 'origin': 90, 'day': 91, 'world': 92, 'everi': 93, 'believ': 94, 'turn': 95, 'quit': 96, 'us': 97, 'direct': 98, 'thought': 99, 'fact': 100, 'minut': 101, 'horror': 102, 'kill': 103, 'action': 104, 'comedi': 105, 'pretti': 106, 'young': 107, 'wonder': 108, 'happen': 109, 'around': 110, 'got': 111, 'effect': 112, 'right': 113, 'long': 114, 'howev': 115, 'big': 116, 'line': 117, 'famili': 118, 'enough': 119, 'seri': 120, 'may': 121, 'need': 122, 'fan': 123, 'bit': 124, 'script': 125, 'beauti': 126, 'person': 127, 'becom': 128, 'without': 129, 'must': 130, 'alway': 131, 'friend': 132, 'tell': 133, 'reason': 134, 'saw': 135, 'last': 136, 'final': 137, 'kid': 138, 'almost': 139, 'put': 140, 'least': 141, 'sure': 142, 'done': 143, 'whole': 144, 'place': 145, 'complet': 146, 'kind': 147, 'expect': 148, 'differ': 149, 'shot': 150, 'far': 151, 'mean': 152, 'anyth': 153, 'book': 154, 'laugh': 155, 'might': 156, 'name': 157, 'sinc': 158, 'begin': 159, '2': 160, 'probabl': 161, 'woman': 162, 'help': 163, 'entertain': 164, 'let': 165, 'screen': 166, 'call': 167, 'tv': 168, 'moment': 169, 'away': 170, 'read': 171, 'yet': 172, 'rather': 173, 'worst': 174, 'run': 175, 'fun': 176, 'lead': 177, 'hard': 178, 'audienc': 179, 'idea': 180, 'anyon': 181, 'episod': 182, 'american': 183, 'found': 184, 'appear': 185, 'bore': 186, 'especi': 187, 'although': 188, 'hope': 189, 'cours': 190, 'keep': 191, 'anim': 192, 'job': 193, 'goe': 194, 'move': 195, 'sens': 196, 'version': 197, 'dvd': 198, 'war': 199, 'money': 200, 'someon': 201, 'mind': 202, 'mayb': 203, 'problem': 204, 'true': 205, 'hous': 206, 'everyth': 207, 'nice': 208, 'second': 209, 'rate': 210, 'three': 211, 'night': 212, 'follow': 213, 'face': 214, 'recommend': 215, 'product': 216, 'main': 217, 'worth': 218, 'leav': 219, 'human': 220, 'special': 221, 'excel': 222, 'togeth': 223, 'wast': 224, 'sound': 225, 'everyon': 226, 'john': 227, 'hand': 228, '1': 229, 'father': 230, 'later': 231, 'eye': 232, 'said': 233, 'view': 234, 'instead': 235, 'review': 236, 'boy': 237, 'high': 238, 'hour': 239, 'miss': 240, 'talk': 241, 'classic': 242, 'wife': 243, 'understand': 244, 'left': 245, 'care': 246, 'black': 247, 'death': 248, 'open': 249, 'murder': 250, 'write': 251, 'half': 252, 'head': 253, 'rememb': 254, 'chang': 255, 'viewer': 256, 'fight': 257, 'gener': 258, 'surpris': 259, 'short': 260, 'includ': 261, 'die': 262, 'fall': 263, 'less': 264, 'els': 265, 'entir': 266, 'piec': 267, 'involv': 268, 'pictur': 269, 'simpli': 270, 'home': 271, 'power': 272, 'top': 273, 'total': 274, 'usual': 275, 'budget': 276, 'attempt': 277, 'suppos': 278, 'releas': 279, 'hollywood': 280, 'terribl': 281, 'song': 282, 'men': 283, 'possibl': 284, 'featur': 285, 'portray': 286, 'disappoint': 287, 'poor': 288, '3': 289, 'coupl': 290, 'stupid': 291, 'camera': 292, 'dead': 293, 'wrong': 294, 'produc': 295, 'low': 296, 'either': 297, 'video': 298, 'aw': 299, 'definit': 300, 'except': 301, 'rest': 302, 'given': 303, 'absolut': 304, 'women': 305, 'lack': 306, 'word': 307, 'writer': 308, 'titl': 309, 'talent': 310, 'decid': 311, 'full': 312, 'perfect': 313, 'along': 314, 'style': 315, 'close': 316, 'truli': 317, 'school': 318, 'emot': 319, 'save': 320, 'age': 321, 'sex': 322, 'next': 323, 'bring': 324, 'mr': 325, 'case': 326, 'killer': 327, 'heart': 328, 'comment': 329, 'sort': 330, 'creat': 331, 'perhap': 332, 'came': 333, 'brother': 334, 'sever': 335, 'joke': 336, 'art': 337, 'dialogu': 338, 'game': 339, 'small': 340, 'base': 341, 'flick': 342, 'written': 343, 'sequenc': 344, 'meet': 345, 'earli': 346, 'often': 347, 'other': 348, 'mother': 349, 'develop': 350, 'humor': 351, 'actress': 352, 'consid': 353, 'dark': 354, 'guess': 355, 'amaz': 356, 'unfortun': 357, 'lost': 358, 'light': 359, 'exampl': 360, 'cinema': 361, 'drama': 362, 'white': 363, 'ye': 364, 'experi': 365, 'imagin': 366, 'mention': 367, 'stop': 368, 'natur': 369, 'forc': 370, 'manag': 371, 'felt': 372, 'present': 373, 'cut': 374, 'children': 375, 'fail': 376, 'son': 377, 'car': 378, 'qualiti': 379, 'support': 380, 'ask': 381, 'hit': 382, 'side': 383, 'voic': 384, 'extrem': 385, 'impress': 386, 'evil': 387, 'wors': 388, 'stand': 389, 'went': 390, 'certainli': 391, 'basic': 392, 'oh': 393, 'overal': 394, 'favorit': 395, 'horribl': 396, 'mysteri': 397, 'number': 398, 'type': 399, 'danc': 400, 'wait': 401, 'hero': 402, '5': 403, 'alreadi': 404, 'learn': 405, 'matter': 406, '4': 407, 'michael': 408, 'genr': 409, 'fine': 410, 'despit': 411, 'throughout': 412, 'walk': 413, 'success': 414, 'histori': 415, 'question': 416, 'zombi': 417, 'town': 418, 'realiz': 419, 'relationship': 420, 'past': 421, 'child': 422, 'daughter': 423, 'late': 424, 'b': 425, 'wish': 426, 'hate': 427, 'credit': 428, 'event': 429, 'theme': 430, 'touch': 431, 'citi': 432, 'today': 433, 'sometim': 434, 'behind': 435, 'god': 436, 'twist': 437, 'sit': 438, 'deal': 439, 'stay': 440, 'annoy': 441, 'abl': 442, 'rent': 443, 'pleas': 444, 'edit': 445, 'blood': 446, 'deserv': 447, 'comic': 448, 'anyway': 449, 'appar': 450, 'soon': 451, 'gave': 452, 'etc': 453, 'level': 454, 'slow': 455, 'chanc': 456, 'score': 457, 'bodi': 458, 'brilliant': 459, 'incred': 460, 'figur': 461, 'situat': 462, 'self': 463, 'major': 464, 'stuff': 465, 'decent': 466, 'element': 467, 'return': 468, 'dream': 469, 'obvious': 470, 'continu': 471, 'order': 472, 'pace': 473, 'ridicul': 474, 'happi': 475, 'add': 476, 'highli': 477, 'group': 478, 'thank': 479, 'ladi': 480, 'novel': 481, 'speak': 482, 'pain': 483, 'career': 484, 'shoot': 485, 'strang': 486, 'heard': 487, 'sad': 488, 'husband': 489, 'polic': 490, 'import': 491, 'break': 492, 'took': 493, 'strong': 494, 'cannot': 495, 'predict': 496, 'robert': 497, 'violenc': 498, 'hilari': 499, 'recent': 500, 'countri': 501, 'known': 502, 'particularli': 503, 'pick': 504, 'documentari': 505, 'season': 506, 'critic': 507, 'jame': 508, 'compar': 509, 'alon': 510, 'obviou': 511, 'told': 512, 'state': 513, 'rock': 514, 'visual': 515, 'offer': 516, 'exist': 517, 'theater': 518, 'opinion': 519, 'gore': 520, 'crap': 521, 'hold': 522, 'result': 523, 'realiti': 524, 'room': 525, 'hear': 526, 'clich': 527, 'effort': 528, 'thriller': 529, 'caus': 530, 'sequel': 531, 'explain': 532, 'serious': 533, 'king': 534, 'local': 535, 'ago': 536, 'none': 537, 'hell': 538, 'note': 539, 'allow': 540, 'sister': 541, 'david': 542, 'simpl': 543, 'femal': 544, 'deliv': 545, 'ok': 546, 'class': 547, 'convinc': 548, 'check': 549, 'suspens': 550, 'win': 551, 'oscar': 552, 'buy': 553, 'huge': 554, 'valu': 555, 'sexual': 556, 'scari': 557, 'cool': 558, 'excit': 559, 'similar': 560, 'apart': 561, 'exactli': 562, 'provid': 563, 'shown': 564, 'avoid': 565, 'seriou': 566, 'english': 567, 'taken': 568, 'whose': 569, 'cinematographi': 570, 'shock': 571, 'polit': 572, 'spoiler': 573, 'offic': 574, 'across': 575, 'middl': 576, 'pass': 577, 'street': 578, 'messag': 579, 'somewhat': 580, 'charm': 581, 'silli': 582, 'modern': 583, 'filmmak': 584, 'confus': 585, 'form': 586, 'tale': 587, 'singl': 588, 'jack': 589, 'mostli': 590, 'carri': 591, 'william': 592, 'attent': 593, 'sing': 594, 'five': 595, 'subject': 596, 'prove': 597, 'richard': 598, 'stage': 599, 'team': 600, 'unlik': 601, 'cop': 602, 'georg': 603, 'televis': 604, 'monster': 605, 'earth': 606, 'cover': 607, 'villain': 608, 'pay': 609, 'marri': 610, 'toward': 611, 'build': 612, 'parent': 613, 'pull': 614, 'due': 615, 'respect': 616, 'fill': 617, 'dialog': 618, 'four': 619, 'remind': 620, 'futur': 621, 'typic': 622, 'weak': 623, '7': 624, 'cheap': 625, 'intellig': 626, 'atmospher': 627, 'british': 628, '80': 629, 'clearli': 630, 'non': 631, 'paul': 632, 'dog': 633, '8': 634, 'fast': 635, 'artist': 636, 'knew': 637, 'crime': 638, 'easili': 639, 'escap': 640, 'adult': 641, 'doubt': 642, 'detail': 643, 'date': 644, 'member': 645, 'fire': 646, 'romant': 647, 'drive': 648, 'gun': 649, 'straight': 650, 'fit': 651, 'beyond': 652, 'attack': 653, 'imag': 654, 'upon': 655, 'posit': 656, 'whether': 657, 'peter': 658, 'fantast': 659, 'appreci': 660, 'aspect': 661, 'captur': 662, 'ten': 663, 'plan': 664, 'discov': 665, 'remain': 666, 'near': 667, 'period': 668, 'air': 669, 'realist': 670, 'mark': 671, 'red': 672, 'dull': 673, 'adapt': 674, 'within': 675, 'lose': 676, 'spend': 677, 'color': 678, 'materi': 679, 'chase': 680, 'mari': 681, 'storylin': 682, 'forget': 683, 'bunch': 684, 'clear': 685, 'lee': 686, 'victim': 687, 'nearli': 688, 'box': 689, 'york': 690, 'inspir': 691, 'match': 692, 'finish': 693, 'mess': 694, 'standard': 695, 'easi': 696, 'truth': 697, 'busi': 698, 'suffer': 699, 'bill': 700, 'dramat': 701, 'space': 702, 'western': 703, 'e': 704, 'list': 705, 'battl': 706, 'notic': 707, 'de': 708, 'french': 709, 'ad': 710, '9': 711, 'tom': 712, 'larg': 713, 'among': 714, 'eventu': 715, 'train': 716, 'accept': 717, 'agre': 718, 'soundtrack': 719, 'spirit': 720, 'third': 721, 'teenag': 722, 'adventur': 723, 'soldier': 724, 'suggest': 725, 'famou': 726, 'drug': 727, 'sorri': 728, 'babi': 729, 'normal': 730, 'cri': 731, 'ultim': 732, 'troubl': 733, 'contain': 734, 'certain': 735, 'cultur': 736, 'romanc': 737, 'rare': 738, 'lame': 739, 'somehow': 740, 'mix': 741, 'disney': 742, 'gone': 743, 'cartoon': 744, 'student': 745, 'reveal': 746, 'fear': 747, 'kept': 748, 'suck': 749, 'attract': 750, 'appeal': 751, 'premis': 752, 'greatest': 753, 'design': 754, 'secret': 755, 'shame': 756, 'throw': 757, 'copi': 758, 'scare': 759, 'wit': 760, 'admit': 761, 'america': 762, 'brought': 763, 'relat': 764, 'particular': 765, 'screenplay': 766, 'whatev': 767, 'pure': 768, '70': 769, 'harri': 770, 'averag': 771, 'master': 772, 'describ': 773, 'treat': 774, 'male': 775, '20': 776, 'fantasi': 777, 'issu': 778, 'warn': 779, 'inde': 780, 'forward': 781, 'background': 782, 'project': 783, 'free': 784, 'memor': 785, 'japanes': 786, 'poorli': 787, 'award': 788, 'locat': 789, 'amus': 790, 'potenti': 791, 'struggl': 792, 'weird': 793, 'magic': 794, 'societi': 795, 'okay': 796, 'doctor': 797, 'imdb': 798, 'accent': 799, 'water': 800, 'hot': 801, 'dr': 802, 'express': 803, '30': 804, 'alien': 805, 'odd': 806, 'choic': 807, 'crazi': 808, 'fiction': 809, 'studio': 810, 'becam': 811, 'control': 812, 'masterpiec': 813, 'difficult': 814, 'fli': 815, 'joe': 816, 'scream': 817, 'costum': 818, 'lover': 819, 'refer': 820, 'uniqu': 821, 'remak': 822, 'girlfriend': 823, 'vampir': 824, 'prison': 825, 'execut': 826, 'wear': 827, 'jump': 828, 'unless': 829, 'wood': 830, 'creepi': 831, 'cheesi': 832, 'superb': 833, 'otherwis': 834, 'parti': 835, 'ghost': 836, 'roll': 837, 'mad': 838, 'public': 839, 'depict': 840, 'moral': 841, 'earlier': 842, 'week': 843, 'badli': 844, 'jane': 845, 'dumb': 846, 'fi': 847, 'flaw': 848, 'grow': 849, 'deep': 850, 'sci': 851, 'cat': 852, 'maker': 853, 'footag': 854, 'older': 855, 'connect': 856, 'bother': 857, 'plenti': 858, 'outsid': 859, 'stick': 860, 'gay': 861, 'catch': 862, 'co': 863, 'plu': 864, 'popular': 865, 'equal': 866, 'social': 867, 'quickli': 868, 'disturb': 869, 'perfectli': 870, 'dress': 871, 'era': 872, '90': 873, 'mistak': 874, 'lie': 875, 'ride': 876, 'previou': 877, 'combin': 878, 'concept': 879, 'band': 880, 'answer': 881, 'rich': 882, 'surviv': 883, 'front': 884, 'sweet': 885, 'christma': 886, 'insid': 887, 'concern': 888, 'eat': 889, 'bare': 890, 'ben': 891, 'listen': 892, 'beat': 893, 'c': 894, 'serv': 895, 'term': 896, 'german': 897, 'meant': 898, 'la': 899, 'stereotyp': 900, 'hardli': 901, 'law': 902, 'innoc': 903, 'desper': 904, 'memori': 905, 'promis': 906, 'cute': 907, 'intent': 908, 'steal': 909, 'variou': 910, 'inform': 911, 'brain': 912, 'post': 913, 'tone': 914, 'island': 915, 'amount': 916, 'compani': 917, 'nuditi': 918, 'track': 919, 'claim': 920, 'store': 921, '50': 922, 'flat': 923, 'hair': 924, 'univers': 925, 'land': 926, 'kick': 927, 'danger': 928, 'scott': 929, 'fairli': 930, 'player': 931, 'crew': 932, 'step': 933, 'plain': 934, 'toni': 935, 'share': 936, 'centuri': 937, 'tast': 938, 'achiev': 939, 'engag': 940, 'cold': 941, 'travel': 942, 'suit': 943, 'record': 944, 'rip': 945, 'sadli': 946, 'manner': 947, 'spot': 948, 'wrote': 949, 'tension': 950, 'fascin': 951, 'intens': 952, 'familiar': 953, 'remark': 954, 'burn': 955, 'depth': 956, 'histor': 957, 'destroy': 958, 'sleep': 959, 'purpos': 960, 'languag': 961, 'ignor': 962, 'ruin': 963, 'delight': 964, 'unbeliev': 965, 'italian': 966, 'collect': 967, 'abil': 968, 'soul': 969, 'clever': 970, 'detect': 971, 'violent': 972, 'rape': 973, 'reach': 974, 'door': 975, 'liter': 976, 'trash': 977, 'scienc': 978, 'caught': 979, 'commun': 980, 'reveng': 981, 'creatur': 982, 'approach': 983, 'trip': 984, 'intrigu': 985, 'fashion': 986, 'paint': 987, 'introduc': 988, 'skill': 989, 'complex': 990, 'channel': 991, 'camp': 992, 'christian': 993, 'extra': 994, 'hole': 995, 'immedi': 996, 'ann': 997, 'limit': 998, 'mental': 999, 'slightli': 1000, 'mere': 1001, '6': 1002, 'million': 1003, 'comput': 1004, 'conclus': 1005, 'slasher': 1006, 'imposs': 1007, 'suddenli': 1008, 'crimin': 1009, 'teen': 1010, 'neither': 1011, 'spent': 1012, 'nation': 1013, 'physic': 1014, 'respons': 1015, 'planet': 1016, 'receiv': 1017, 'fake': 1018, 'blue': 1019, 'sick': 1020, 'bizarr': 1021, 'embarrass': 1022, 'indian': 1023, 'ring': 1024, '15': 1025, 'drop': 1026, 'pop': 1027, 'drag': 1028, 'haunt': 1029, 'suspect': 1030, 'pointless': 1031, 'edg': 1032, 'search': 1033, 'handl': 1034, 'biggest': 1035, 'common': 1036, 'hurt': 1037, 'arriv': 1038, 'faith': 1039, 'technic': 1040, 'angel': 1041, 'dad': 1042, 'genuin': 1043, 'solid': 1044, 'f': 1045, 'awesom': 1046, 'focu': 1047, 'van': 1048, 'colleg': 1049, 'former': 1050, 'count': 1051, 'tear': 1052, 'heavi': 1053, 'wall': 1054, 'rais': 1055, 'laughabl': 1056, 'visit': 1057, 'younger': 1058, 'sign': 1059, 'excus': 1060, 'fair': 1061, 'cult': 1062, 'key': 1063, 'motion': 1064, 'tough': 1065, 'desir': 1066, 'super': 1067, 'addit': 1068, 'stun': 1069, 'cloth': 1070, 'exploit': 1071, 'smith': 1072, 'tortur': 1073, 'race': 1074, 'davi': 1075, 'cross': 1076, 'author': 1077, 'jim': 1078, 'consist': 1079, 'minor': 1080, 'compel': 1081, 'focus': 1082, 'commit': 1083, 'chemistri': 1084, 'pathet': 1085, 'park': 1086, 'frank': 1087, 'obsess': 1088, 'tradit': 1089, 'grade': 1090, '60': 1091, 'asid': 1092, 'brutal': 1093, 'somewher': 1094, 'steve': 1095, 'rule': 1096, 'depress': 1097, 'explor': 1098, 'u': 1099, 'grant': 1100, 'opportun': 1101, 'honest': 1102, 'besid': 1103, 'dub': 1104, 'anti': 1105, 'trailer': 1106, 'intend': 1107, 'bar': 1108, 'longer': 1109, 'regard': 1110, 'west': 1111, 'scientist': 1112, 'judg': 1113, 'decad': 1114, 'silent': 1115, 'armi': 1116, 'creativ': 1117, 'wild': 1118, 'g': 1119, 'stewart': 1120, 'south': 1121, 'draw': 1122, 'road': 1123, 'govern': 1124, 'boss': 1125, 'ex': 1126, 'practic': 1127, 'motiv': 1128, 'festiv': 1129, 'club': 1130, 'surprisingli': 1131, 'gang': 1132, 'london': 1133, 'green': 1134, 'redeem': 1135, 'page': 1136, 'idiot': 1137, 'militari': 1138, 'display': 1139, 'machin': 1140, 'aliv': 1141, 'thrill': 1142, 'repeat': 1143, 'nobodi': 1144, 'folk': 1145, 'yeah': 1146, '100': 1147, '40': 1148, 'garbag': 1149, 'journey': 1150, 'ground': 1151, 'tire': 1152, 'smile': 1153, 'bought': 1154, 'mood': 1155, 'stone': 1156, 'sam': 1157, 'cost': 1158, 'mouth': 1159, 'noir': 1160, 'agent': 1161, 'terrif': 1162, 'requir': 1163, 'utterli': 1164, 'honestli': 1165, 'area': 1166, 'sexi': 1167, 'report': 1168, 'geniu': 1169, 'glad': 1170, 'investig': 1171, 'humour': 1172, 'enter': 1173, 'serial': 1174, 'occasion': 1175, 'passion': 1176, 'narr': 1177, 'climax': 1178, 'marriag': 1179, 'studi': 1180, 'industri': 1181, 'demon': 1182, 'nowher': 1183, 'charli': 1184, 'center': 1185, 'ship': 1186, 'loos': 1187, 'hors': 1188, 'bear': 1189, 'hang': 1190, 'wow': 1191, 'graphic': 1192, 'giant': 1193, 'admir': 1194, 'send': 1195, 'damn': 1196, 'loud': 1197, 'subtl': 1198, 'profession': 1199, 'rel': 1200, 'nake': 1201, 'blow': 1202, 'bottom': 1203, 'insult': 1204, 'batman': 1205, 'r': 1206, 'boyfriend': 1207, 'doubl': 1208, 'kelli': 1209, 'initi': 1210, 'frame': 1211, 'opera': 1212, 'gem': 1213, 'challeng': 1214, 'cinemat': 1215, 'church': 1216, 'drawn': 1217, 'affect': 1218, 'seek': 1219, 'nightmar': 1220, 'evid': 1221, 'j': 1222, 'l': 1223, 'fulli': 1224, 'essenti': 1225, 'arm': 1226, 'conflict': 1227, 'christoph': 1228, 'henri': 1229, 'grace': 1230, 'wind': 1231, 'narrat': 1232, 'witch': 1233, 'assum': 1234, 'hunt': 1235, 'push': 1236, 'chri': 1237, 'wise': 1238, 'nomin': 1239, 'month': 1240, 'repres': 1241, 'hide': 1242, 'sceneri': 1243, 'avail': 1244, 'affair': 1245, 'bond': 1246, 'thu': 1247, 'justic': 1248, 'smart': 1249, 'interview': 1250, 'outstand': 1251, 'flashback': 1252, 'satisfi': 1253, 'presenc': 1254, 'constantli': 1255, 'bed': 1256, 'central': 1257, 'content': 1258, 'sell': 1259, 'iron': 1260, 'gag': 1261, 'everybodi': 1262, 'slowli': 1263, 'hotel': 1264, 'hire': 1265, 'system': 1266, 'hey': 1267, 'thrown': 1268, 'charl': 1269, 'adam': 1270, 'individu': 1271, 'mediocr': 1272, 'jone': 1273, 'allen': 1274, 'lesson': 1275, 'billi': 1276, 'ray': 1277, 'photographi': 1278, 'cameo': 1279, 'fellow': 1280, 'pari': 1281, 'strike': 1282, 'brief': 1283, 'independ': 1284, 'rise': 1285, 'absurd': 1286, 'neg': 1287, 'phone': 1288, 'impact': 1289, 'model': 1290, 'ill': 1291, 'born': 1292, 'fresh': 1293, 'spoil': 1294, 'angl': 1295, 'abus': 1296, 'likabl': 1297, 'hill': 1298, 'discuss': 1299, 'ahead': 1300, 'sight': 1301, 'photograph': 1302, 'sent': 1303, 'occur': 1304, 'logic': 1305, 'blame': 1306, 'shine': 1307, 'mainli': 1308, 'bruce': 1309, 'skip': 1310, 'forev': 1311, 'commerci': 1312, 'surround': 1313, 'held': 1314, 'segment': 1315, 'teacher': 1316, 'blond': 1317, 'zero': 1318, 'resembl': 1319, 'summer': 1320, 'satir': 1321, 'trap': 1322, 'six': 1323, 'fool': 1324, 'ball': 1325, 'queen': 1326, 'sub': 1327, 'tragedi': 1328, 'twice': 1329, 'reaction': 1330, 'pack': 1331, 'bomb': 1332, 'hospit': 1333, 'will': 1334, 'protagonist': 1335, 'mile': 1336, 'sport': 1337, 'jerri': 1338, 'drink': 1339, 'vote': 1340, 'trust': 1341, 'mom': 1342, 'encount': 1343, 'plane': 1344, 'station': 1345, 'program': 1346, 'current': 1347, 'al': 1348, 'celebr': 1349, 'martin': 1350, 'choos': 1351, 'join': 1352, 'field': 1353, 'round': 1354, 'tragic': 1355, 'lord': 1356, 'favourit': 1357, 'jean': 1358, 'vision': 1359, 'robot': 1360, 'tie': 1361, 'arthur': 1362, 'roger': 1363, 'fortun': 1364, 'random': 1365, 'psycholog': 1366, 'intern': 1367, 'dread': 1368, 'epic': 1369, 'prefer': 1370, 'nonsens': 1371, 'improv': 1372, 'pleasur': 1373, 'highlight': 1374, 'legend': 1375, 'formula': 1376, '11': 1377, 'tape': 1378, 'dollar': 1379, 'object': 1380, 'thin': 1381, 'porn': 1382, 'wide': 1383, 'fox': 1384, 'gorgeou': 1385, 'buddi': 1386, 'influenc': 1387, 'ugli': 1388, 'ii': 1389, 'prepar': 1390, 'nasti': 1391, 'warm': 1392, 'supposedli': 1393, 'reflect': 1394, 'progress': 1395, 'worthi': 1396, 'youth': 1397, 'unusu': 1398, 'latter': 1399, 'length': 1400, 'crash': 1401, 'childhood': 1402, 'superior': 1403, 'seven': 1404, 'shop': 1405, 'remot': 1406, 'theatr': 1407, 'pilot': 1408, 'disgust': 1409, 'paid': 1410, 'funniest': 1411, 'castl': 1412, 'fell': 1413, 'convers': 1414, 'trick': 1415, 'establish': 1416, 'gangster': 1417, 'rob': 1418, 'disast': 1419, 'suicid': 1420, 'mine': 1421, 'disappear': 1422, 'heaven': 1423, 'ident': 1424, 'heroin': 1425, 'singer': 1426, 'forgotten': 1427, 'tend': 1428, 'decis': 1429, 'mask': 1430, 'partner': 1431, 'brian': 1432, 'recogn': 1433, 'desert': 1434, 'alan': 1435, 'sky': 1436, 'stuck': 1437, 'ms': 1438, 'thoroughli': 1439, 'p': 1440, 'accur': 1441, 'replac': 1442, 'market': 1443, 'seemingli': 1444, 'eddi': 1445, 'danni': 1446, 'commentari': 1447, 'uncl': 1448, 'clue': 1449, 'andi': 1450, 'devil': 1451, 'jackson': 1452, 'pair': 1453, 'therefor': 1454, 'that': 1455, 'refus': 1456, 'unit': 1457, 'fate': 1458, 'fault': 1459, 'accid': 1460, 'ed': 1461, 'river': 1462, 'afraid': 1463, 'tune': 1464, 'hidden': 1465, 'clean': 1466, 'russian': 1467, 'stephen': 1468, 'test': 1469, 'convey': 1470, 'quick': 1471, 'irrit': 1472, 'captain': 1473, 'readi': 1474, 'instanc': 1475, 'european': 1476, 'frustrat': 1477, 'insan': 1478, 'daniel': 1479, 'wed': 1480, 'food': 1481, '1950': 1482, 'rescu': 1483, 'chines': 1484, 'angri': 1485, 'lock': 1486, 'dirti': 1487, 'joy': 1488, 'price': 1489, 'steven': 1490, 'cage': 1491, 'bland': 1492, 'anymor': 1493, 'rang': 1494, 'wooden': 1495, 'rush': 1496, 'news': 1497, 'jason': 1498, 'n': 1499, 'board': 1500, '12': 1501, 'worri': 1502, 'twenti': 1503, 'led': 1504, 'martial': 1505, 'transform': 1506, 'hunter': 1507, 'symbol': 1508, 'cgi': 1509, 'piti': 1510, 'sentiment': 1511, 'onto': 1512, 'johnni': 1513, 'x': 1514, 'invent': 1515, 'attitud': 1516, 'process': 1517, 'explan': 1518, 'awar': 1519, 'owner': 1520, 'aim': 1521, 'target': 1522, 'favor': 1523, 'energi': 1524, 'necessari': 1525, 'floor': 1526, 'opposit': 1527, 'religi': 1528, 'blind': 1529, 'insight': 1530, 'window': 1531, 'chick': 1532, 'movement': 1533, 'research': 1534, 'comparison': 1535, 'mountain': 1536, 'possess': 1537, 'deepli': 1538, 'comed': 1539, 'rain': 1540, 'grand': 1541, 'whatsoev': 1542, 'shadow': 1543, 'bank': 1544, 'mid': 1545, 'began': 1546, 'parodi': 1547, 'princ': 1548, 'friendship': 1549, 'credibl': 1550, 'pre': 1551, 'taylor': 1552, 'weapon': 1553, 'flesh': 1554, 'teach': 1555, 'dougla': 1556, 'bloodi': 1557, 'protect': 1558, 'hint': 1559, 'terror': 1560, 'marvel': 1561, 'load': 1562, 'anybodi': 1563, 'drunk': 1564, 'leader': 1565, 'watchabl': 1566, 'accord': 1567, 'superman': 1568, 'brown': 1569, 'freddi': 1570, 'seat': 1571, 'appropri': 1572, 'jeff': 1573, 'hitler': 1574, 'tim': 1575, 'knock': 1576, 'unknown': 1577, 'charg': 1578, 'keaton': 1579, 'villag': 1580, 'england': 1581, 'empti': 1582, 'media': 1583, 'enemi': 1584, 'unnecessari': 1585, 'craft': 1586, 'dare': 1587, 'utter': 1588, 'perspect': 1589, 'wave': 1590, 'buck': 1591, 'strength': 1592, 'contrast': 1593, 'ford': 1594, 'nativ': 1595, 'kiss': 1596, 'correct': 1597, 'anywher': 1598, 'soap': 1599, 'distract': 1600, 'knowledg': 1601, 'nazi': 1602, 'magnific': 1603, 'chill': 1604, 'speed': 1605, '1980': 1606, 'ice': 1607, 'mission': 1608, 'breath': 1609, 'fred': 1610, 'crowd': 1611, 'jr': 1612, 'moon': 1613, 'joan': 1614, '000': 1615, 'frighten': 1616, 'soft': 1617, 'kate': 1618, 'hundr': 1619, 'dick': 1620, 'dan': 1621, 'nick': 1622, 'radio': 1623, 'simon': 1624, 'dozen': 1625, 'somebodi': 1626, 'shakespear': 1627, 'thousand': 1628, 'academi': 1629, 'loss': 1630, 'andrew': 1631, 'account': 1632, 'quot': 1633, 'sum': 1634, 'vehicl': 1635, 'root': 1636, '1970': 1637, 'behavior': 1638, 'convent': 1639, 'leg': 1640, 'gold': 1641, 'regular': 1642, 'demand': 1643, 'compet': 1644, 'pretenti': 1645, 'worker': 1646, 'stretch': 1647, 'privat': 1648, 'candi': 1649, 'lynch': 1650, 'interpret': 1651, 'explos': 1652, 'japan': 1653, 'notabl': 1654, 'constant': 1655, 'debut': 1656, 'tarzan': 1657, 'translat': 1658, 'prais': 1659, 'spi': 1660, 'sea': 1661, 'revolv': 1662, 'technolog': 1663, 'threaten': 1664, 'ass': 1665, 'quiet': 1666, 'sat': 1667, 'franc': 1668, 'failur': 1669, 'jesu': 1670, 'higher': 1671, 'toy': 1672, 'punch': 1673, 'met': 1674, 'aid': 1675, 'kevin': 1676, 'abandon': 1677, 'mike': 1678, 'interact': 1679, 'vh': 1680, 'bet': 1681, 'command': 1682, 'separ': 1683, 'confront': 1684, 'site': 1685, 'stunt': 1686, 'gotten': 1687, 'servic': 1688, 'belong': 1689, 'recal': 1690, 'techniqu': 1691, 'cabl': 1692, 'bug': 1693, 'freak': 1694, 'foot': 1695, 'bright': 1696, 'capabl': 1697, 'jimmi': 1698, 'african': 1699, 'fu': 1700, 'succeed': 1701, 'stock': 1702, 'clark': 1703, 'presid': 1704, 'fat': 1705, 'boat': 1706, 'spanish': 1707, 'gene': 1708, 'structur': 1709, 'kidnap': 1710, 'paper': 1711, 'factor': 1712, 'belief': 1713, 'whilst': 1714, 'tree': 1715, 'complic': 1716, 'realis': 1717, 'attend': 1718, 'witti': 1719, 'realism': 1720, 'bob': 1721, 'educ': 1722, 'santa': 1723, 'finest': 1724, 'broken': 1725, 'assist': 1726, 'observ': 1727, 'smoke': 1728, 'determin': 1729, 'up': 1730, 'v': 1731, 'depart': 1732, 'hat': 1733, 'lewi': 1734, 'fame': 1735, 'oper': 1736, 'domin': 1737, 'rubbish': 1738, 'routin': 1739, 'hook': 1740, 'advanc': 1741, 'kinda': 1742, 'lone': 1743, 'safe': 1744, 'foreign': 1745, 'morgan': 1746, 'numer': 1747, 'rank': 1748, 'shallow': 1749, 'civil': 1750, 'vs': 1751, 'shape': 1752, 'washington': 1753, 'rose': 1754, 'werewolf': 1755, 'morn': 1756, 'gari': 1757, 'kong': 1758, 'ordinari': 1759, 'accomplish': 1760, 'winner': 1761, 'peac': 1762, 'grab': 1763, 'whenev': 1764, 'virtual': 1765, 'luck': 1766, 'h': 1767, 'offens': 1768, 'contriv': 1769, 'complain': 1770, 'patient': 1771, 'unfunni': 1772, 'welcom': 1773, 'activ': 1774, 'bigger': 1775, 'trek': 1776, 'con': 1777, 'pretend': 1778, 'dimension': 1779, 'wake': 1780, 'cain': 1781, 'eric': 1782, 'code': 1783, 'lesbian': 1784, 'dri': 1785, 'flash': 1786, 'corrupt': 1787, 'guard': 1788, 'dancer': 1789, 'albert': 1790, 'statu': 1791, 'manipul': 1792, 'context': 1793, 'signific': 1794, 'sourc': 1795, 'gain': 1796, 'awkward': 1797, 'speech': 1798, 'corni': 1799, 'psycho': 1800, '13': 1801, 'anthoni': 1802, 'sean': 1803, 'clip': 1804, 'curiou': 1805, 'reli': 1806, 'advic': 1807, 'w': 1808, 'religion': 1809, 'priest': 1810, 'theatric': 1811, 'flow': 1812, 'addict': 1813, 'secur': 1814, 'skin': 1815, 'specif': 1816, 'asian': 1817, 'jennif': 1818, 'howard': 1819, 'core': 1820, 'promot': 1821, 'organ': 1822, 'comfort': 1823, 'golden': 1824, 'luke': 1825, 'lucki': 1826, 'cheat': 1827, 'cash': 1828, 'dislik': 1829, 'lower': 1830, 'associ': 1831, 'degre': 1832, 'regret': 1833, 'frequent': 1834, 'wing': 1835, 'balanc': 1836, 'contribut': 1837, 'frankli': 1838, 'spell': 1839, 'devic': 1840, 'print': 1841, 'lake': 1842, 'sake': 1843, 'forgiv': 1844, 'mass': 1845, 'betti': 1846, 'thoma': 1847, 'unexpect': 1848, 'crack': 1849, 'gordon': 1850, 'amateur': 1851, 'grown': 1852, 'categori': 1853, 'unfold': 1854, 'invit': 1855, 'depend': 1856, 'construct': 1857, 'walter': 1858, 'condit': 1859, 'intellectu': 1860, 'matur': 1861, 'honor': 1862, 'anna': 1863, 'grew': 1864, 'spectacular': 1865, 'mirror': 1866, 'veteran': 1867, 'sole': 1868, 'sudden': 1869, 'meanwhil': 1870, 'overli': 1871, 'card': 1872, 'experienc': 1873, 'liner': 1874, 'freedom': 1875, 'gift': 1876, 'robin': 1877, 'grip': 1878, 'demonstr': 1879, 'colour': 1880, 'brilliantli': 1881, 'theori': 1882, 'section': 1883, 'unabl': 1884, 'crappi': 1885, 'subtitl': 1886, 'circumst': 1887, 'sheriff': 1888, 'drew': 1889, 'oliv': 1890, 'pile': 1891, 'cook': 1892, 'parker': 1893, 'altern': 1894, 'path': 1895, 'laughter': 1896, 'matt': 1897, 'sheer': 1898, 'sinatra': 1899, 'lawyer': 1900, 'defin': 1901, 'treatment': 1902, 'accident': 1903, 'hall': 1904, 'wander': 1905, 'relief': 1906, 'captiv': 1907, 'dragon': 1908, 'hank': 1909, 'halloween': 1910, 'gratuit': 1911, 'moor': 1912, 'k': 1913, 'wayn': 1914, 'jacki': 1915, 'unintent': 1916, 'cowboy': 1917, 'barbara': 1918, 'broadway': 1919, 'wound': 1920, 'kung': 1921, 'surreal': 1922, 'canadian': 1923, 'spoof': 1924, 'statement': 1925, 'winter': 1926, 'compos': 1927, 'treasur': 1928, 'gonna': 1929, 'fare': 1930, 'cheer': 1931, 'fish': 1932, 'sensit': 1933, 'unrealist': 1934, 'victor': 1935, 'emerg': 1936, 'woodi': 1937, 'sympathet': 1938, 'neighbor': 1939, 'driven': 1940, 'ran': 1941, 'glass': 1942, 'topic': 1943, 'menac': 1944, 'overlook': 1945, 'expos': 1946, 'authent': 1947, 'chief': 1948, 'ancient': 1949, 'michel': 1950, 'handsom': 1951, 'gross': 1952, 'feet': 1953, 'stranger': 1954, 'russel': 1955, 'network': 1956, 'contemporari': 1957, 'comedian': 1958, 'nevertheless': 1959, 'built': 1960, 'pleasant': 1961, 'cinderella': 1962, 'endless': 1963, 'consider': 1964, 'gori': 1965, 'letter': 1966, 'earn': 1967, 'blockbust': 1968, 'underr': 1969, 'miser': 1970, 'switch': 1971, 'brook': 1972, 'solv': 1973, 'edward': 1974, 'joseph': 1975, 'convict': 1976, 'bullet': 1977, 'virgin': 1978, 'victoria': 1979, '0': 1980, 'scale': 1981, 'alex': 1982, 'scenario': 1983, 'cynic': 1984, 'chosen': 1985, 'gut': 1986, 'sword': 1987, 'com': 1988, 'curs': 1989, 'outrag': 1990, 'monkey': 1991, 'driver': 1992, 'proper': 1993, 'screenwrit': 1994, 'juli': 1995, 'wrap': 1996, 'substanc': 1997, 'uk': 1998, 'remov': 1999, 'bird': 2000, 'par': 2001, 'indic': 2002, 'court': 2003, 'loser': 2004, 'inevit': 2005, 'naiv': 2006, 'roy': 2007, 'grave': 2008, 'nanci': 2009, 'consequ': 2010, 'advertis': 2011, 'rental': 2012, 'fatal': 2013, 'slap': 2014, 'bridg': 2015, 'germani': 2016, 'le': 2017, 'invis': 2018, 'brave': 2019, 'ador': 2020, 'provok': 2021, 'anger': 2022, 'loui': 2023, 'footbal': 2024, 'alcohol': 2025, 'anderson': 2026, 'chan': 2027, 'ryan': 2028, 'professor': 2029, 'stumbl': 2030, 'willi': 2031, '1930': 2032, 'patrick': 2033, 'sharp': 2034, 'bat': 2035, 'assassin': 2036, 'australian': 2037, 'saturday': 2038, 'liber': 2039, 'trilog': 2040, 'eight': 2041, 'heck': 2042, 'deni': 2043, 'refresh': 2044, 'lousi': 2045, 'strongli': 2046, 'cell': 2047, 'amateurish': 2048, 'ape': 2049, 'sin': 2050, 'resid': 2051, 'san': 2052, 'justifi': 2053, 'vagu': 2054, 'defeat': 2055, 'terrifi': 2056, 'indi': 2057, 'creator': 2058, 'mini': 2059, 'reput': 2060, 'sympathi': 2061, 'tabl': 2062, 'endur': 2063, 'task': 2064, 'tediou': 2065, 'prevent': 2066, 'expert': 2067, 'offend': 2068, 'imit': 2069, 'employ': 2070, 'trial': 2071, 'che': 2072, 'basebal': 2073, 'rival': 2074, 'dig': 2075, 'weekend': 2076, 'pitch': 2077, 'beach': 2078, 'europ': 2079, 'max': 2080, 'complaint': 2081, 'fairi': 2082, 'risk': 2083, 'format': 2084, 'murphi': 2085, 'purchas': 2086, 'titan': 2087, 'nois': 2088, 'bite': 2089, 'powel': 2090, 'harsh': 2091, 'hype': 2092, 'reminisc': 2093, 'tini': 2094, 'glimps': 2095, '14': 2096, 'asleep': 2097, 'north': 2098, 'prime': 2099, 'till': 2100, 'fals': 2101, 'strip': 2102, 'africa': 2103, 'texa': 2104, 'revel': 2105, 'descript': 2106, 'destruct': 2107, 'surfac': 2108, 'arrest': 2109, 'spin': 2110, 'uninterest': 2111, 'semi': 2112, 'inner': 2113, 'excess': 2114, 'sitcom': 2115, 'maintain': 2116, 'argu': 2117, 'controversi': 2118, 'massiv': 2119, 'hitchcock': 2120, 'twin': 2121, 'dinosaur': 2122, 'makeup': 2123, 'ideal': 2124, 'expens': 2125, 'kim': 2126, 'stare': 2127, 'melodrama': 2128, 'reject': 2129, 'ludicr': 2130, 'insist': 2131, 'ga': 2132, 'nail': 2133, 'press': 2134, 'ala': 2135, 'subplot': 2136, 'atroci': 2137, 'erot': 2138, 'supernatur': 2139, 'forest': 2140, 'columbo': 2141, 'host': 2142, 'presum': 2143, 'identifi': 2144, 'dude': 2145, 'notch': 2146, 'cant': 2147, 'character': 2148, 'closer': 2149, 'guest': 2150, 'crude': 2151, 'forgett': 2152, 'method': 2153, 'plagu': 2154, 'foster': 2155, 'landscap': 2156, 'lion': 2157, 'border': 2158, 'beast': 2159, 'ear': 2160, 'princess': 2161, 'previous': 2162, 'urban': 2163, 'aunt': 2164, 'storytel': 2165, 'birth': 2166, 'bound': 2167, 'accus': 2168, 'jungl': 2169, 'damag': 2170, 'pacino': 2171, 'doll': 2172, 'guid': 2173, 'emma': 2174, 'propaganda': 2175, 'jess': 2176, 'chose': 2177, 'nude': 2178, 'thirti': 2179, 'warrior': 2180, 'pet': 2181, 'mainstream': 2182, 'mate': 2183, 'whoever': 2184, '25': 2185, 'deadli': 2186, 'latest': 2187, 'gritti': 2188, 'cooper': 2189, 'friday': 2190, 'size': 2191, 'merit': 2192, 'exact': 2193, 'poster': 2194, 'upset': 2195, 'blend': 2196, 'sun': 2197, 'buff': 2198, 'contest': 2199, 'settl': 2200, 'citizen': 2201, 'contact': 2202, '1990': 2203, 'warner': 2204, 'corps': 2205, 'rough': 2206, 'wilson': 2207, 'popul': 2208, 'ton': 2209, 'pitt': 2210, 'mgm': 2211, 'alic': 2212, 'select': 2213, 'environ': 2214, 'overcom': 2215, 'metal': 2216, 'bu': 2217, 'rat': 2218, 'widow': 2219, 'particip': 2220, 'guilti': 2221, 'ted': 2222, 'revolut': 2223, 'lift': 2224, 'link': 2225, 'accompani': 2226, '1960': 2227, 'afternoon': 2228, 'matrix': 2229, 'moron': 2230, 'prostitut': 2231, 'exagger': 2232, 'johnson': 2233, 'corner': 2234, 'corpor': 2235, 'doom': 2236, 'instal': 2237, 'sincer': 2238, 'multipl': 2239, 'hood': 2240, 'leagu': 2241, 'clair': 2242, 'holm': 2243, 'friendli': 2244, 'hip': 2245, 'examin': 2246, 'lugosi': 2247, 'irish': 2248, 'junk': 2249, 'sunday': 2250, 'grim': 2251, 'blah': 2252, 'advis': 2253, 'aka': 2254, 'campi': 2255, 'string': 2256, 'defend': 2257, 'confid': 2258, 'tight': 2259, 'varieti': 2260, 'pro': 2261, 'rachel': 2262, 'icon': 2263, 'shake': 2264, 'shut': 2265, 'medic': 2266, 'mexican': 2267, 'directli': 2268, 'attach': 2269, 'denni': 2270, 'sullivan': 2271, 'goal': 2272, 'jaw': 2273, 'terrorist': 2274, 'sarah': 2275, 'courag': 2276, 'legendari': 2277, 'dean': 2278, 'prior': 2279, 'vietnam': 2280, 'breast': 2281, 'truck': 2282, 'duke': 2283, 'sentenc': 2284, 'bourn': 2285, 'split': 2286, 'proceed': 2287, 'hong': 2288, 'nose': 2289, 'entri': 2290, 'un': 2291, 'yell': 2292, 'donald': 2293, 'behav': 2294, 'stolen': 2295, 'lifetim': 2296, 'confess': 2297, 'crush': 2298, 'jerk': 2299, 'swim': 2300, 'borrow': 2301, 'concentr': 2302, 'forth': 2303, 'buri': 2304, 'everywher': 2305, 'gather': 2306, 'unconvinc': 2307, 'california': 2308, 'deliveri': 2309, 'spite': 2310, 'pan': 2311, 'lip': 2312, 'turkey': 2313, 'julia': 2314, 'proud': 2315, 'reward': 2316, 'offici': 2317, 'china': 2318, 'flight': 2319, 'freeman': 2320, 'downright': 2321, 'quest': 2322, 'hoffman': 2323, 'notori': 2324, 'betray': 2325, 'inept': 2326, 'encourag': 2327, 'jon': 2328, 'jail': 2329, 'lazi': 2330, 'fade': 2331, 'fabul': 2332, 'sink': 2333, 'sir': 2334, 'worthwhil': 2335, 'bell': 2336, 'relev': 2337, 'retard': 2338, 'susan': 2339, 'survivor': 2340, 'storm': 2341, 'imageri': 2342, 'teeth': 2343, 'bag': 2344, 'branagh': 2345, 'cousin': 2346, 'lisa': 2347, 'shower': 2348, 'mexico': 2349, 'summari': 2350, 'alright': 2351, 'stab': 2352, 'bride': 2353, 'facial': 2354, 'tremend': 2355, 'finger': 2356, 'toler': 2357, 'quirki': 2358, 'trade': 2359, 'hugh': 2360, 'shark': 2361, 'pose': 2362, 'hyster': 2363, 'blown': 2364, 'von': 2365, 'bitter': 2366, 'ha': 2367, 'ned': 2368, 'cruel': 2369, 'scheme': 2370, 'larri': 2371, 'afterward': 2372, 'christ': 2373, 'bone': 2374, 'ron': 2375, 'address': 2376, 'swear': 2377, 'beg': 2378, 'tour': 2379, 'feed': 2380, 'traci': 2381, 'screw': 2382, 'pursu': 2383, 'snake': 2384, 'distinct': 2385, 'thumb': 2386, 'occas': 2387, 'chair': 2388, 'stomach': 2389, 'raw': 2390, 'mechan': 2391, 'obscur': 2392, 'photo': 2393, 'necessarili': 2394, 'chain': 2395, 'holiday': 2396, 'gruesom': 2397, 'cabin': 2398, 'sidney': 2399, 'argument': 2400, 'heavili': 2401, 'render': 2402, 'resist': 2403, 'southern': 2404, 'hardi': 2405, 'racist': 2406, 'india': 2407, 'satan': 2408, 'indulg': 2409, 'understood': 2410, 'philip': 2411, 'integr': 2412, 'fourth': 2413, 'lay': 2414, 'tongu': 2415, 'forgot': 2416, 'stalk': 2417, 'pregnant': 2418, 'obnoxi': 2419, 'belov': 2420, 'outfit': 2421, 'midnight': 2422, '17': 2423, 'slapstick': 2424, 'garden': 2425, 'carol': 2426, 'deeper': 2427, 'restor': 2428, 'magazin': 2429, 'ticket': 2430, 'inhabit': 2431, 'shoe': 2432, 'brad': 2433, 'devot': 2434, 'incid': 2435, 'lincoln': 2436, 'underground': 2437, 'anticip': 2438, 'divorc': 2439, 'disbelief': 2440, 'elizabeth': 2441, 'benefit': 2442, 'lili': 2443, 'maria': 2444, 'sandler': 2445, 'guarante': 2446, 'cring': 2447, 'mildli': 2448, 'capit': 2449, 'greater': 2450, 'princip': 2451, 'bbc': 2452, 'slave': 2453, 'amazingli': 2454, 'creation': 2455, 'explod': 2456, 'halfway': 2457, 'extraordinari': 2458, 'introduct': 2459, 'funnier': 2460, 'lesli': 2461, 'advantag': 2462, 'enhanc': 2463, 'transfer': 2464, 'extent': 2465, 'overwhelm': 2466, 'text': 2467, 'tap': 2468, 'wreck': 2469, 'punish': 2470, 'deliber': 2471, 'preview': 2472, 'dynam': 2473, 'lo': 2474, 'east': 2475, 'jessica': 2476, 'horrif': 2477, 'error': 2478, 'lane': 2479, 'plant': 2480, 'homosexu': 2481, 'ensu': 2482, 'miscast': 2483, 'vacat': 2484, 'sophist': 2485, 'appli': 2486, 'miller': 2487, 'vincent': 2488, '2000': 2489, 'basi': 2490, 'mansion': 2491, 'spoken': 2492, 'measur': 2493, 'elev': 2494, 'uncomfort': 2495, 'bollywood': 2496, 'steel': 2497, 'extend': 2498, 'via': 2499, 'sleazi': 2500, 'reed': 2501, 'breathtak': 2502, 'conceiv': 2503, 'assign': 2504, 'blair': 2505, 'hippi': 2506, 'alter': 2507, 'daili': 2508, 'stanley': 2509, 'overact': 2510, 'dentist': 2511, 'savag': 2512, 'goofi': 2513, 'fix': 2514, 'mous': 2515, 'cathol': 2516, 'melt': 2517, 'beer': 2518, 'inspector': 2519, 'burt': 2520, 'sacrific': 2521, 'oppos': 2522, 'everyday': 2523, 'subsequ': 2524, 'properli': 2525, 'nowaday': 2526, 'succe': 2527, 'carpent': 2528, 'block': 2529, 'massacr': 2530, 'circl': 2531, 'neck': 2532, 'laura': 2533, 'christi': 2534, 'portrait': 2535, 'access': 2536, 'grey': 2537, 'fay': 2538, 'concert': 2539, 'fallen': 2540, 'pool': 2541, 'lesser': 2542, 'mob': 2543, 'seagal': 2544, 'relax': 2545, 'isol': 2546, 'chees': 2547, 'jake': 2548, 'sinist': 2549, 'jewish': 2550, 'react': 2551, 'competit': 2552, 'usa': 2553, 'nine': 2554, 'creep': 2555, 'nonetheless': 2556, 'immens': 2557, 'suitabl': 2558, 'ironi': 2559, 'lyric': 2560, 'stink': 2561, 'appal': 2562, 'spiritu': 2563, '2006': 2564, 'chop': 2565, 'retir': 2566, 'nut': 2567, 'reduc': 2568, 'shirt': 2569, 'adopt': 2570, 'user': 2571, 'showcas': 2572, 'navi': 2573, 'needless': 2574, 'luci': 2575, 'franchis': 2576, 'spring': 2577, 'rage': 2578, 'sold': 2579, 'asham': 2580, 'digit': 2581, 'per': 2582, 'uninspir': 2583, 'bulli': 2584, 'stanwyck': 2585, 'bath': 2586, 'jay': 2587, 'nurs': 2588, 'zone': 2589, 'amongst': 2590, 'upper': 2591, 'oddli': 2592, 'illustr': 2593, '1940': 2594, 'broadcast': 2595, '2001': 2596, 'sutherland': 2597, 'laid': 2598, 'brando': 2599, 'fulfil': 2600, 'throat': 2601, 'stylish': 2602, 'aspir': 2603, 'disguis': 2604, 'baker': 2605, 'endear': 2606, 'wanna': 2607, 'neighborhood': 2608, 'impli': 2609, 'em': 2610, 'wwii': 2611, 'pound': 2612, 'pride': 2613, '18': 2614, 'nobl': 2615, 'thief': 2616, 'shift': 2617, 'coher': 2618, 'bo': 2619, 'dinner': 2620, 'dawn': 2621, 'cinematograph': 2622, 'bett': 2623, 'distribut': 2624, 'shoulder': 2625, 'rochest': 2626, 'tens': 2627, 'prop': 2628, 'albeit': 2629, 'diseas': 2630, '16': 2631, 'snow': 2632, 'matthau': 2633, 'contract': 2634, 'shout': 2635, 'silenc': 2636, 'function': 2637, 'wash': 2638, 'knife': 2639, 'rebel': 2640, 'forti': 2641, 'poignant': 2642, 'surf': 2643, 'chuck': 2644, 'instinct': 2645, 'derek': 2646, 'cancel': 2647, 'horrend': 2648, 'internet': 2649, 'mindless': 2650, 'duti': 2651, 'heat': 2652, 'silver': 2653, 'height': 2654, 'eeri': 2655, 'proof': 2656, 'reunion': 2657, 'henc': 2658, 'widmark': 2659, 'cannib': 2660, 'elvira': 2661, 'neat': 2662, 'spielberg': 2663, 'pie': 2664, 'etern': 2665, 'absorb': 2666, 'greatli': 2667, 'innov': 2668, 'musician': 2669, 'torn': 2670, 'premier': 2671, 'repetit': 2672, 'glori': 2673, 'incoher': 2674, 'mill': 2675, 'alik': 2676, 'elvi': 2677, 'diamond': 2678, 'trite': 2679, 'burton': 2680, 'redempt': 2681, 'britain': 2682, 'homag': 2683, 'crisi': 2684, 'wealthi': 2685, 'infam': 2686, 'racism': 2687, 'bang': 2688, 'lovabl': 2689, 'announc': 2690, 'horrifi': 2691, 'precis': 2692, 'fbi': 2693, 'blank': 2694, 'nelson': 2695, 'itali': 2696, 'flop': 2697, 'helen': 2698, 'dedic': 2699, 'parallel': 2700, 'streisand': 2701, 'pat': 2702, 'hammer': 2703, 'resolut': 2704, 'chaplin': 2705, 'ensembl': 2706, 'happili': 2707, 'wilder': 2708, 'conclud': 2709, 'factori': 2710, 'st': 2711, 'triumph': 2712, 'broke': 2713, 'disagre': 2714, 'oil': 2715, 'mar': 2716, 'carter': 2717, 'plastic': 2718, 'cube': 2719, 'weight': 2720, 'climb': 2721, 'row': 2722, 'chuckl': 2723, 'own': 2724, 'fighter': 2725, 'march': 2726, 'rocket': 2727, 'bush': 2728, 'vega': 2729, 'dump': 2730, 'sensibl': 2731, 'mst3k': 2732, 'spare': 2733, 'unforgett': 2734, 'wherea': 2735, 'meaning': 2736, 'kurt': 2737, 'dane': 2738, 'lust': 2739, 'luca': 2740, 'boot': 2741, 'enorm': 2742, 'thug': 2743, 'fifti': 2744, 'threat': 2745, 'rap': 2746, 'arnold': 2747, 'brand': 2748, 'bobbi': 2749, 'difficulti': 2750, 'karloff': 2751, 'adequ': 2752, 'stress': 2753, 'butt': 2754, 'dear': 2755, 'engin': 2756, 'caricatur': 2757, 'swing': 2758, 'fest': 2759, 'ralph': 2760, 'barri': 2761, 'secretari': 2762, 'ego': 2763, 'journalist': 2764, 'arrog': 2765, 'flynn': 2766, 'elabor': 2767, 'polish': 2768, 'hamlet': 2769, 'homeless': 2770, 'float': 2771, 'induc': 2772, 'grate': 2773, 'tool': 2774, 'conspiraci': 2775, 'puppet': 2776, 'unbear': 2777, 'spike': 2778, 'arrang': 2779, 'resort': 2780, 'simpson': 2781, 'fanci': 2782, 'cruis': 2783, 'exercis': 2784, 'phillip': 2785, 'tribut': 2786, 'basement': 2787, 'choreograph': 2788, 'guilt': 2789, 'boll': 2790, 'pig': 2791, 'muppet': 2792, 'toilet': 2793, 'ham': 2794, 'layer': 2795, 'babe': 2796, 'medium': 2797, 'korean': 2798, 'document': 2799, 'tower': 2800, 'puzzl': 2801, 'slip': 2802, 'item': 2803, '24': 2804, 'file': 2805, 'fianc': 2806, 'ward': 2807, 'editor': 2808, 'scarecrow': 2809, 'stan': 2810, 'minim': 2811, 'assur': 2812, 'philosoph': 2813, 'persona': 2814, 'orient': 2815, 'superfici': 2816, 'librari': 2817, 'catherin': 2818, 'larger': 2819, 'denzel': 2820, 'portion': 2821, 'territori': 2822, 'transit': 2823, 'glover': 2824, 'slaughter': 2825, 'spark': 2826, 'inexplic': 2827, 'doc': 2828, 'jeremi': 2829, 'ban': 2830, 'pg': 2831, 'owe': 2832, 'shi': 2833, 'boredom': 2834, 'financi': 2835, 'wolf': 2836, 'sneak': 2837, 'curti': 2838, 'dorothi': 2839, 'jet': 2840, 'walken': 2841, 'multi': 2842, 'metaphor': 2843, 'ambigu': 2844, 'cusack': 2845, 'backdrop': 2846, 'eleph': 2847, 'profound': 2848, 'hudson': 2849, 'whale': 2850, '2005': 2851, 'notion': 2852, 'union': 2853, 'birthday': 2854, 'hack': 2855, 'stiff': 2856, 'ultra': 2857, 'implaus': 2858, 'elsewher': 2859, 'viru': 2860, 'rave': 2861, 'gadget': 2862, 'slight': 2863, 'newspap': 2864, 'lloyd': 2865, 'deriv': 2866, 'canada': 2867, 'disc': 2868, 'reader': 2869, 'urg': 2870, '1st': 2871, 'poison': 2872, 'distanc': 2873, 'eva': 2874, 'squar': 2875, 'eastwood': 2876, 'afford': 2877, 'bibl': 2878, 'superhero': 2879, 'hawk': 2880, 'pad': 2881, 'charisma': 2882, 'sadist': 2883, 'essenc': 2884, 'heston': 2885, 'restaur': 2886, 'health': 2887, 'skit': 2888, 'spread': 2889, 'huh': 2890, 'button': 2891, 'montag': 2892, 'cure': 2893, 'drown': 2894, 'peak': 2895, 'estat': 2896, 'gradual': 2897, 'dealt': 2898, 'companion': 2899, 'maniac': 2900, 'fetch': 2901, 'invest': 2902, 'lab': 2903, 'godfath': 2904, 'muslim': 2905, 'scoobi': 2906, 'gothic': 2907, 'kane': 2908, 'countless': 2909, 'alli': 2910, 'subtleti': 2911, 'tea': 2912, 'servant': 2913, 'miik': 2914, 'ritter': 2915, 'cup': 2916, 'salli': 2917, 'briefli': 2918, 'charismat': 2919, 'iii': 2920, 'electr': 2921, 'heroic': 2922, 'elect': 2923, 'ingredi': 2924, 'neil': 2925, 'reel': 2926, 'resourc': 2927, 'bud': 2928, 'wannab': 2929, 'admittedli': 2930, 'nuanc': 2931, 'toss': 2932, 'tender': 2933, 'cole': 2934, 'grandmoth': 2935, 'punk': 2936, 'pit': 2937, 'pauli': 2938, 'label': 2939, 'mild': 2940, 'shall': 2941, 'kubrick': 2942, 'dawson': 2943, 'poverti': 2944, 'stood': 2945, 'carrey': 2946, 'stronger': 2947, 'reev': 2948, 'mafia': 2949, 'gate': 2950, 'smash': 2951, 'useless': 2952, 'cardboard': 2953, 'smooth': 2954, 'bakshi': 2955, 'easier': 2956, 'assault': 2957, 'fond': 2958, 'burst': 2959, 'updat': 2960, 'terri': 2961, 'cox': 2962, 'tag': 2963, 'outcom': 2964, 'ian': 2965, 'astair': 2966, 'resolv': 2967, 'exchang': 2968, 'vulner': 2969, 'fist': 2970, '2002': 2971, 'sketch': 2972, 'vari': 2973, 'melodramat': 2974, 'coincid': 2975, 'increasingli': 2976, 'qualifi': 2977, 'rex': 2978, 'divers': 2979, 'samurai': 2980, 'reynold': 2981, 'scratch': 2982, 'insert': 2983, 'suspend': 2984, 'tame': 2985, 'luckili': 2986, 'templ': 2987, 'conveni': 2988, 'brillianc': 2989, 'be': 2990, 'blast': 2991, 'soprano': 2992, 'pin': 2993, 'coach': 2994, 'strictli': 2995, 'meat': 2996, 'hamilton': 2997, 'matthew': 2998, 'nuclear': 2999, 'seventi': 3000, 'walker': 3001, 'jami': 3002, 'gotta': 3003, 'ambiti': 3004, 'fisher': 3005, 'farm': 3006, 'worthless': 3007, 'spooki': 3008, 'empir': 3009, 'brosnan': 3010, 'closet': 3011, 'recreat': 3012, 'convolut': 3013, 'timeless': 3014, 'butcher': 3015, 'grasp': 3016, 'struck': 3017, 'eccentr': 3018, 'kudo': 3019, 'discoveri': 3020, 'instantli': 3021, 'revers': 3022, 'clock': 3023, 'cave': 3024, 'ninja': 3025, 'monk': 3026, 'joey': 3027, 'selfish': 3028, 'sloppi': 3029, 'pal': 3030, 'importantli': 3031, 'cliff': 3032, 'fifteen': 3033, 'miracl': 3034, 'gray': 3035, 'inconsist': 3036, 'communist': 3037, 'eighti': 3038, 'declar': 3039, 'wipe': 3040, 'partli': 3041, 'clown': 3042, 'norman': 3043, 'seller': 3044, 'mitchel': 3045, 'bleak': 3046, 'sidekick': 3047, 'evok': 3048, 'superbl': 3049, 'enthusiast': 3050, 'websit': 3051, 'piano': 3052, 'flawless': 3053, 'psychiatrist': 3054, 'destin': 3055, 'debat': 3056, 'ho': 3057, 'aforement': 3058, 'farc': 3059, 'cheek': 3060, 'lifestyl': 3061, 'australia': 3062, 'stoog': 3063, '45': 3064, 'chew': 3065, 'seed': 3066, 'bash': 3067, 'wrestl': 3068, 'anni': 3069, 'soviet': 3070, 'incompet': 3071, 'akshay': 3072, 'dash': 3073, 'directori': 3074, 'dire': 3075, 'regardless': 3076, 'splatter': 3077, 'drivel': 3078, 'abc': 3079, 'kitchen': 3080, 'wick': 3081, 'emili': 3082, 'slice': 3083, 'pressur': 3084, 'cia': 3085, 'dave': 3086, 'blob': 3087, 'curios': 3088, 'ken': 3089, 'distant': 3090, 'pleasantli': 3091, 'duo': 3092, 'glow': 3093, 'boil': 3094, 'mann': 3095, 'recov': 3096, 'increas': 3097, 'cameron': 3098, 'jar': 3099, 'flower': 3100, 'artifici': 3101, 'judi': 3102, 'beaten': 3103, 'suppli': 3104, 'cagney': 3105, 'seduc': 3106, 'lou': 3107, 'chapter': 3108, 'prize': 3109, 'helicopt': 3110, 'doo': 3111, 'turner': 3112, 'combat': 3113, 'web': 3114, 'hop': 3115, 'craig': 3116, 'francisco': 3117, 'glenn': 3118, 'splendid': 3119, 'panic': 3120, 'eleg': 3121, 'psychot': 3122, 'goldberg': 3123, 'craven': 3124, 'perri': 3125, 'favour': 3126, 'ranger': 3127, 'ellen': 3128, 'laurel': 3129, 'drunken': 3130, 'graduat': 3131, 'gandhi': 3132, '20th': 3133, 'flip': 3134, 'shortli': 3135, 'plausibl': 3136, 'alexand': 3137, 'gentl': 3138, 'hatr': 3139, 'slightest': 3140, 'min': 3141, 'ruth': 3142, 'greek': 3143, 'philosophi': 3144, 'modesti': 3145, 'rid': 3146, 'wizard': 3147, 'falk': 3148, 'fx': 3149, 'ocean': 3150, 'felix': 3151, 'manhattan': 3152, 'dracula': 3153, 'legal': 3154, 'holi': 3155, 'harm': 3156, 'unpleas': 3157, 'fund': 3158, 'we': 3159, 'preciou': 3160, 'lend': 3161, 'jealou': 3162, 'futurist': 3163, 'knight': 3164, 'tall': 3165, 'overdon': 3166, 'explicit': 3167, 'reviv': 3168, 'mock': 3169, 'ami': 3170, 'childish': 3171, 'nod': 3172, 'thread': 3173, 'tank': 3174, 'scientif': 3175, 'forbidden': 3176, 'digniti': 3177, 'bless': 3178, 'giallo': 3179, 'verhoeven': 3180, 'awaken': 3181, 'thick': 3182, 'broad': 3183, 'eve': 3184, 'elderli': 3185, 'unwatch': 3186, 'fever': 3187, 'mel': 3188, 'pirat': 3189, 'nerv': 3190, 'margaret': 3191, '2004': 3192, '99': 3193, 'repeatedli': 3194, 'torment': 3195, 'yesterday': 3196, 'awe': 3197, 'lean': 3198, 'automat': 3199, 'uniform': 3200, 'ah': 3201, 'kay': 3202, 'timothi': 3203, 'ambit': 3204, 'griffith': 3205, 'custom': 3206, 'politician': 3207, 'rivet': 3208, 'stiller': 3209, 'roman': 3210, 'royal': 3211, 'romero': 3212, 'absenc': 3213, 'acclaim': 3214, 'publish': 3215, 'eas': 3216, 'launch': 3217, 'bin': 3218, 'stinker': 3219, 'wallac': 3220, 'purpl': 3221, 'crook': 3222, 'gabriel': 3223, 'antic': 3224, 'pierc': 3225, 'pulp': 3226, 'darker': 3227, 'bathroom': 3228, 'termin': 3229, 'tomato': 3230, 'homicid': 3231, 'phrase': 3232, 'sunshin': 3233, 'foul': 3234, 'transport': 3235, 'warren': 3236, 'donna': 3237, 'evolv': 3238, 'karen': 3239, 'kenneth': 3240, 'contrari': 3241, 'prom': 3242, 'eyr': 3243, 'revolutionari': 3244, 'coloni': 3245, 'brazil': 3246, 'viciou': 3247, 'li': 3248, 'pray': 3249, 'packag': 3250, 'awak': 3251, 'ought': 3252, '2003': 3253, 'marin': 3254, 'saint': 3255, 'hollow': 3256, 'q': 3257, 'juvenil': 3258, 'album': 3259, 'horrid': 3260, 'sixti': 3261, 'choreographi': 3262, 'rambo': 3263, 'blade': 3264, 'beatti': 3265, 'mummi': 3266, 'overr': 3267, 'ireland': 3268, 'stole': 3269, 'option': 3270, 'candid': 3271, 'boast': 3272, 'dose': 3273, 'nerd': 3274, 'defi': 3275, 'twelv': 3276, 'conserv': 3277, 'mildr': 3278, 'kapoor': 3279, 'ramon': 3280, 'natali': 3281, 'collabor': 3282, 'funer': 3283, 'flame': 3284, 'astonish': 3285, 'detract': 3286, 'confirm': 3287, 'jazz': 3288, 'global': 3289, 'protest': 3290, 'kirk': 3291, 'trio': 3292, 'altman': 3293, 'fulci': 3294, 'yellow': 3295, 'leap': 3296, 'audio': 3297, 'enterpris': 3298, 'tommi': 3299, 'bull': 3300, 'delici': 3301, 'blake': 3302, 'destini': 3303, 'nicholson': 3304, 'shade': 3305, 'bottl': 3306, 'mystic': 3307, 'racial': 3308, 'whip': 3309, 'spit': 3310, 'meaningless': 3311, 'bedroom': 3312, 'swedish': 3313, 'altogeth': 3314, 'reunit': 3315, 'harder': 3316, 'neo': 3317, 'adolesc': 3318, 'todd': 3319, 'vivid': 3320, 'inherit': 3321, 'visibl': 3322, 'staff': 3323, 'pseudo': 3324, 'threw': 3325, 'popcorn': 3326, 'enchant': 3327, 'fonda': 3328, 'merci': 3329, 'respond': 3330, 'suspici': 3331, 'lemmon': 3332, 'roommat': 3333, 'await': 3334, 'ruthless': 3335, 'decor': 3336, 'lawrenc': 3337, 'edi': 3338, 'fanat': 3339, 'moodi': 3340, 'uneven': 3341, 'tip': 3342, 'kennedi': 3343, 'bust': 3344, 'reserv': 3345, 'befriend': 3346, 'exhibit': 3347, 'atlanti': 3348, 'crocodil': 3349, 'jew': 3350, 'synopsi': 3351, 'leonard': 3352, 'wire': 3353, 'voight': 3354, 'madonna': 3355, 'ventur': 3356, 'bold': 3357, 'centr': 3358, 'audit': 3359, 'chao': 3360, 'clumsi': 3361, 'abysm': 3362, '2007': 3363, 'palma': 3364, 'unsettl': 3365, 'carl': 3366, 'incident': 3367, 'dimens': 3368, 'voyag': 3369, 'rural': 3370, 'holli': 3371, 'bradi': 3372, 'bargain': 3373, 'garner': 3374, 'clint': 3375, 'elimin': 3376, 'trail': 3377, 'imperson': 3378, 'characterist': 3379, 'humili': 3380, 'versu': 3381, 'immigr': 3382, 'poetic': 3383, 'cari': 3384, 'mall': 3385, 'tiger': 3386, 'cuba': 3387, 'acknowledg': 3388, 'echo': 3389, 'wealth': 3390, 'lit': 3391, 'nearbi': 3392, 'hart': 3393, 'daddi': 3394, 'troop': 3395, 'ant': 3396, '2nd': 3397, 'neglect': 3398, 'timon': 3399, 'cd': 3400, 'paus': 3401, 'repuls': 3402, 'mickey': 3403, 'solo': 3404, 'marshal': 3405, 'mistaken': 3406, 'collaps': 3407, 'celluloid': 3408, 'jeffrey': 3409, 'infect': 3410, 'domest': 3411, 'pun': 3412, 'homer': 3413, 'saga': 3414, 'prejudic': 3415, 'milk': 3416, 'undoubtedli': 3417, 'olivi': 3418, 'harvey': 3419, 'leon': 3420, 'pant': 3421, 'gear': 3422, 'tribe': 3423, 'inappropri': 3424, '1996': 3425, 'apolog': 3426, 'chest': 3427, 'sore': 3428, 'equip': 3429, 'interrupt': 3430, 'assembl': 3431, 'hbo': 3432, 'coffe': 3433, 'inan': 3434, 'coat': 3435, 'promin': 3436, 'ginger': 3437, 'cake': 3438, 'highest': 3439, 'florida': 3440, 'colleagu': 3441, 'furthermor': 3442, 'devast': 3443, 'pot': 3444, 'solut': 3445, 'institut': 3446, 'jenni': 3447, 'retain': 3448, 'primari': 3449, 'exot': 3450, 'trace': 3451, 'embrac': 3452, 'airplan': 3453, 'pen': 3454, 'maggi': 3455, 'vulgar': 3456, 'humbl': 3457, 'polanski': 3458, 'brooklyn': 3459, 'instant': 3460, 'consum': 3461, 'colonel': 3462, 'aveng': 3463, 'poke': 3464, 'cope': 3465, 'smaller': 3466, 'ya': 3467, 'wive': 3468, 'descend': 3469, 'outer': 3470, '1999': 3471, 'seduct': 3472, '3rd': 3473, 'rick': 3474, 'principl': 3475, 'disabl': 3476, 'dian': 3477, 'dutch': 3478, 'strain': 3479, 'godzilla': 3480, 'gender': 3481, 'bowl': 3482, 'illog': 3483, 'linda': 3484, 'sale': 3485, 'cue': 3486, 'hal': 3487, 'bubbl': 3488, 'primarili': 3489, 'devoid': 3490, 'dud': 3491, 'predecessor': 3492, 'yard': 3493, 'inferior': 3494, 'dive': 3495, 'lol': 3496, 'mixtur': 3497, 'scope': 3498, 'secondli': 3499, 'rabbit': 3500, 'blatant': 3501, 'beneath': 3502, 'gundam': 3503, 'vast': 3504, 'gloriou': 3505, 'glamor': 3506, 'invas': 3507, 'senseless': 3508, 'disjoint': 3509, 'aggress': 3510, 'pearl': 3511, 'alfr': 3512, 'trademark': 3513, 'talki': 3514, 'arab': 3515, 'museum': 3516, 'april': 3517, 'myer': 3518, 'shelf': 3519, 'grinch': 3520, 'z': 3521, 'casual': 3522, 'simplist': 3523, 'countrysid': 3524, 'shirley': 3525, 'et': 3526, 'streep': 3527, 'alert': 3528, 'garbo': 3529, 'hideou': 3530, 'domino': 3531, 'breed': 3532, 'rendit': 3533, 'vanish': 3534, 'robinson': 3535, 'hardcor': 3536, 'stellar': 3537, 'disgrac': 3538, 'loyal': 3539, 'obtain': 3540, 'experiment': 3541, 'maci': 3542, 'mail': 3543, 'sh': 3544, 'khan': 3545, 'hopeless': 3546, 'boom': 3547, 'defens': 3548, 'applaud': 3549, 'acid': 3550, 'slide': 3551, 'mayor': 3552, 'unhappi': 3553, 'stack': 3554, 'uwe': 3555, 'illeg': 3556, 'oz': 3557, 'robberi': 3558, 'stir': 3559, 'spider': 3560, 'span': 3561, 'amanda': 3562, 'emphasi': 3563, 'craze': 3564, 'counter': 3565, 'hartley': 3566, 'fri': 3567, 'dismiss': 3568, 'soccer': 3569, 'grandfath': 3570, 'topless': 3571, 'wont': 3572, 'recruit': 3573, 'blew': 3574, 'diana': 3575, 'berlin': 3576, 'incomprehens': 3577, 'psychic': 3578, 'rifl': 3579, 'tempt': 3580, 'declin': 3581, 'dicken': 3582, 'scroog': 3583, 'tenant': 3584, 'woo': 3585, 'wet': 3586, 'sympath': 3587, 'riot': 3588, 'intim': 3589, 'bitch': 3590, 'resurrect': 3591, 'niro': 3592, 'trashi': 3593, 'shed': 3594, 'parad': 3595, 'goer': 3596, 'ration': 3597, 'porno': 3598, 'ethnic': 3599, 'justin': 3600, 'revolt': 3601, 'sibl': 3602, 'lumet': 3603, 'faster': 3604, 'shaw': 3605, 'partial': 3606, 'unreal': 3607, 'hesit': 3608, 'eager': 3609, 'commend': 3610, 'honesti': 3611, 'dealer': 3612, 'gap': 3613, 'farmer': 3614, 'choru': 3615, 'biographi': 3616, 'enlighten': 3617, 'hopper': 3618, 'rider': 3619, 'feminist': 3620, 'patriot': 3621, 'wheel': 3622, 'immort': 3623, 'weakest': 3624, 'mario': 3625, 'region': 3626, 'nephew': 3627, 'ballet': 3628, 'ensur': 3629, '00': 3630, 'andr': 3631, 'worm': 3632, 'slick': 3633, 'steam': 3634, 'wendi': 3635, 'lena': 3636, 'jonathan': 3637, 'repress': 3638, 'vice': 3639, 'prequel': 3640, 'safeti': 3641, 'morri': 3642, 'psychopath': 3643, 'util': 3644, 'leo': 3645, 'hung': 3646, 'composit': 3647, 'wore': 3648, 'blunt': 3649, 'kingdom': 3650, 'franco': 3651, 'confin': 3652, 'owen': 3653, 'charlott': 3654, 'mutant': 3655, 'similarli': 3656, 'sappi': 3657, 'sandra': 3658, 'properti': 3659, 'victori': 3660, 'skull': 3661, 'snap': 3662, 'nostalg': 3663, 'macarthur': 3664, 'compens': 3665, 'nervou': 3666, '1972': 3667, 'tad': 3668, 'despair': 3669, 'farrel': 3670, 'repli': 3671, 'miseri': 3672, 'heartbreak': 3673, 'compass': 3674, 'del': 3675, 'emperor': 3676, 'dalton': 3677, 'drain': 3678, 'recycl': 3679, 'acquir': 3680, 'thru': 3681, 'hyde': 3682, 'bumbl': 3683, 'kyle': 3684, 'pattern': 3685, 'whoopi': 3686, 'montana': 3687, 'strand': 3688, 'deed': 3689, 'rope': 3690, 'speci': 3691, 'drum': 3692, 'snl': 3693, 'rocki': 3694, 'dust': 3695, 'bergman': 3696, 'cg': 3697, 'bonu': 3698, 'tail': 3699, 'rambl': 3700, 'bow': 3701, 'campbel': 3702, 'latin': 3703, 'exit': 3704, 'valuabl': 3705, 'percept': 3706, 'mistress': 3707, 'wacki': 3708, 'da': 3709, 'slug': 3710, 'orson': 3711, 'pour': 3712, 'gimmick': 3713, 'gal': 3714, 'rotten': 3715, 'contempl': 3716, 'bleed': 3717, 'airport': 3718, 'oppress': 3719, 'romp': 3720, 'martian': 3721, 'tonight': 3722, '35': 3723, 'downhil': 3724, 'roth': 3725, 'carradin': 3726, 'rapist': 3727, 'chess': 3728, 'radic': 3729, 'olli': 3730, 'dazzl': 3731, 'preach': 3732, 'arguabl': 3733, 'paltrow': 3734, 'taught': 3735, 'stilt': 3736, '1983': 3737, 'slash': 3738, 'banal': 3739, 'edgar': 3740, 'programm': 3741, 'shelley': 3742, 'tooth': 3743, 'unpredict': 3744, 'belt': 3745, 'champion': 3746, 'pervert': 3747, 'pervers': 3748, 'pursuit': 3749, 'mislead': 3750, 'attorney': 3751, 'tackl': 3752, 'arc': 3753, 'heal': 3754, 'melodi': 3755, 'gambl': 3756, 'vocal': 3757, 'closest': 3758, 'uplift': 3759, 'chicken': 3760, 'orang': 3761, 'mesmer': 3762, 'raymond': 3763, 'bela': 3764, 'employe': 3765, 'duval': 3766, 'passeng': 3767, 'virginia': 3768, 'sensat': 3769, 'marti': 3770, 'rubi': 3771, 'graham': 3772, 'tiresom': 3773, 'poem': 3774, 'dixon': 3775, 'maid': 3776, 'vengeanc': 3777, 'franki': 3778, 'cleverli': 3779, 'plight': 3780, 'conneri': 3781, 'convincingli': 3782, 'volum': 3783, 'clone': 3784, 'bay': 3785, 'monologu': 3786, 'quarter': 3787, 'habit': 3788, 'outing': 3789, 'extens': 3790, 'tube': 3791, 'abraham': 3792, 'whine': 3793, 'calm': 3794, 'giggl': 3795, 'secretli': 3796, 'pokemon': 3797, 'scottish': 3798, 'numb': 3799, 'paranoia': 3800, 'lundgren': 3801, 'profan': 3802, 'climact': 3803, 'inject': 3804, 'sirk': 3805, 'suffic': 3806, '1968': 3807, 'gerard': 3808, 'swallow': 3809, 'engross': 3810, 'crystal': 3811, 'yawn': 3812, 'amitabh': 3813, 'mute': 3814, 'iran': 3815, 'backward': 3816, 'taxi': 3817, 'frankenstein': 3818, 'franci': 3819, 'junior': 3820, 'lowest': 3821, 'septemb': 3822, 'meander': 3823, 'abort': 3824, 'expand': 3825, 'richardson': 3826, 'chicago': 3827, 'profess': 3828, 'bend': 3829, 'grotesqu': 3830, 'im': 3831, 'underst': 3832, 'nichola': 3833, 'poetri': 3834, 'dispos': 3835, 'linger': 3836, 'trend': 3837, 'spock': 3838, 'plod': 3839, 'ethan': 3840, 'austen': 3841, 'fed': 3842, 'surpass': 3843, 'earl': 3844, 'lure': 3845, 'greedi': 3846, 'compliment': 3847, 'der': 3848, 'rubber': 3849, 'hum': 3850, 'econom': 3851, 'household': 3852, 'literatur': 3853, 'rant': 3854, 'muddl': 3855, 'catchi': 3856, 'dysfunct': 3857, 'tourist': 3858, 'eugen': 3859, 'sue': 3860, 'mundan': 3861, 'cannon': 3862, 'waitress': 3863, 'simplic': 3864, 'instrument': 3865, 'myth': 3866, 'spoke': 3867, 'nostalgia': 3868, 'descent': 3869, 'stallon': 3870, 'coast': 3871, 'insur': 3872, 'stale': 3873, 'phoni': 3874, 'firstli': 3875, 'eaten': 3876, 'irrelev': 3877, 'hello': 3878, 'crucial': 3879, 'deaf': 3880, 'omen': 3881, 'dement': 3882, 'occupi': 3883, 'sissi': 3884, 'dictat': 3885, 'furi': 3886, 'mankind': 3887, 'june': 3888, 'recognis': 3889, 'alongsid': 3890, 'cent': 3891, 'flee': 3892, 'mortal': 3893, 'damon': 3894, 'louis': 3895, 'bacal': 3896, 'equival': 3897, 'map': 3898, 'recognit': 3899, 'carel': 3900, 'randi': 3901, 'duck': 3902, 'phantom': 3903, 'lang': 3904, 'molli': 3905, 'loyalti': 3906, 'bump': 3907, 'freez': 3908, 'lengthi': 3909, 'distinguish': 3910, 'rooney': 3911, 'blackmail': 3912, 'rude': 3913, 'ashley': 3914, 'labor': 3915, '1973': 3916, 'heel': 3917, 'wisdom': 3918, 'likewis': 3919, 'daisi': 3920, 'grayson': 3921, 'drake': 3922, 'buffalo': 3923, 'twilight': 3924, 'cyborg': 3925, 'antwon': 3926, 'reign': 3927, 'biko': 3928, 'dreari': 3929, 'newli': 3930, 'bike': 3931, 'damm': 3932, 'onlin': 3933, 'unorigin': 3934, 'inher': 3935, 'interior': 3936, 'vein': 3937, 'ridden': 3938, 'prey': 3939, 'baddi': 3940, 'barrymor': 3941, 'nineti': 3942, 'butler': 3943, 'proce': 3944, 'provoc': 3945, 'attribut': 3946, 'basketbal': 3947, 'startl': 3948, 'keith': 3949, 'emphas': 3950, 'analysi': 3951, 'exposur': 3952, 'incorpor': 3953, 'sailor': 3954, 'approv': 3955, 'pink': 3956, 'chronicl': 3957, 'tunnel': 3958, 'boxer': 3959, 'worn': 3960, 'predat': 3961, 'simmon': 3962, 'millionair': 3963, 'unrel': 3964, 'undeni': 3965, 'barrel': 3966, 'substitut': 3967, 'othello': 3968, 'robbin': 3969, 'drift': 3970, 'carla': 3971, 'walsh': 3972, 'er': 3973, 'fleet': 3974, 'elm': 3975, 'condemn': 3976, 'meg': 3977, 'hypnot': 3978, 'improvis': 3979, 'nicol': 3980, 'belushi': 3981, 'julian': 3982, 'bunni': 3983, 'mighti': 3984, 'stalker': 3985, 'meyer': 3986, 'indiffer': 3987, 'underli': 3988, 'degrad': 3989, 'mormon': 3990, 'edgi': 3991, 'firm': 3992, 'reid': 3993, 'roof': 3994, 'watson': 3995, 'vital': 3996, 'nyc': 3997, 'alarm': 3998, 'rukh': 3999, 'marion': 4000, 'lampoon': 4001, 'mtv': 4002, 'dolph': 4003, 'greed': 4004, 'shove': 4005, 'agenda': 4006, 'priceless': 4007, 'novak': 4008, 'unawar': 4009, 'exquisit': 4010, 'palac': 4011, 'disord': 4012, 'alison': 4013, 'warmth': 4014, 'hay': 4015, 'enthusiasm': 4016, 'errol': 4017, '3d': 4018, 'profit': 4019, 'cassidi': 4020, 'championship': 4021, 'thompson': 4022, '13th': 4023, 'testament': 4024, 'campaign': 4025, 'israel': 4026, 'crown': 4027, 'drip': 4028, 'minimum': 4029, 'preserv': 4030, 'petti': 4031, 'session': 4032, 'spain': 4033, 'what': 4034, 'orlean': 4035, 'peck': 4036, 'randomli': 4037, 'glanc': 4038, 'sergeant': 4039, 'beatl': 4040, 'gestur': 4041, 'eastern': 4042, '1933': 4043, 'coup': 4044, 'iraq': 4045, 'unleash': 4046, 'peril': 4047, 'pamela': 4048, 'angela': 4049, 'ponder': 4050, 'distort': 4051, 'showdown': 4052, 'simultan': 4053, 'nun': 4054, 'zizek': 4055, 'valentin': 4056, 'quinn': 4057, 'stake': 4058, 'cooki': 4059, 'rout': 4060, 'fido': 4061, 'scotland': 4062, 'calib': 4063, '1984': 4064, 'crawl': 4065, 'jan': 4066, 'cream': 4067, 'wig': 4068, 'mon': 4069, 'restrain': 4070, 'represent': 4071, 'reson': 4072, 'empathi': 4073, 'unimagin': 4074, 'regist': 4075, 'bro': 4076, 'realm': 4077, 'perpetu': 4078, 'travesti': 4079, 'exposit': 4080, 'valley': 4081, 'climat': 4082, 'buster': 4083, 'crow': 4084, 'kurosawa': 4085, 'gentleman': 4086, 'contradict': 4087, 'stroke': 4088, 'shootout': 4089, 'din': 4090, 'brenda': 4091, 'han': 4092, 'sabrina': 4093, 'miyazaki': 4094, 'derang': 4095, 'geek': 4096, 'femm': 4097, 'censor': 4098, 'traumat': 4099, 'absent': 4100, '1997': 4101, 'darren': 4102, 'shaki': 4103, 'businessman': 4104, 'distress': 4105, 'monoton': 4106, 'perceiv': 4107, 'passabl': 4108, 'pole': 4109, 'sammi': 4110, 'cloud': 4111, '1987': 4112, 'greg': 4113, 'painter': 4114, 'wax': 4115, 'ustinov': 4116, 'unseen': 4117, 'warrant': 4118, 'sucker': 4119, 'dana': 4120, 'josh': 4121, 'spacey': 4122, 'pretens': 4123, 'stargat': 4124, 'ross': 4125, 'crawford': 4126, 'compromis': 4127, 'tacki': 4128, 'shoddi': 4129, 'meryl': 4130, 'delic': 4131, 'demis': 4132, 'unsatisfi': 4133, 'baldwin': 4134, 'mclaglen': 4135, 'abomin': 4136, 'soderbergh': 4137, 'fuller': 4138, 'nathan': 4139, 'norm': 4140, 'verbal': 4141, 'deceas': 4142, 'exclus': 4143, 'primit': 4144, 'kumar': 4145, 'austin': 4146, 'click': 4147, 'judgment': 4148, '1993': 4149, 'valid': 4150, 'polici': 4151, 'wholli': 4152, 'correctli': 4153, 'clash': 4154, 'unravel': 4155, 'sid': 4156, 'fog': 4157, 'anchor': 4158, 'deniro': 4159, 'tarantino': 4160, 'accuraci': 4161, 'uncov': 4162, 'furiou': 4163, 'tech': 4164, 'jewel': 4165, 'fenc': 4166, 'reluct': 4167, 'antonioni': 4168, 'seal': 4169, 'dee': 4170, 'expedit': 4171, 'sunni': 4172, 'roller': 4173, 'dreck': 4174, 'unfair': 4175, 'trait': 4176, 'nicola': 4177, 'enforc': 4178, 'shanghai': 4179, 'crippl': 4180, 'conduct': 4181, 'darn': 4182, 'sheet': 4183, '3000': 4184, 'ritual': 4185, 'malon': 4186, 'mode': 4187, 'sustain': 4188, 'slam': 4189, 'logan': 4190, 'fart': 4191, 'murray': 4192, 'tax': 4193, 'vanc': 4194, 'alec': 4195, 'temper': 4196, 'fought': 4197, 'hallucin': 4198, '1995': 4199, 'debt': 4200, '2008': 4201, 'pocket': 4202, 'clerk': 4203, 'seldom': 4204, 'fabric': 4205, 'bake': 4206, 'wretch': 4207, 'sand': 4208, 'behold': 4209, 'joel': 4210, '1971': 4211, 'patienc': 4212, 'wang': 4213, 'shell': 4214, 'conscious': 4215, 'exhaust': 4216, 'pete': 4217, 'fundament': 4218, 'stark': 4219, 'squad': 4220, 'scriptwrit': 4221, 'tactic': 4222, 'bias': 4223, 'rita': 4224, 'helpless': 4225, 'despis': 4226, 'stuart': 4227, 'canyon': 4228, 'sweep': 4229, 'outlin': 4230, 'legaci': 4231, 'preposter': 4232, 'phil': 4233, 'clau': 4234, 'critiqu': 4235, 'guitar': 4236, 'penni': 4237, 'divid': 4238, 'robber': 4239, 'technicolor': 4240, 'grief': 4241, 'schedul': 4242, 'isabel': 4243, 'runner': 4244, 'soup': 4245, 'bridget': 4246, 'preston': 4247, 'connor': 4248, 'gregori': 4249, 'flair': 4250, 'russia': 4251, 'propos': 4252, 'implic': 4253, 'unexpectedli': 4254, 'vomit': 4255, 'culmin': 4256, 'liberti': 4257, 'boyl': 4258, 'jacket': 4259, 'cigarett': 4260, 'jodi': 4261, 'rehash': 4262, 'inabl': 4263, 'agenc': 4264, 'delv': 4265, 'downey': 4266, 'lacklust': 4267, 'marc': 4268, 'sentinel': 4269, 'alicia': 4270, 'invad': 4271, 'palanc': 4272, 'bloom': 4273, 'restrict': 4274, 'consciou': 4275, 'sniper': 4276, 'rear': 4277, 'passag': 4278, 'sugar': 4279, 'kansa': 4280, 'newman': 4281, 'drove': 4282, 'alley': 4283, 'karl': 4284, 'feat': 4285, 'tendenc': 4286, 'lush': 4287, 'wrench': 4288, 'chainsaw': 4289, 'behaviour': 4290, '22': 4291, 'arrow': 4292, 'tripe': 4293, 'rampag': 4294, 'awhil': 4295, 'improb': 4296, 'horn': 4297, 'sharon': 4298, 'vet': 4299, 'asylum': 4300, 'rod': 4301, 'delet': 4302, 'cap': 4303, 'bacon': 4304, 'mccoy': 4305, 'aesthet': 4306, 'rehears': 4307, 'pale': 4308, 'ladder': 4309, '1936': 4310, 'yeti': 4311, 'kolchak': 4312, 'foxx': 4313, 'rhythm': 4314, 'globe': 4315, 'underneath': 4316, 'suspicion': 4317, 'conscienc': 4318, '1988': 4319, 'coaster': 4320, 'shortcom': 4321, 'lurk': 4322, 'wildli': 4323, '1978': 4324, 'tasteless': 4325, 'suffici': 4326, 'tomorrow': 4327, 'stream': 4328, 'el': 4329, 'aristocrat': 4330, 'paradis': 4331, 'hackney': 4332, 'amazon': 4333, 'spice': 4334, 'weav': 4335, 'filler': 4336, '19th': 4337, 'visitor': 4338, 'hungri': 4339, 'newcom': 4340, 'loneli': 4341, 'rumor': 4342, 'thunderbird': 4343, 'scoop': 4344, 'financ': 4345, 'hulk': 4346, 'minu': 4347, '1920': 4348, 'elit': 4349, 'fright': 4350, 'wagner': 4351, 'paramount': 4352, 'sung': 4353, 'prank': 4354, 'basing': 4355, 'counterpart': 4356, 'springer': 4357, 'en': 4358, 'bread': 4359, 'wwe': 4360, '1989': 4361, 'lectur': 4362, 'posey': 4363, 'rub': 4364, 'leigh': 4365, '1939': 4366, 'beverli': 4367, 'tierney': 4368, 'iv': 4369, 'secondari': 4370, 'literari': 4371, 'impos': 4372, 'naughti': 4373, 'minist': 4374, 'paxton': 4375, '75': 4376, 'worship': 4377, 'teas': 4378, 'abrupt': 4379, 'smell': 4380, 'ram': 4381, 'grudg': 4382, 'hopkin': 4383, 'brit': 4384, 'atroc': 4385, 'straightforward': 4386, 'penn': 4387, 'cancer': 4388, 'choppi': 4389, 'curli': 4390, 'dirt': 4391, 'entranc': 4392, 'chavez': 4393, 'standout': 4394, 'heist': 4395, 'chamberlain': 4396, 'quietli': 4397, 'immers': 4398, 'couch': 4399, 'ingeni': 4400, 'recogniz': 4401, 'inmat': 4402, 'entitl': 4403, 'policeman': 4404, 'ace': 4405, 'attenborough': 4406, 'laurenc': 4407, '1986': 4408, 'injuri': 4409, 'bernard': 4410, 'heartfelt': 4411, 'morbid': 4412, 'quaid': 4413, 'sublim': 4414, 'skeptic': 4415, 'enthral': 4416, 'nemesi': 4417, 'net': 4418, 'lindsay': 4419, 'esther': 4420, 'moreov': 4421, 'transcend': 4422, 'clan': 4423, 'misguid': 4424, 'variat': 4425, 'convert': 4426, 'watcher': 4427, 'sassi': 4428, 'yearn': 4429, 'missil': 4430, 'ratso': 4431, 'nolan': 4432, 'cattl': 4433, 'duel': 4434, 'geni': 4435, 'tyler': 4436, 'spiral': 4437, 'graini': 4438, 'reliabl': 4439, 'obstacl': 4440, 'unexplain': 4441, 'puppi': 4442, 'buzz': 4443, 'enabl': 4444, 'facil': 4445, 'rosemari': 4446, 'kidman': 4447, 'vader': 4448, 'kitti': 4449, 'out': 4450, 'bean': 4451, 'poe': 4452, 'diari': 4453, 'hk': 4454, 'steadi': 4455, 'cruelti': 4456, 'brood': 4457, 'mytholog': 4458, 'grin': 4459, '1979': 4460, 'moder': 4461, 'artsi': 4462, 'bye': 4463, 'hopelessli': 4464, 'characteris': 4465, 'youngest': 4466, 'carlito': 4467, 'egg': 4468, 'uncut': 4469, 'dont': 4470, 'setup': 4471, 'weather': 4472, 'sweat': 4473, 'patricia': 4474, 'bounc': 4475, 'disastr': 4476, 'underworld': 4477, 'heap': 4478, 'oblig': 4479, 'baffl': 4480, 'athlet': 4481, 'spontan': 4482, 'decept': 4483, 'fuel': 4484, 'brendan': 4485, 'effici': 4486, 'despic': 4487, 'christin': 4488, 'hammi': 4489, 'kline': 4490, 'preming': 4491, 'bewar': 4492, 'bronson': 4493, 'niec': 4494, 'clueless': 4495, '1969': 4496, 'gina': 4497, 'gillian': 4498, 'acquaint': 4499, 'martha': 4500, 'hain': 4501, 'exterior': 4502, 'narrow': 4503, 'hepburn': 4504, 'harmless': 4505, 'dilemma': 4506, 'housewif': 4507, 'virtu': 4508, 'mayhem': 4509, 'tick': 4510, 'biker': 4511, 'angst': 4512, 'injur': 4513, 'goof': 4514, 'insipid': 4515, 'sooner': 4516, 'shatter': 4517, 'preachi': 4518, 'headach': 4519, 'sleepwalk': 4520, 'uh': 4521, 'lester': 4522, 'viewpoint': 4523, 'candl': 4524, 'taboo': 4525, 'scar': 4526, 'renaiss': 4527, 'suprem': 4528, 'rome': 4529, 'outlaw': 4530, 'analyz': 4531, 'loi': 4532, 'dandi': 4533, '19': 4534, '73': 4535, 'circu': 4536, 'loath': 4537, 'trigger': 4538, 'enlist': 4539, 'fontain': 4540, 'astound': 4541, 'mermaid': 4542, 'stair': 4543, 'foolish': 4544, 'hostag': 4545, 'zoom': 4546, 'hokey': 4547, 'phenomenon': 4548, 'surgeri': 4549, 'steer': 4550, 'intric': 4551, 'slimi': 4552, 'glorifi': 4553, 'ebert': 4554, 'stimul': 4555, 'macho': 4556, 'fluff': 4557, 'filth': 4558, 'spade': 4559, 'redund': 4560, 'amor': 4561, 'guin': 4562, 'immatur': 4563, 'bent': 4564, 'dismal': 4565, 'cassavet': 4566, 'tripl': 4567, 'claustrophob': 4568, 'camcord': 4569, 'overlong': 4570, 'sox': 4571, 'contempt': 4572, 'salt': 4573, 'oldest': 4574, 'whore': 4575, 'hooker': 4576, 'corbett': 4577, 'scorses': 4578, 'dish': 4579, 'idol': 4580, 'gere': 4581, 'ariel': 4582, 'boston': 4583, 'joker': 4584, 'remad': 4585, 'messi': 4586, 'radiat': 4587, 'corman': 4588, 'gasp': 4589, 'shield': 4590, 'astronaut': 4591, 'beard': 4592, '1976': 4593, '1981': 4594, 'faint': 4595, 'keen': 4596, 'cohen': 4597, 'shred': 4598, 'spinal': 4599, 'gabl': 4600, 'mount': 4601, 'trivia': 4602, 'fascist': 4603, 'flag': 4604, 'flirt': 4605, 'harold': 4606, 'widescreen': 4607, 'strongest': 4608, 'nolt': 4609, 'assert': 4610, 'conquer': 4611, 'down': 4612, 'dwarf': 4613, 'mutual': 4614, 'frantic': 4615, 'preced': 4616, 'naschi': 4617, 'zane': 4618, 'flashi': 4619, 'perman': 4620, 'cow': 4621, 'antagonist': 4622, 'schlock': 4623, 'muscl': 4624, 'margin': 4625, 'obligatori': 4626, 'spree': 4627, 'rhyme': 4628, 'proport': 4629, 'transplant': 4630, 'alvin': 4631, 'cush': 4632, 'neurot': 4633, 'persuad': 4634, 'divin': 4635, 'archiv': 4636, 'off': 4637, 'fishburn': 4638, 'resum': 4639, 'ritchi': 4640, 'carey': 4641, '1945': 4642, 'barn': 4643, 'hara': 4644, 'triangl': 4645, '28': 4646, 'claud': 4647, 'instruct': 4648, 'sensual': 4649, 'interestingli': 4650, 'scandal': 4651, 'raj': 4652, 'danish': 4653, 'www': 4654, 'repris': 4655, 'inflict': 4656, 'vaniti': 4657, 'mol': 4658, 'bachelor': 4659, 'brush': 4660, 'discern': 4661, 'mobil': 4662, 'strive': 4663, 'flock': 4664, 'info': 4665, 'departur': 4666, '95': 4667, 'someday': 4668, 'boob': 4669, 'deer': 4670, 'aborigin': 4671, 'bitten': 4672, 'wield': 4673, 'colin': 4674, 'hapless': 4675, 'cycl': 4676, 'dim': 4677, 'hilar': 4678, 'bate': 4679, 'cher': 4680, 'clad': 4681, 'heartwarm': 4682, 'submit': 4683, 'dame': 4684, 'miracul': 4685, 'luka': 4686, 'prophet': 4687, 'fragil': 4688, 'artwork': 4689, 'rot': 4690, 'senior': 4691, 'recit': 4692, 'frontier': 4693, 'banter': 4694, 'carlo': 4695, 'kathryn': 4696, 'traffic': 4697, 'casino': 4698, 'pacif': 4699, 'vibrant': 4700, 'mobster': 4701, 'harrison': 4702, 'cb': 4703, 'undermin': 4704, 'timberlak': 4705, 'dylan': 4706, 'ish': 4707, 'hug': 4708, 'anton': 4709, 'loretta': 4710, 'melissa': 4711, 'axe': 4712, 'cliffhang': 4713, 'helm': 4714, 'earnest': 4715, 'wendigo': 4716, 'parson': 4717, 'neill': 4718, 'pickford': 4719, 'jade': 4720, 'proclaim': 4721, 'biblic': 4722, 'pixar': 4723, 'europa': 4724, 'marlon': 4725, 'vile': 4726, 'redneck': 4727, 'estrang': 4728, 'northern': 4729, 'lui': 4730, 'choke': 4731, 'bikini': 4732, 'jordan': 4733, 'lucil': 4734, 'token': 4735, 'misfortun': 4736, 'legitim': 4737, 'razor': 4738, 'wardrob': 4739, 'orphan': 4740, 'articl': 4741, 'rooki': 4742, 'alexandr': 4743, 'blatantli': 4744, 'cerebr': 4745, 'mathieu': 4746, 'http': 4747, 'flavor': 4748, 'static': 4749, 'toronto': 4750, 'breakfast': 4751, 'antholog': 4752, 'foil': 4753, 'jo': 4754, 'holocaust': 4755, 'nope': 4756, 'aris': 4757, 'isra': 4758, 'electron': 4759, 'seedi': 4760, 'winchest': 4761, 'milo': 4762, 'venom': 4763, 'sicken': 4764, 'shepherd': 4765, 'feast': 4766, 'bondag': 4767, 'illus': 4768, 'pc': 4769, 'eli': 4770, 'uma': 4771, 'mason': 4772, 'akin': 4773, 'trier': 4774, 'vanessa': 4775, 'audrey': 4776, 'comprehend': 4777, 'swept': 4778, 'ceremoni': 4779, 'fifth': 4780, 'huston': 4781, 'outdat': 4782, 'ideolog': 4783, 'styliz': 4784, 'glare': 4785, 'smack': 4786, 'turd': 4787, 'charlton': 4788, 'peer': 4789, 'nightclub': 4790, 'boyer': 4791, 'psych': 4792, 'highway': 4793, 'linear': 4794, 'affleck': 4795, 'magician': 4796, 'shorter': 4797, 'disregard': 4798, 'leather': 4799, 'deem': 4800, 'dudley': 4801, 'tack': 4802, 'abund': 4803, 'retriev': 4804, 'gilbert': 4805, 'clinic': 4806, 'feminin': 4807, 'wrestler': 4808, 'gunga': 4809, 'knightley': 4810, 'frog': 4811, 'cartoonish': 4812, 'howl': 4813, 'oppon': 4814, 'deliver': 4815, 'energet': 4816, 'summar': 4817, 'toe': 4818, 'braveheart': 4819, 'chip': 4820, 'client': 4821, 'phenomen': 4822, '4th': 4823, 'compris': 4824, 'mitch': 4825, 'sleaz': 4826, 'salman': 4827, 'spawn': 4828, 'monument': 4829, 'uniformli': 4830, 'evolut': 4831, 'potter': 4832, 'newer': 4833, 'spine': 4834, 'einstein': 4835, 'senat': 4836, '1991': 4837, 'plate': 4838, 'greet': 4839, '1994': 4840, 'moe': 4841, 'bogu': 4842, 'lavish': 4843, 'breakdown': 4844, 'goldsworthi': 4845, 'btw': 4846, 'boo': 4847, 'collector': 4848, 'cemeteri': 4849, 'durat': 4850, 'corn': 4851, 'lifeless': 4852, 'snatch': 4853, 'cuban': 4854, 'conrad': 4855, 'lighter': 4856, 'tara': 4857, 'whack': 4858, 'bastard': 4859, 'fluid': 4860, 'evelyn': 4861, 'cecil': 4862, 'mcqueen': 4863, '1974': 4864, 'bulk': 4865, 'outright': 4866, 'armstrong': 4867, 'historian': 4868, 'judd': 4869, 'bori': 4870, 'spectacl': 4871, 'firmli': 4872, 'capot': 4873, 'lex': 4874, 'creek': 4875, 'jam': 4876, 'appl': 4877, 'luxuri': 4878, 'liu': 4879, 'embark': 4880, 'nina': 4881, 'sorrow': 4882, 'ie': 4883, 'undead': 4884, 'clara': 4885, 'kent': 4886, 'belli': 4887, 'replay': 4888, 'undertak': 4889, 'kazan': 4890, 'pronounc': 4891, 'healthi': 4892, 'inaccuraci': 4893, 'ol': 4894, 'alleg': 4895, 'trauma': 4896, 'neatli': 4897, 'constitut': 4898, 'wtf': 4899, 'jare': 4900, 'eleven': 4901, 'occup': 4902, 'randolph': 4903, '1977': 4904, 'jule': 4905, 'signal': 4906, 'jedi': 4907, 'gilliam': 4908, 'spray': 4909, 'congratul': 4910, 'meal': 4911, 'blur': 4912, 'poker': 4913, 'unsuspect': 4914, 'vain': 4915, 'goldblum': 4916, 'relentless': 4917, 'conan': 4918, 'paula': 4919, 'knee': 4920, 'curtain': 4921, 'genet': 4922, 'miniseri': 4923, 'fruit': 4924, 'inaccur': 4925, 'tokyo': 4926, 'sidewalk': 4927, 'unattract': 4928, 'decapit': 4929, 'basket': 4930, 'propheci': 4931, 'truman': 4932, 'pepper': 4933, 'groan': 4934, 'walt': 4935, 'subtli': 4936, 'lauren': 4937, 'inclus': 4938, 'carmen': 4939, 'sacrif': 4940, 'rosario': 4941, 'comprehens': 4942, 'pioneer': 4943, 'id': 4944, '1985': 4945, 'lanc': 4946, 'cape': 4947, 'palm': 4948, 'miami': 4949, 'vignett': 4950, 'ash': 4951, 'bsg': 4952, 'mum': 4953, 'antonio': 4954, 'bait': 4955, 'porter': 4956, 'abound': 4957, 'forgiven': 4958, 'galaxi': 4959, 'roar': 4960, 'kiddi': 4961, 'comb': 4962, 'aussi': 4963, 'masterson': 4964, 'vastli': 4965, 'growth': 4966, 'verg': 4967, 'substanti': 4968, 'profil': 4969, 'weari': 4970, 'optimist': 4971, 'omin': 4972, 'detach': 4973, '21st': 4974, 'modest': 4975, 'frontal': 4976, 'scariest': 4977, 'monti': 4978, 'sparkl': 4979, 'macabr': 4980, 'handicap': 4981, 'epitom': 4982, 'victorian': 4983, 'asset': 4984, 'playboy': 4985, 'sophi': 4986, 'evan': 4987, 'jill': 4988, 'reincarn': 4989, 'incorrect': 4990, 'rapidli': 4991, 'dubiou': 4992, 'casper': 4993, 'ghetto': 4994, 'motorcycl': 4995, 'spill': 4996, 'bach': 4997, 'hackman': 4998, 'assort': 4999}\n"
     ]
    }
   ],
   "source": [
    "print(word_dict)"
   ]
  },
  {
   "cell_type": "markdown",
   "metadata": {},
   "source": [
    "**Question:** What are the five most frequently appearing (tokenized) words in the training set? Does it makes sense that these words appear frequently in the training set?"
   ]
  },
  {
   "cell_type": "markdown",
   "metadata": {},
   "source": [
    "**Answer:**\n",
    "* movi: 51695\n",
    "* film: 48190\n",
    "* one:  27741\n",
    "* like: 22799\n",
    "* time: 16191"
   ]
  },
  {
   "cell_type": "code",
   "execution_count": 14,
   "metadata": {},
   "outputs": [
    {
     "data": {
      "text/plain": [
       "['eleph',\n",
       " 'walk',\n",
       " 'may',\n",
       " 'acm',\n",
       " 'literatur',\n",
       " 'film',\n",
       " 'great',\n",
       " 'entertain',\n",
       " 'quasi',\n",
       " 'melodramat',\n",
       " 'mode',\n",
       " 'stori',\n",
       " 'love',\n",
       " 'genuin',\n",
       " 'illicit',\n",
       " 'well',\n",
       " 'overween',\n",
       " 'ambit',\n",
       " 'devot',\n",
       " 'arrog',\n",
       " 'person',\n",
       " 'tyranni',\n",
       " 'previou',\n",
       " 'review',\n",
       " 'john',\n",
       " 'mankin',\n",
       " 'question',\n",
       " 'central',\n",
       " 'focu',\n",
       " 'film',\n",
       " 'mansion',\n",
       " 'call',\n",
       " 'eleph',\n",
       " 'walk',\n",
       " 'built',\n",
       " 'former',\n",
       " 'owner',\n",
       " 'governor',\n",
       " 'late',\n",
       " 'tom',\n",
       " 'wiley',\n",
       " 'right',\n",
       " 'across',\n",
       " 'eleph',\n",
       " 'tradit',\n",
       " 'path',\n",
       " 'major',\n",
       " 'sourc',\n",
       " 'water',\n",
       " 'river',\n",
       " 'miss',\n",
       " 'point',\n",
       " 'essenti',\n",
       " 'miss',\n",
       " 'point',\n",
       " 'whole',\n",
       " 'center',\n",
       " 'film',\n",
       " 'hubri',\n",
       " 'man',\n",
       " 'son',\n",
       " 'play',\n",
       " 'peter',\n",
       " 'finch',\n",
       " 'becom',\n",
       " 'enthral',\n",
       " 'super',\n",
       " 'imag',\n",
       " 'enigma',\n",
       " 'rever',\n",
       " 'father',\n",
       " 'unexpect',\n",
       " 'sinc',\n",
       " 'son',\n",
       " 'without',\n",
       " 'mother',\n",
       " 'grow',\n",
       " 'foreign',\n",
       " 'jungl',\n",
       " 'father',\n",
       " 'father',\n",
       " 'rowdi',\n",
       " 'boy',\n",
       " 'club',\n",
       " 'role',\n",
       " 'model',\n",
       " 'point',\n",
       " 'father',\n",
       " 'self',\n",
       " 'made',\n",
       " 'man',\n",
       " 'would',\n",
       " 'tame',\n",
       " 'natur',\n",
       " 'like',\n",
       " 'like',\n",
       " 'tea',\n",
       " 'plantat',\n",
       " 'upon',\n",
       " 'land',\n",
       " 'eleph',\n",
       " 'domin',\n",
       " 'also',\n",
       " 'would',\n",
       " 'domin',\n",
       " 'even',\n",
       " 'larg',\n",
       " 'bull',\n",
       " 'eleph',\n",
       " 'led',\n",
       " 'herd',\n",
       " 'thu',\n",
       " 'would',\n",
       " 'domin',\n",
       " 'son',\n",
       " 'around',\n",
       " 'join',\n",
       " 'tale',\n",
       " 'eleph',\n",
       " 'deni',\n",
       " 'crucial',\n",
       " 'dri',\n",
       " 'season',\n",
       " 'access',\n",
       " 'pathway',\n",
       " 'water',\n",
       " 'could',\n",
       " 'know',\n",
       " 'dri',\n",
       " 'season',\n",
       " 'would',\n",
       " 'last',\n",
       " 'long',\n",
       " 'eleph',\n",
       " 'would',\n",
       " 'desper',\n",
       " 'get',\n",
       " 'water',\n",
       " 'nexu',\n",
       " 'film',\n",
       " 'anim',\n",
       " 'get',\n",
       " 'water',\n",
       " 'human',\n",
       " 'get',\n",
       " 'power',\n",
       " 'love',\n",
       " 'ceylon',\n",
       " 'today',\n",
       " 'sri',\n",
       " 'lanka',\n",
       " 'huge',\n",
       " 'island',\n",
       " 'coast',\n",
       " 'india',\n",
       " 'plantat',\n",
       " 'locat',\n",
       " 'one',\n",
       " 'quickli',\n",
       " 'learn',\n",
       " 'real',\n",
       " 'sceneri',\n",
       " 'stori',\n",
       " 'expens',\n",
       " 'miss',\n",
       " 'taylor',\n",
       " 'exot',\n",
       " 'locat',\n",
       " 'much',\n",
       " 'film',\n",
       " 'shot',\n",
       " 'ceylon',\n",
       " 'magnific',\n",
       " 'bungalow',\n",
       " 'would',\n",
       " 'anoth',\n",
       " 'potboil',\n",
       " 'one',\n",
       " 'must',\n",
       " 'recogn',\n",
       " 'atmospher',\n",
       " 'creat',\n",
       " 'integr',\n",
       " 'time',\n",
       " 'place',\n",
       " 'illumin',\n",
       " 'latter',\n",
       " 'day',\n",
       " 'wealth',\n",
       " 'power',\n",
       " 'attain',\n",
       " 'english',\n",
       " 'immigr',\n",
       " 'conqueror',\n",
       " 'part',\n",
       " 'parcel',\n",
       " 'british',\n",
       " 'raj',\n",
       " 'wealth',\n",
       " 'gain',\n",
       " 'use',\n",
       " 'virtual',\n",
       " 'slave',\n",
       " 'labor',\n",
       " 'one',\n",
       " 'could',\n",
       " 'build',\n",
       " 'magnific',\n",
       " 'resid',\n",
       " 'eboni',\n",
       " 'teak',\n",
       " 'marbl',\n",
       " 'overlook',\n",
       " 'wonder',\n",
       " 'carv',\n",
       " 'jale',\n",
       " 'grill',\n",
       " 'work',\n",
       " 'window',\n",
       " 'doorway',\n",
       " 'border',\n",
       " 'evid',\n",
       " 'specifi',\n",
       " 'art',\n",
       " 'director',\n",
       " 'j',\n",
       " 'mcmillan',\n",
       " 'johnson',\n",
       " 'hal',\n",
       " 'pereira',\n",
       " 'obvious',\n",
       " 'made',\n",
       " 'cheaper',\n",
       " 'labor',\n",
       " 'island',\n",
       " 'craftsmanship',\n",
       " 'reveal',\n",
       " 'care',\n",
       " 'attent',\n",
       " 'detail',\n",
       " 'men',\n",
       " 'sought',\n",
       " 'immun',\n",
       " 'blandish',\n",
       " 'time',\n",
       " 'place',\n",
       " 'architectur',\n",
       " 'alway',\n",
       " 'allur',\n",
       " 'miss',\n",
       " 'taylor',\n",
       " 'marri',\n",
       " 'man',\n",
       " 'realli',\n",
       " 'know',\n",
       " 'tacitli',\n",
       " 'woo',\n",
       " 'anoth',\n",
       " 'man',\n",
       " 'background',\n",
       " 'describ',\n",
       " 'overarch',\n",
       " 'tyranni',\n",
       " 'legaci',\n",
       " 'man',\n",
       " 'deceas',\n",
       " 'said',\n",
       " 'great',\n",
       " 'literatur',\n",
       " 'even',\n",
       " 'great',\n",
       " 'film',\n",
       " 'great',\n",
       " 'spectacl',\n",
       " 'long',\n",
       " 'term',\n",
       " 'debas',\n",
       " 'special',\n",
       " 'effect',\n",
       " 'extravaganza',\n",
       " 'today',\n",
       " 'one',\n",
       " 'film',\n",
       " 'made',\n",
       " 'seen',\n",
       " 'giant',\n",
       " 'screen',\n",
       " 'outdoor',\n",
       " 'drive',\n",
       " 'home',\n",
       " 'tv',\n",
       " 'arrang',\n",
       " 'largest',\n",
       " 'screen',\n",
       " 'see',\n",
       " 'fulli',\n",
       " 'appreci',\n",
       " 'fine',\n",
       " 'camera',\n",
       " 'work',\n",
       " 'scope']"
      ]
     },
     "execution_count": 14,
     "metadata": {},
     "output_type": "execute_result"
    }
   ],
   "source": [
    "# TODO: Use this space to determine the five most frequently appearing words in the training set.\n",
    "train_X[200]"
   ]
  },
  {
   "cell_type": "markdown",
   "metadata": {},
   "source": [
    "### Save `word_dict`\n",
    "\n",
    "Later on when we construct an endpoint which processes a submitted review we will need to make use of the `word_dict` which we have created. As such, we will save it to a file now for future use."
   ]
  },
  {
   "cell_type": "code",
   "execution_count": 15,
   "metadata": {},
   "outputs": [],
   "source": [
    "data_dir = '../data/pytorch' # The folder we will use for storing data\n",
    "if not os.path.exists(data_dir): # Make sure that the folder exists\n",
    "    os.makedirs(data_dir)"
   ]
  },
  {
   "cell_type": "code",
   "execution_count": 16,
   "metadata": {},
   "outputs": [],
   "source": [
    "with open(os.path.join(data_dir, 'word_dict.pkl'), \"wb\") as f:\n",
    "    pickle.dump(word_dict, f)"
   ]
  },
  {
   "cell_type": "markdown",
   "metadata": {},
   "source": [
    "### Transform the reviews\n",
    "\n",
    "Now that we have our word dictionary which allows us to transform the words appearing in the reviews into integers, it is time to make use of it and convert our reviews to their integer sequence representation, making sure to pad or truncate to a fixed length, which in our case is `500`."
   ]
  },
  {
   "cell_type": "code",
   "execution_count": 17,
   "metadata": {},
   "outputs": [],
   "source": [
    "def convert_and_pad(word_dict, sentence, pad=500):\n",
    "    NOWORD = 0 # We will use 0 to represent the 'no word' category\n",
    "    INFREQ = 1 # and we use 1 to represent the infrequent words, i.e., words not appearing in word_dict\n",
    "    \n",
    "    working_sentence = [NOWORD] * pad\n",
    "    \n",
    "    for word_index, word in enumerate(sentence[:pad]):\n",
    "        if word in word_dict:\n",
    "            working_sentence[word_index] = word_dict[word]\n",
    "        else:\n",
    "            working_sentence[word_index] = INFREQ\n",
    "            \n",
    "    return working_sentence, min(len(sentence), pad)\n",
    "\n",
    "def convert_and_pad_data(word_dict, data, pad=500):\n",
    "    result = []\n",
    "    lengths = []\n",
    "    \n",
    "    for sentence in data:\n",
    "        converted, leng = convert_and_pad(word_dict, sentence, pad)\n",
    "        result.append(converted)\n",
    "        lengths.append(leng)\n",
    "        \n",
    "    return np.array(result), np.array(lengths)"
   ]
  },
  {
   "cell_type": "code",
   "execution_count": 18,
   "metadata": {},
   "outputs": [],
   "source": [
    "train_X, train_X_len = convert_and_pad_data(word_dict, train_X)\n",
    "test_X, test_X_len = convert_and_pad_data(word_dict, test_X)"
   ]
  },
  {
   "cell_type": "markdown",
   "metadata": {},
   "source": [
    "As a quick check to make sure that things are working as intended, check to see what one of the reviews in the training set looks like after having been processeed. Does this look reasonable? What is the length of a review in the training set?"
   ]
  },
  {
   "cell_type": "code",
   "execution_count": 19,
   "metadata": {},
   "outputs": [
    {
     "name": "stdout",
     "output_type": "stream",
     "text": [
      "[2847  413  121    1 3853    3   26  164    1 2974 4187   13   29 1043\n",
      "    1   17    1 3204 2434 2765  127    1  877  236  227    1  416 1257\n",
      " 1047    3 2491  167 2847  413 1960 1050 1520    1  424  712    1  113\n",
      "  575 2847 1089 1895  464 1795  800 1462  240   86 1225  240   86  144\n",
      " 1185    3    1   55  377   33  658    1  128 4416 1067  654    1    1\n",
      "  230 1848  158  377  129  349  849 1745 2169  230  230    1  237 1130\n",
      "   81 1290   86  230  463   34   55   15 2985  369    5    5 2912    1\n",
      "  655  926 2847 1737   27   15 1737   14  713 3300 2847 1504    1 1247\n",
      "   15 1737  377  110 1352  587 2847 2043 3879 1785  506 2536    1  800\n",
      "   36   37 1785  506   15  136  114 2847   15  904   10  800    1    3\n",
      "  192   10  800  220   10  272   29    1  433    1    1  554  915 3871\n",
      " 2407    1  789    4  868  405   71 1243   13 2125  240 1552 3450  789\n",
      "   21    3  150    1 1603    1   15   79    1    4  130 1433  627  331\n",
      " 2412    6  145    1 1399   91 3390  272    1  567 3382    1   63    1\n",
      "  628 4652 3390 1796   65 1765 2453 3915    4   36  612 1603 2051    1\n",
      "    1    1 1945  108    1    1    1   40 1531    1 2158 1221    1  337\n",
      "   67 1222    1 2233 3487    1  470   34    1 3915  915    1  746  246\n",
      "  593  643  283    1    1    1    6  145    1  131    1  240 1552  610\n",
      "   55   16   37    1 3585   79   55  782  773    1    1 4231   55 4142\n",
      "  233   26 3853   14   26    3   26 4871  114  896    1  221  112    1\n",
      "  433    4    3   34   47 1193  166    1  648  271  168 2779    1  166\n",
      "   11 1224  660  410  292   40 3498    0    0    0    0    0    0    0\n",
      "    0    0    0    0    0    0    0    0    0    0    0    0    0    0\n",
      "    0    0    0    0    0    0    0    0    0    0    0    0    0    0\n",
      "    0    0    0    0    0    0    0    0    0    0    0    0    0    0\n",
      "    0    0    0    0    0    0    0    0    0    0    0    0    0    0\n",
      "    0    0    0    0    0    0    0    0    0    0    0    0    0    0\n",
      "    0    0    0    0    0    0    0    0    0    0    0    0    0    0\n",
      "    0    0    0    0    0    0    0    0    0    0    0    0    0    0\n",
      "    0    0    0    0    0    0    0    0    0    0    0    0    0    0\n",
      "    0    0    0    0    0    0    0    0    0    0    0    0    0    0\n",
      "    0    0    0    0    0    0    0    0    0    0    0    0    0    0\n",
      "    0    0    0    0    0    0    0    0    0    0    0    0    0    0\n",
      "    0    0    0    0    0    0    0    0    0    0    0    0    0    0\n",
      "    0    0    0    0    0    0    0    0    0    0    0    0    0    0\n",
      "    0    0    0    0    0    0    0    0    0    0]\n",
      "500\n"
     ]
    }
   ],
   "source": [
    "# Use this cell to examine one of the processed reviews to make sure everything is working as intended.\n",
    "print(train_X[200])\n",
    "print(len(train_X[200]))"
   ]
  },
  {
   "cell_type": "markdown",
   "metadata": {},
   "source": [
    "**Question:** In the cells above we use the `preprocess_data` and `convert_and_pad_data` methods to process both the training and testing set. Why or why not might this be a problem?"
   ]
  },
  {
   "cell_type": "markdown",
   "metadata": {},
   "source": [
    "**Answer:**\n",
    "The input to the model should always have the same structure. So applying the same data preprocess functions to test and train data is ok or even necessary. \n",
    "The vocabluary is only produced with the train data. So the prediction should have no bias in that terms. A problem could arise when the vocab of the test or inference data is largly different to that of the train set. "
   ]
  },
  {
   "cell_type": "markdown",
   "metadata": {},
   "source": [
    "## Step 3: Upload the data to S3\n",
    "\n",
    "As in the XGBoost notebook, we will need to upload the training dataset to S3 in order for our training code to access it. For now we will save it locally and we will upload to S3 later on.\n",
    "\n",
    "### Save the processed training dataset locally\n",
    "\n",
    "It is important to note the format of the data that we are saving as we will need to know it when we write the training code. In our case, each row of the dataset has the form `label`, `length`, `review[500]` where `review[500]` is a sequence of `500` integers representing the words in the review."
   ]
  },
  {
   "cell_type": "code",
   "execution_count": 20,
   "metadata": {},
   "outputs": [],
   "source": [
    "import pandas as pd\n",
    "    \n",
    "pd.concat([pd.DataFrame(train_y), pd.DataFrame(train_X_len), pd.DataFrame(train_X)], axis=1) \\\n",
    "        .to_csv(os.path.join(data_dir, 'train.csv'), header=False, index=False)"
   ]
  },
  {
   "cell_type": "markdown",
   "metadata": {},
   "source": [
    "### Uploading the training data\n",
    "\n",
    "\n",
    "Next, we need to upload the training data to the SageMaker default S3 bucket so that we can provide access to it while training our model."
   ]
  },
  {
   "cell_type": "code",
   "execution_count": 21,
   "metadata": {},
   "outputs": [],
   "source": [
    "import sagemaker\n",
    "\n",
    "sagemaker_session = sagemaker.Session()\n",
    "\n",
    "bucket = sagemaker_session.default_bucket()\n",
    "prefix = 'sagemaker/sentiment_rnn'\n",
    "\n",
    "role = sagemaker.get_execution_role()"
   ]
  },
  {
   "cell_type": "code",
   "execution_count": 22,
   "metadata": {},
   "outputs": [],
   "source": [
    "input_data = sagemaker_session.upload_data(path=data_dir, bucket=bucket, key_prefix=prefix)"
   ]
  },
  {
   "cell_type": "markdown",
   "metadata": {},
   "source": [
    "**NOTE:** The cell above uploads the entire contents of our data directory. This includes the `word_dict.pkl` file. This is fortunate as we will need this later on when we create an endpoint that accepts an arbitrary review. For now, we will just take note of the fact that it resides in the data directory (and so also in the S3 training bucket) and that we will need to make sure it gets saved in the model directory."
   ]
  },
  {
   "cell_type": "markdown",
   "metadata": {},
   "source": [
    "## Step 4: Build and Train the PyTorch Model\n",
    "\n",
    "In the XGBoost notebook we discussed what a model is in the SageMaker framework. In particular, a model comprises three objects\n",
    "\n",
    " - Model Artifacts,\n",
    " - Training Code, and\n",
    " - Inference Code,\n",
    " \n",
    "each of which interact with one another. In the XGBoost example we used training and inference code that was provided by Amazon. Here we will still be using containers provided by Amazon with the added benefit of being able to include our own custom code.\n",
    "\n",
    "We will start by implementing our own neural network in PyTorch along with a training script. For the purposes of this project we have provided the necessary model object in the `model.py` file, inside of the `train` folder. You can see the provided implementation by running the cell below."
   ]
  },
  {
   "cell_type": "code",
   "execution_count": 23,
   "metadata": {},
   "outputs": [
    {
     "name": "stdout",
     "output_type": "stream",
     "text": [
      "\u001b[34mimport\u001b[39;49;00m \u001b[04m\u001b[36mtorch.nn\u001b[39;49;00m \u001b[34mas\u001b[39;49;00m \u001b[04m\u001b[36mnn\u001b[39;49;00m\r\n",
      "\r\n",
      "\u001b[34mclass\u001b[39;49;00m \u001b[04m\u001b[32mLSTMClassifier\u001b[39;49;00m(nn.Module):\r\n",
      "    \u001b[33m\"\"\"\u001b[39;49;00m\r\n",
      "\u001b[33m    This is the simple RNN model we will be using to perform Sentiment Analysis.\u001b[39;49;00m\r\n",
      "\u001b[33m    \"\"\"\u001b[39;49;00m\r\n",
      "\r\n",
      "    \u001b[34mdef\u001b[39;49;00m \u001b[32m__init__\u001b[39;49;00m(\u001b[36mself\u001b[39;49;00m, embedding_dim, hidden_dim, vocab_size):\r\n",
      "        \u001b[33m\"\"\"\u001b[39;49;00m\r\n",
      "\u001b[33m        Initialize the model by settingg up the various layers.\u001b[39;49;00m\r\n",
      "\u001b[33m        \"\"\"\u001b[39;49;00m\r\n",
      "        \u001b[36msuper\u001b[39;49;00m(LSTMClassifier, \u001b[36mself\u001b[39;49;00m).\u001b[32m__init__\u001b[39;49;00m()\r\n",
      "\r\n",
      "        \u001b[36mself\u001b[39;49;00m.embedding = nn.Embedding(vocab_size, embedding_dim, padding_idx=\u001b[34m0\u001b[39;49;00m)\r\n",
      "        \u001b[36mself\u001b[39;49;00m.lstm = nn.LSTM(embedding_dim, hidden_dim)\r\n",
      "        \u001b[36mself\u001b[39;49;00m.dense = nn.Linear(in_features=hidden_dim, out_features=\u001b[34m1\u001b[39;49;00m)\r\n",
      "        \u001b[36mself\u001b[39;49;00m.sig = nn.Sigmoid()\r\n",
      "        \r\n",
      "        \u001b[36mself\u001b[39;49;00m.word_dict = \u001b[36mNone\u001b[39;49;00m\r\n",
      "\r\n",
      "    \u001b[34mdef\u001b[39;49;00m \u001b[32mforward\u001b[39;49;00m(\u001b[36mself\u001b[39;49;00m, x):\r\n",
      "        \u001b[33m\"\"\"\u001b[39;49;00m\r\n",
      "\u001b[33m        Perform a forward pass of our model on some input.\u001b[39;49;00m\r\n",
      "\u001b[33m        \"\"\"\u001b[39;49;00m\r\n",
      "        x = x.t()\r\n",
      "        lengths = x[\u001b[34m0\u001b[39;49;00m,:]\r\n",
      "        reviews = x[\u001b[34m1\u001b[39;49;00m:,:]\r\n",
      "        embeds = \u001b[36mself\u001b[39;49;00m.embedding(reviews)\r\n",
      "        lstm_out, _ = \u001b[36mself\u001b[39;49;00m.lstm(embeds)\r\n",
      "        out = \u001b[36mself\u001b[39;49;00m.dense(lstm_out)\r\n",
      "        out = out[lengths - \u001b[34m1\u001b[39;49;00m, \u001b[36mrange\u001b[39;49;00m(\u001b[36mlen\u001b[39;49;00m(lengths))]\r\n",
      "        \u001b[34mreturn\u001b[39;49;00m \u001b[36mself\u001b[39;49;00m.sig(out.squeeze())\r\n"
     ]
    }
   ],
   "source": [
    "!pygmentize train/model.py"
   ]
  },
  {
   "cell_type": "markdown",
   "metadata": {},
   "source": [
    "The important takeaway from the implementation provided is that there are three parameters that we may wish to tweak to improve the performance of our model. These are the embedding dimension, the hidden dimension and the size of the vocabulary. We will likely want to make these parameters configurable in the training script so that if we wish to modify them we do not need to modify the script itself. We will see how to do this later on. To start we will write some of the training code in the notebook so that we can more easily diagnose any issues that arise.\n",
    "\n",
    "First we will load a small portion of the training data set to use as a sample. It would be very time consuming to try and train the model completely in the notebook as we do not have access to a gpu and the compute instance that we are using is not particularly powerful. However, we can work on a small bit of the data to get a feel for how our training script is behaving."
   ]
  },
  {
   "cell_type": "code",
   "execution_count": 24,
   "metadata": {},
   "outputs": [],
   "source": [
    "import torch\n",
    "import torch.utils.data\n",
    "\n",
    "# Read in only the first 250 rows\n",
    "train_sample = pd.read_csv(os.path.join(data_dir, 'train.csv'), header=None, names=None, nrows=250)\n",
    "\n",
    "# Turn the input pandas dataframe into tensors\n",
    "train_sample_y = torch.from_numpy(train_sample[[0]].values).float().squeeze()\n",
    "train_sample_X = torch.from_numpy(train_sample.drop([0], axis=1).values).long()\n",
    "\n",
    "# Build the dataset\n",
    "train_sample_ds = torch.utils.data.TensorDataset(train_sample_X, train_sample_y)\n",
    "# Build the dataloader\n",
    "train_sample_dl = torch.utils.data.DataLoader(train_sample_ds, batch_size=50)"
   ]
  },
  {
   "cell_type": "markdown",
   "metadata": {},
   "source": [
    "### (TODO) Writing the training method\n",
    "\n",
    "Next we need to write the training code itself. This should be very similar to training methods that you have written before to train PyTorch models. We will leave any difficult aspects such as model saving / loading and parameter loading until a little later."
   ]
  },
  {
   "cell_type": "code",
   "execution_count": 25,
   "metadata": {},
   "outputs": [],
   "source": [
    "def train(model, train_loader, epochs, optimizer, loss_fn, device):\n",
    "    for epoch in range(1, epochs + 1):\n",
    "        model.train()\n",
    "        total_loss = 0\n",
    "        for batch in train_loader:         \n",
    "            batch_X, batch_y = batch\n",
    "            \n",
    "            batch_X = batch_X.to(device)\n",
    "            batch_y = batch_y.to(device)\n",
    "            \n",
    "            # TODO: Complete this train method to train the model provided.\n",
    "            optimizer.zero_grad()\n",
    "            \n",
    "            out = model(batch_X)\n",
    "            \n",
    "            loss = loss_fn(out, batch_y)\n",
    "            loss.backward()\n",
    "            \n",
    "            \n",
    "            optimizer.step()\n",
    "            \n",
    "            total_loss += loss.data.item()\n",
    "        print(\"Epoch: {}, BCELoss: {}\".format(epoch, total_loss / len(train_loader)))"
   ]
  },
  {
   "cell_type": "markdown",
   "metadata": {},
   "source": [
    "Supposing we have the training method above, we will test that it is working by writing a bit of code in the notebook that executes our training method on the small sample training set that we loaded earlier. The reason for doing this in the notebook is so that we have an opportunity to fix any errors that arise early when they are easier to diagnose."
   ]
  },
  {
   "cell_type": "code",
   "execution_count": 26,
   "metadata": {},
   "outputs": [
    {
     "name": "stdout",
     "output_type": "stream",
     "text": [
      "Epoch: 1, BCELoss: 0.690939438343048\n",
      "Epoch: 2, BCELoss: 0.6821671605110169\n",
      "Epoch: 3, BCELoss: 0.6743613123893738\n",
      "Epoch: 4, BCELoss: 0.6651999831199646\n",
      "Epoch: 5, BCELoss: 0.6532548785209655\n"
     ]
    }
   ],
   "source": [
    "import torch.optim as optim\n",
    "from train.model import LSTMClassifier\n",
    "\n",
    "device = torch.device(\"cuda\" if torch.cuda.is_available() else \"cpu\")\n",
    "model = LSTMClassifier(32, 100, 5000).to(device)\n",
    "optimizer = optim.Adam(model.parameters())\n",
    "loss_fn = torch.nn.BCELoss()\n",
    "\n",
    "train(model, train_sample_dl, 5, optimizer, loss_fn, device)"
   ]
  },
  {
   "cell_type": "markdown",
   "metadata": {},
   "source": [
    "In order to construct a PyTorch model using SageMaker we must provide SageMaker with a training script. We may optionally include a directory which will be copied to the container and from which our training code will be run. When the training container is executed it will check the uploaded directory (if there is one) for a `requirements.txt` file and install any required Python libraries, after which the training script will be run."
   ]
  },
  {
   "cell_type": "markdown",
   "metadata": {},
   "source": [
    "### (TODO) Training the model\n",
    "\n",
    "When a PyTorch model is constructed in SageMaker, an entry point must be specified. This is the Python file which will be executed when the model is trained. Inside of the `train` directory is a file called `train.py` which has been provided and which contains most of the necessary code to train our model. The only thing that is missing is the implementation of the `train()` method which you wrote earlier in this notebook.\n",
    "\n",
    "**TODO**: Copy the `train()` method written above and paste it into the `train/train.py` file where required.\n",
    "\n",
    "The way that SageMaker passes hyperparameters to the training script is by way of arguments. These arguments can then be parsed and used in the training script. To see how this is done take a look at the provided `train/train.py` file."
   ]
  },
  {
   "cell_type": "code",
   "execution_count": 27,
   "metadata": {},
   "outputs": [],
   "source": [
    "from sagemaker.pytorch import PyTorch\n",
    "\n",
    "estimator = PyTorch(entry_point=\"train.py\",\n",
    "                    source_dir=\"train\",\n",
    "                    role=role,\n",
    "                    framework_version='0.4.0',\n",
    "                    train_instance_count=1,\n",
    "                    train_instance_type='ml.p2.xlarge',\n",
    "                    hyperparameters={\n",
    "                        'epochs': 10,\n",
    "                        'hidden_dim': 200,\n",
    "                    })"
   ]
  },
  {
   "cell_type": "code",
   "execution_count": 28,
   "metadata": {},
   "outputs": [
    {
     "name": "stdout",
     "output_type": "stream",
     "text": [
      "2020-06-08 08:42:51 Starting - Starting the training job...\n",
      "2020-06-08 08:42:53 Starting - Launching requested ML instances......\n",
      "2020-06-08 08:43:57 Starting - Preparing the instances for training......\n",
      "2020-06-08 08:44:57 Downloading - Downloading input data...\n",
      "2020-06-08 08:45:33 Training - Downloading the training image..\n",
      "2020-06-08 08:46:03 Training - Training image download completed. Training in progress.\u001b[34mbash: cannot set terminal process group (-1): Inappropriate ioctl for device\u001b[0m\n",
      "\u001b[34mbash: no job control in this shell\u001b[0m\n",
      "\u001b[34m2020-06-08 08:46:04,601 sagemaker-containers INFO     Imported framework sagemaker_pytorch_container.training\u001b[0m\n",
      "\u001b[34m2020-06-08 08:46:04,626 sagemaker_pytorch_container.training INFO     Block until all host DNS lookups succeed.\u001b[0m\n",
      "\u001b[34m2020-06-08 08:46:05,244 sagemaker_pytorch_container.training INFO     Invoking user training script.\u001b[0m\n",
      "\u001b[34m2020-06-08 08:46:05,456 sagemaker-containers INFO     Module train does not provide a setup.py. \u001b[0m\n",
      "\u001b[34mGenerating setup.py\u001b[0m\n",
      "\u001b[34m2020-06-08 08:46:05,456 sagemaker-containers INFO     Generating setup.cfg\u001b[0m\n",
      "\u001b[34m2020-06-08 08:46:05,456 sagemaker-containers INFO     Generating MANIFEST.in\u001b[0m\n",
      "\u001b[34m2020-06-08 08:46:05,456 sagemaker-containers INFO     Installing module with the following command:\u001b[0m\n",
      "\u001b[34m/usr/bin/python -m pip install -U . -r requirements.txt\u001b[0m\n",
      "\u001b[34mProcessing /opt/ml/code\u001b[0m\n",
      "\u001b[34mCollecting pandas (from -r requirements.txt (line 1))\n",
      "  Downloading https://files.pythonhosted.org/packages/74/24/0cdbf8907e1e3bc5a8da03345c23cbed7044330bb8f73bb12e711a640a00/pandas-0.24.2-cp35-cp35m-manylinux1_x86_64.whl (10.0MB)\u001b[0m\n",
      "\u001b[34mCollecting numpy (from -r requirements.txt (line 2))\n",
      "  Downloading https://files.pythonhosted.org/packages/b5/36/88723426b4ff576809fec7d73594fe17a35c27f8d01f93637637a29ae25b/numpy-1.18.5-cp35-cp35m-manylinux1_x86_64.whl (19.9MB)\u001b[0m\n",
      "\u001b[34mCollecting nltk (from -r requirements.txt (line 3))\n",
      "  Downloading https://files.pythonhosted.org/packages/92/75/ce35194d8e3022203cca0d2f896dbb88689f9b3fce8e9f9cff942913519d/nltk-3.5.zip (1.4MB)\u001b[0m\n",
      "\u001b[34mCollecting beautifulsoup4 (from -r requirements.txt (line 4))\n",
      "  Downloading https://files.pythonhosted.org/packages/66/25/ff030e2437265616a1e9b25ccc864e0371a0bc3adb7c5a404fd661c6f4f6/beautifulsoup4-4.9.1-py3-none-any.whl (115kB)\u001b[0m\n",
      "\u001b[34mCollecting html5lib (from -r requirements.txt (line 5))\n",
      "  Downloading https://files.pythonhosted.org/packages/a5/62/bbd2be0e7943ec8504b517e62bab011b4946e1258842bc159e5dfde15b96/html5lib-1.0.1-py2.py3-none-any.whl (117kB)\u001b[0m\n",
      "\u001b[34mRequirement already satisfied, skipping upgrade: python-dateutil>=2.5.0 in /usr/local/lib/python3.5/dist-packages (from pandas->-r requirements.txt (line 1)) (2.7.5)\u001b[0m\n",
      "\u001b[34mCollecting pytz>=2011k (from pandas->-r requirements.txt (line 1))\n",
      "  Downloading https://files.pythonhosted.org/packages/4f/a4/879454d49688e2fad93e59d7d4efda580b783c745fd2ec2a3adf87b0808d/pytz-2020.1-py2.py3-none-any.whl (510kB)\u001b[0m\n",
      "\u001b[34mRequirement already satisfied, skipping upgrade: click in /usr/local/lib/python3.5/dist-packages (from nltk->-r requirements.txt (line 3)) (7.0)\u001b[0m\n",
      "\u001b[34mCollecting joblib (from nltk->-r requirements.txt (line 3))\n",
      "  Downloading https://files.pythonhosted.org/packages/28/5c/cf6a2b65a321c4a209efcdf64c2689efae2cb62661f8f6f4bb28547cf1bf/joblib-0.14.1-py2.py3-none-any.whl (294kB)\u001b[0m\n",
      "\u001b[34mCollecting regex (from nltk->-r requirements.txt (line 3))\n",
      "  Downloading https://files.pythonhosted.org/packages/b8/7b/01510a6229c2176425bda54d15fba05a4b3df169b87265b008480261d2f9/regex-2020.6.8.tar.gz (690kB)\u001b[0m\n",
      "\u001b[34mCollecting tqdm (from nltk->-r requirements.txt (line 3))\n",
      "  Downloading https://files.pythonhosted.org/packages/f3/76/4697ce203a3d42b2ead61127b35e5fcc26bba9a35c03b32a2bd342a4c869/tqdm-4.46.1-py2.py3-none-any.whl (63kB)\u001b[0m\n",
      "\u001b[34mCollecting soupsieve>1.2 (from beautifulsoup4->-r requirements.txt (line 4))\n",
      "  Downloading https://files.pythonhosted.org/packages/6f/8f/457f4a5390eeae1cc3aeab89deb7724c965be841ffca6cfca9197482e470/soupsieve-2.0.1-py3-none-any.whl\u001b[0m\n",
      "\u001b[34mRequirement already satisfied, skipping upgrade: six>=1.9 in /usr/local/lib/python3.5/dist-packages (from html5lib->-r requirements.txt (line 5)) (1.11.0)\u001b[0m\n",
      "\u001b[34mCollecting webencodings (from html5lib->-r requirements.txt (line 5))\n",
      "  Downloading https://files.pythonhosted.org/packages/f4/24/2a3e3df732393fed8b3ebf2ec078f05546de641fe1b667ee316ec1dcf3b7/webencodings-0.5.1-py2.py3-none-any.whl\u001b[0m\n",
      "\u001b[34mBuilding wheels for collected packages: nltk, train, regex\n",
      "  Running setup.py bdist_wheel for nltk: started\u001b[0m\n",
      "\u001b[34m  Running setup.py bdist_wheel for nltk: finished with status 'done'\n",
      "  Stored in directory: /root/.cache/pip/wheels/ae/8c/3f/b1fe0ba04555b08b57ab52ab7f86023639a526d8bc8d384306\n",
      "  Running setup.py bdist_wheel for train: started\n",
      "  Running setup.py bdist_wheel for train: finished with status 'done'\n",
      "  Stored in directory: /tmp/pip-ephem-wheel-cache-qd9f2wzn/wheels/35/24/16/37574d11bf9bde50616c67372a334f94fa8356bc7164af8ca3\n",
      "  Running setup.py bdist_wheel for regex: started\u001b[0m\n",
      "\u001b[34m  Running setup.py bdist_wheel for regex: finished with status 'done'\n",
      "  Stored in directory: /root/.cache/pip/wheels/9c/e2/cf/246ad8c87bcdf3cba1ec95fa89bc205c9037aa8f4d2e26fdad\u001b[0m\n",
      "\u001b[34mSuccessfully built nltk train regex\u001b[0m\n",
      "\u001b[34mInstalling collected packages: numpy, pytz, pandas, joblib, regex, tqdm, nltk, soupsieve, beautifulsoup4, webencodings, html5lib, train\n",
      "  Found existing installation: numpy 1.15.4\n",
      "    Uninstalling numpy-1.15.4:\u001b[0m\n",
      "\u001b[34m      Successfully uninstalled numpy-1.15.4\u001b[0m\n",
      "\u001b[34mSuccessfully installed beautifulsoup4-4.9.1 html5lib-1.0.1 joblib-0.14.1 nltk-3.5 numpy-1.18.5 pandas-0.24.2 pytz-2020.1 regex-2020.6.8 soupsieve-2.0.1 tqdm-4.46.1 train-1.0.0 webencodings-0.5.1\u001b[0m\n",
      "\u001b[34mYou are using pip version 18.1, however version 20.2b1 is available.\u001b[0m\n",
      "\u001b[34mYou should consider upgrading via the 'pip install --upgrade pip' command.\u001b[0m\n",
      "\u001b[34m2020-06-08 08:46:27,178 sagemaker-containers INFO     Invoking user script\n",
      "\u001b[0m\n",
      "\u001b[34mTraining Env:\n",
      "\u001b[0m\n",
      "\u001b[34m{\n",
      "    \"framework_module\": \"sagemaker_pytorch_container.training:main\",\n",
      "    \"additional_framework_parameters\": {},\n",
      "    \"input_data_config\": {\n",
      "        \"training\": {\n",
      "            \"TrainingInputMode\": \"File\",\n",
      "            \"S3DistributionType\": \"FullyReplicated\",\n",
      "            \"RecordWrapperType\": \"None\"\n",
      "        }\n",
      "    },\n",
      "    \"num_cpus\": 4,\n",
      "    \"resource_config\": {\n",
      "        \"hosts\": [\n",
      "            \"algo-1\"\n",
      "        ],\n",
      "        \"network_interface_name\": \"eth0\",\n",
      "        \"current_host\": \"algo-1\"\n",
      "    },\n",
      "    \"input_dir\": \"/opt/ml/input\",\n",
      "    \"input_config_dir\": \"/opt/ml/input/config\",\n",
      "    \"channel_input_dirs\": {\n",
      "        \"training\": \"/opt/ml/input/data/training\"\n",
      "    },\n",
      "    \"output_intermediate_dir\": \"/opt/ml/output/intermediate\",\n",
      "    \"user_entry_point\": \"train.py\",\n",
      "    \"current_host\": \"algo-1\",\n",
      "    \"hosts\": [\n",
      "        \"algo-1\"\n",
      "    ],\n",
      "    \"output_data_dir\": \"/opt/ml/output/data\",\n",
      "    \"num_gpus\": 1,\n",
      "    \"module_dir\": \"s3://sagemaker-eu-central-1-161089182055/sagemaker-pytorch-2020-06-08-08-42-51-200/source/sourcedir.tar.gz\",\n",
      "    \"model_dir\": \"/opt/ml/model\",\n",
      "    \"output_dir\": \"/opt/ml/output\",\n",
      "    \"network_interface_name\": \"eth0\",\n",
      "    \"log_level\": 20,\n",
      "    \"module_name\": \"train\",\n",
      "    \"job_name\": \"sagemaker-pytorch-2020-06-08-08-42-51-200\",\n",
      "    \"hyperparameters\": {\n",
      "        \"hidden_dim\": 200,\n",
      "        \"epochs\": 10\n",
      "    }\u001b[0m\n",
      "\u001b[34m}\n",
      "\u001b[0m\n",
      "\u001b[34mEnvironment variables:\n",
      "\u001b[0m\n",
      "\u001b[34mSM_MODULE_DIR=s3://sagemaker-eu-central-1-161089182055/sagemaker-pytorch-2020-06-08-08-42-51-200/source/sourcedir.tar.gz\u001b[0m\n",
      "\u001b[34mSM_HPS={\"epochs\":10,\"hidden_dim\":200}\u001b[0m\n",
      "\u001b[34mSM_CHANNEL_TRAINING=/opt/ml/input/data/training\u001b[0m\n",
      "\u001b[34mPYTHONPATH=/usr/local/bin:/usr/lib/python35.zip:/usr/lib/python3.5:/usr/lib/python3.5/plat-x86_64-linux-gnu:/usr/lib/python3.5/lib-dynload:/usr/local/lib/python3.5/dist-packages:/usr/lib/python3/dist-packages\u001b[0m\n",
      "\u001b[34mSM_OUTPUT_INTERMEDIATE_DIR=/opt/ml/output/intermediate\u001b[0m\n",
      "\u001b[34mSM_CURRENT_HOST=algo-1\u001b[0m\n",
      "\u001b[34mSM_HOSTS=[\"algo-1\"]\u001b[0m\n",
      "\u001b[34mSM_OUTPUT_DIR=/opt/ml/output\u001b[0m\n",
      "\u001b[34mSM_NETWORK_INTERFACE_NAME=eth0\u001b[0m\n",
      "\u001b[34mSM_NUM_CPUS=4\u001b[0m\n",
      "\u001b[34mSM_INPUT_DIR=/opt/ml/input\u001b[0m\n",
      "\u001b[34mSM_HP_EPOCHS=10\u001b[0m\n",
      "\u001b[34mSM_INPUT_DATA_CONFIG={\"training\":{\"RecordWrapperType\":\"None\",\"S3DistributionType\":\"FullyReplicated\",\"TrainingInputMode\":\"File\"}}\u001b[0m\n",
      "\u001b[34mSM_USER_ENTRY_POINT=train.py\u001b[0m\n",
      "\u001b[34mSM_INPUT_CONFIG_DIR=/opt/ml/input/config\u001b[0m\n",
      "\u001b[34mSM_FRAMEWORK_PARAMS={}\u001b[0m\n",
      "\u001b[34mSM_MODEL_DIR=/opt/ml/model\u001b[0m\n",
      "\u001b[34mSM_TRAINING_ENV={\"additional_framework_parameters\":{},\"channel_input_dirs\":{\"training\":\"/opt/ml/input/data/training\"},\"current_host\":\"algo-1\",\"framework_module\":\"sagemaker_pytorch_container.training:main\",\"hosts\":[\"algo-1\"],\"hyperparameters\":{\"epochs\":10,\"hidden_dim\":200},\"input_config_dir\":\"/opt/ml/input/config\",\"input_data_config\":{\"training\":{\"RecordWrapperType\":\"None\",\"S3DistributionType\":\"FullyReplicated\",\"TrainingInputMode\":\"File\"}},\"input_dir\":\"/opt/ml/input\",\"job_name\":\"sagemaker-pytorch-2020-06-08-08-42-51-200\",\"log_level\":20,\"model_dir\":\"/opt/ml/model\",\"module_dir\":\"s3://sagemaker-eu-central-1-161089182055/sagemaker-pytorch-2020-06-08-08-42-51-200/source/sourcedir.tar.gz\",\"module_name\":\"train\",\"network_interface_name\":\"eth0\",\"num_cpus\":4,\"num_gpus\":1,\"output_data_dir\":\"/opt/ml/output/data\",\"output_dir\":\"/opt/ml/output\",\"output_intermediate_dir\":\"/opt/ml/output/intermediate\",\"resource_config\":{\"current_host\":\"algo-1\",\"hosts\":[\"algo-1\"],\"network_interface_name\":\"eth0\"},\"user_entry_point\":\"train.py\"}\u001b[0m\n",
      "\u001b[34mSM_NUM_GPUS=1\u001b[0m\n",
      "\u001b[34mSM_CHANNELS=[\"training\"]\u001b[0m\n",
      "\u001b[34mSM_HP_HIDDEN_DIM=200\u001b[0m\n",
      "\u001b[34mSM_FRAMEWORK_MODULE=sagemaker_pytorch_container.training:main\u001b[0m\n",
      "\u001b[34mSM_RESOURCE_CONFIG={\"current_host\":\"algo-1\",\"hosts\":[\"algo-1\"],\"network_interface_name\":\"eth0\"}\u001b[0m\n",
      "\u001b[34mSM_USER_ARGS=[\"--epochs\",\"10\",\"--hidden_dim\",\"200\"]\u001b[0m\n",
      "\u001b[34mSM_MODULE_NAME=train\u001b[0m\n",
      "\u001b[34mSM_LOG_LEVEL=20\u001b[0m\n",
      "\u001b[34mSM_OUTPUT_DATA_DIR=/opt/ml/output/data\n",
      "\u001b[0m\n",
      "\u001b[34mInvoking script with the following command:\n",
      "\u001b[0m\n",
      "\u001b[34m/usr/bin/python -m train --epochs 10 --hidden_dim 200\n",
      "\n",
      "\u001b[0m\n",
      "\u001b[34mUsing device cuda.\u001b[0m\n",
      "\u001b[34mGet train data loader.\u001b[0m\n"
     ]
    },
    {
     "name": "stdout",
     "output_type": "stream",
     "text": [
      "\u001b[34mModel loaded with embedding_dim 32, hidden_dim 200, vocab_size 5000.\u001b[0m\n",
      "\u001b[34mEpoch: 1, BCELoss: 0.6769366471134887\u001b[0m\n",
      "\u001b[34mEpoch: 2, BCELoss: 0.6441539854419475\u001b[0m\n",
      "\u001b[34mEpoch: 3, BCELoss: 0.5626456871324655\u001b[0m\n",
      "\u001b[34mEpoch: 4, BCELoss: 0.48044793763939214\u001b[0m\n",
      "\u001b[34mEpoch: 5, BCELoss: 0.41674765336270236\u001b[0m\n",
      "\u001b[34mEpoch: 6, BCELoss: 0.3797674471018266\u001b[0m\n",
      "\u001b[34mEpoch: 7, BCELoss: 0.34230982527440906\u001b[0m\n",
      "\u001b[34mEpoch: 8, BCELoss: 0.31257595699660634\u001b[0m\n",
      "\u001b[34mEpoch: 9, BCELoss: 0.2938792380143185\u001b[0m\n",
      "\u001b[34mEpoch: 10, BCELoss: 0.2951035657707526\u001b[0m\n",
      "\u001b[34m2020-06-08 08:49:24,456 sagemaker-containers INFO     Reporting training SUCCESS\u001b[0m\n",
      "\n",
      "2020-06-08 08:49:33 Uploading - Uploading generated training model\n",
      "2020-06-08 08:49:33 Completed - Training job completed\n",
      "Training seconds: 276\n",
      "Billable seconds: 276\n"
     ]
    }
   ],
   "source": [
    "estimator.fit({'training': input_data})"
   ]
  },
  {
   "cell_type": "markdown",
   "metadata": {},
   "source": [
    "## Step 5: Testing the model\n",
    "\n",
    "As mentioned at the top of this notebook, we will be testing this model by first deploying it and then sending the testing data to the deployed endpoint. We will do this so that we can make sure that the deployed model is working correctly.\n",
    "\n",
    "## Step 6: Deploy the model for testing\n",
    "\n",
    "Now that we have trained our model, we would like to test it to see how it performs. Currently our model takes input of the form `review_length, review[500]` where `review[500]` is a sequence of `500` integers which describe the words present in the review, encoded using `word_dict`. Fortunately for us, SageMaker provides built-in inference code for models with simple inputs such as this.\n",
    "\n",
    "There is one thing that we need to provide, however, and that is a function which loads the saved model. This function must be called `model_fn()` and takes as its only parameter a path to the directory where the model artifacts are stored. This function must also be present in the python file which we specified as the entry point. In our case the model loading function has been provided and so no changes need to be made.\n",
    "\n",
    "**NOTE**: When the built-in inference code is run it must import the `model_fn()` method from the `train.py` file. This is why the training code is wrapped in a main guard ( ie, `if __name__ == '__main__':` )\n",
    "\n",
    "Since we don't need to change anything in the code that was uploaded during training, we can simply deploy the current model as-is.\n",
    "\n",
    "**NOTE:** When deploying a model you are asking SageMaker to launch an compute instance that will wait for data to be sent to it. As a result, this compute instance will continue to run until *you* shut it down. This is important to know since the cost of a deployed endpoint depends on how long it has been running for.\n",
    "\n",
    "In other words **If you are no longer using a deployed endpoint, shut it down!**\n",
    "\n",
    "**TODO:** Deploy the trained model."
   ]
  },
  {
   "cell_type": "code",
   "execution_count": 29,
   "metadata": {},
   "outputs": [
    {
     "name": "stdout",
     "output_type": "stream",
     "text": [
      "-------------!"
     ]
    }
   ],
   "source": [
    "# TODO: Deploy the trained model\n",
    "predictor = estimator.deploy(initial_instance_count=1, instance_type='ml.m4.xlarge')"
   ]
  },
  {
   "cell_type": "markdown",
   "metadata": {},
   "source": [
    "## Step 7 - Use the model for testing\n",
    "\n",
    "Once deployed, we can read in the test data and send it off to our deployed model to get some results. Once we collect all of the results we can determine how accurate our model is."
   ]
  },
  {
   "cell_type": "code",
   "execution_count": 30,
   "metadata": {},
   "outputs": [],
   "source": [
    "test_X = pd.concat([pd.DataFrame(test_X_len), pd.DataFrame(test_X)], axis=1)"
   ]
  },
  {
   "cell_type": "code",
   "execution_count": 31,
   "metadata": {},
   "outputs": [],
   "source": [
    "# We split the data into chunks and send each chunk seperately, accumulating the results.\n",
    "\n",
    "def predict(data, rows=512):\n",
    "    split_array = np.array_split(data, int(data.shape[0] / float(rows) + 1))\n",
    "    predictions = np.array([])\n",
    "    for array in split_array:\n",
    "        predictions = np.append(predictions, predictor.predict(array))\n",
    "    \n",
    "    return predictions"
   ]
  },
  {
   "cell_type": "code",
   "execution_count": 32,
   "metadata": {},
   "outputs": [],
   "source": [
    "predictions = predict(test_X.values)\n",
    "predictions = [round(num) for num in predictions]"
   ]
  },
  {
   "cell_type": "code",
   "execution_count": 33,
   "metadata": {},
   "outputs": [
    {
     "data": {
      "text/plain": [
       "0.85364"
      ]
     },
     "execution_count": 33,
     "metadata": {},
     "output_type": "execute_result"
    }
   ],
   "source": [
    "from sklearn.metrics import accuracy_score\n",
    "accuracy_score(test_y, predictions)"
   ]
  },
  {
   "cell_type": "markdown",
   "metadata": {},
   "source": [
    "**Question:** How does this model compare to the XGBoost model you created earlier? Why might these two models perform differently on this dataset? Which do *you* think is better for sentiment analysis?"
   ]
  },
  {
   "cell_type": "markdown",
   "metadata": {},
   "source": [
    "**Answer:**\n",
    "They both performe similar but it is to say that the LSTM model here is not fine tuned yet. So there is likely some performanc to be gained. \n",
    "A reason for that is that the LSTM model can look on at the order of the text and remember previous words."
   ]
  },
  {
   "cell_type": "markdown",
   "metadata": {},
   "source": [
    "### (TODO) More testing\n",
    "\n",
    "We now have a trained model which has been deployed and which we can send processed reviews to and which returns the predicted sentiment. However, ultimately we would like to be able to send our model an unprocessed review. That is, we would like to send the review itself as a string. For example, suppose we wish to send the following review to our model."
   ]
  },
  {
   "cell_type": "code",
   "execution_count": 34,
   "metadata": {},
   "outputs": [],
   "source": [
    "test_review = 'The simplest pleasures in life are the best, and this film is one of them. Combining a rather basic storyline of love and adventure this movie transcends the usual weekend fair with wit and unmitigated charm.'"
   ]
  },
  {
   "cell_type": "markdown",
   "metadata": {},
   "source": [
    "The question we now need to answer is, how do we send this review to our model?\n",
    "\n",
    "Recall in the first section of this notebook we did a bunch of data processing to the IMDb dataset. In particular, we did two specific things to the provided reviews.\n",
    " - Removed any html tags and stemmed the input\n",
    " - Encoded the review as a sequence of integers using `word_dict`\n",
    " \n",
    "In order process the review we will need to repeat these two steps.\n",
    "\n",
    "**TODO**: Using the `review_to_words` and `convert_and_pad` methods from section one, convert `test_review` into a numpy array `test_data` suitable to send to our model. Remember that our model expects input of the form `review_length, review[500]`."
   ]
  },
  {
   "cell_type": "code",
   "execution_count": 35,
   "metadata": {},
   "outputs": [
    {
     "name": "stdout",
     "output_type": "stream",
     "text": [
      "[array([   1, 1373,   50,   53,    3,    4,  878,  173,  392,  682,   29,\n",
      "        723,    2, 4422,  275, 2076, 1061,  760,    1,  581,    0,    0,\n",
      "          0,    0,    0,    0,    0,    0,    0,    0,    0,    0,    0,\n",
      "          0,    0,    0,    0,    0,    0,    0,    0,    0,    0,    0,\n",
      "          0,    0,    0,    0,    0,    0,    0,    0,    0,    0,    0,\n",
      "          0,    0,    0,    0,    0,    0,    0,    0,    0,    0,    0,\n",
      "          0,    0,    0,    0,    0,    0,    0,    0,    0,    0,    0,\n",
      "          0,    0,    0,    0,    0,    0,    0,    0,    0,    0,    0,\n",
      "          0,    0,    0,    0,    0,    0,    0,    0,    0,    0,    0,\n",
      "          0,    0,    0,    0,    0,    0,    0,    0,    0,    0,    0,\n",
      "          0,    0,    0,    0,    0,    0,    0,    0,    0,    0,    0,\n",
      "          0,    0,    0,    0,    0,    0,    0,    0,    0,    0,    0,\n",
      "          0,    0,    0,    0,    0,    0,    0,    0,    0,    0,    0,\n",
      "          0,    0,    0,    0,    0,    0,    0,    0,    0,    0,    0,\n",
      "          0,    0,    0,    0,    0,    0,    0,    0,    0,    0,    0,\n",
      "          0,    0,    0,    0,    0,    0,    0,    0,    0,    0,    0,\n",
      "          0,    0,    0,    0,    0,    0,    0,    0,    0,    0,    0,\n",
      "          0,    0,    0,    0,    0,    0,    0,    0,    0,    0,    0,\n",
      "          0,    0,    0,    0,    0,    0,    0,    0,    0,    0,    0,\n",
      "          0,    0,    0,    0,    0,    0,    0,    0,    0,    0,    0,\n",
      "          0,    0,    0,    0,    0,    0,    0,    0,    0,    0,    0,\n",
      "          0,    0,    0,    0,    0,    0,    0,    0,    0,    0,    0,\n",
      "          0,    0,    0,    0,    0,    0,    0,    0,    0,    0,    0,\n",
      "          0,    0,    0,    0,    0,    0,    0,    0,    0,    0,    0,\n",
      "          0,    0,    0,    0,    0,    0,    0,    0,    0,    0,    0,\n",
      "          0,    0,    0,    0,    0,    0,    0,    0,    0,    0,    0,\n",
      "          0,    0,    0,    0,    0,    0,    0,    0,    0,    0,    0,\n",
      "          0,    0,    0,    0,    0,    0,    0,    0,    0,    0,    0,\n",
      "          0,    0,    0,    0,    0,    0,    0,    0,    0,    0,    0,\n",
      "          0,    0,    0,    0,    0,    0,    0,    0,    0,    0,    0,\n",
      "          0,    0,    0,    0,    0,    0,    0,    0,    0,    0,    0,\n",
      "          0,    0,    0,    0,    0,    0,    0,    0,    0,    0,    0,\n",
      "          0,    0,    0,    0,    0,    0,    0,    0,    0,    0,    0,\n",
      "          0,    0,    0,    0,    0,    0,    0,    0,    0,    0,    0,\n",
      "          0,    0,    0,    0,    0,    0,    0,    0,    0,    0,    0,\n",
      "          0,    0,    0,    0,    0,    0,    0,    0,    0,    0,    0,\n",
      "          0,    0,    0,    0,    0,    0,    0,    0,    0,    0,    0,\n",
      "          0,    0,    0,    0,    0,    0,    0,    0,    0,    0,    0,\n",
      "          0,    0,    0,    0,    0,    0,    0,    0,    0,    0,    0,\n",
      "          0,    0,    0,    0,    0,    0,    0,    0,    0,    0,    0,\n",
      "          0,    0,    0,    0,    0,    0,    0,    0,    0,    0,    0,\n",
      "          0,    0,    0,    0,    0,    0,    0,    0,    0,    0,    0,\n",
      "          0,    0,    0,    0,    0,    0,    0,    0,    0,    0,    0,\n",
      "          0,    0,    0,    0,    0,    0,    0,    0,    0,    0,    0,\n",
      "          0,    0,    0,    0,    0,    0,    0,    0,    0,    0,    0,\n",
      "          0,    0,    0,    0,    0])]\n"
     ]
    }
   ],
   "source": [
    "# TODO: Convert test_review into a form usable by the model and save the results in test_data\n",
    "test_data = review_to_words(test_review)\n",
    "test_data, test_data_len = convert_and_pad(word_dict, test_data)\n",
    "test_data = [np.array(test_data)]\n",
    "print(test_data)"
   ]
  },
  {
   "cell_type": "markdown",
   "metadata": {},
   "source": [
    "Now that we have processed the review, we can send the resulting array to our model to predict the sentiment of the review."
   ]
  },
  {
   "cell_type": "code",
   "execution_count": 36,
   "metadata": {},
   "outputs": [
    {
     "data": {
      "text/plain": [
       "array(0.53657556, dtype=float32)"
      ]
     },
     "execution_count": 36,
     "metadata": {},
     "output_type": "execute_result"
    }
   ],
   "source": [
    "predictor.predict(test_data)"
   ]
  },
  {
   "cell_type": "markdown",
   "metadata": {},
   "source": [
    "Since the return value of our model is close to `1`, we can be certain that the review we submitted is positive."
   ]
  },
  {
   "cell_type": "markdown",
   "metadata": {},
   "source": [
    "### Delete the endpoint\n",
    "\n",
    "Of course, just like in the XGBoost notebook, once we've deployed an endpoint it continues to run until we tell it to shut down. Since we are done using our endpoint for now, we can delete it."
   ]
  },
  {
   "cell_type": "code",
   "execution_count": 37,
   "metadata": {},
   "outputs": [],
   "source": [
    "estimator.delete_endpoint()"
   ]
  },
  {
   "cell_type": "markdown",
   "metadata": {},
   "source": [
    "## Step 6 (again) - Deploy the model for the web app\n",
    "\n",
    "Now that we know that our model is working, it's time to create some custom inference code so that we can send the model a review which has not been processed and have it determine the sentiment of the review.\n",
    "\n",
    "As we saw above, by default the estimator which we created, when deployed, will use the entry script and directory which we provided when creating the model. However, since we now wish to accept a string as input and our model expects a processed review, we need to write some custom inference code.\n",
    "\n",
    "We will store the code that we write in the `serve` directory. Provided in this directory is the `model.py` file that we used to construct our model, a `utils.py` file which contains the `review_to_words` and `convert_and_pad` pre-processing functions which we used during the initial data processing, and `predict.py`, the file which will contain our custom inference code. Note also that `requirements.txt` is present which will tell SageMaker what Python libraries are required by our custom inference code.\n",
    "\n",
    "When deploying a PyTorch model in SageMaker, you are expected to provide four functions which the SageMaker inference container will use.\n",
    " - `model_fn`: This function is the same function that we used in the training script and it tells SageMaker how to load our model.\n",
    " - `input_fn`: This function receives the raw serialized input that has been sent to the model's endpoint and its job is to de-serialize and make the input available for the inference code.\n",
    " - `output_fn`: This function takes the output of the inference code and its job is to serialize this output and return it to the caller of the model's endpoint.\n",
    " - `predict_fn`: The heart of the inference script, this is where the actual prediction is done and is the function which you will need to complete.\n",
    "\n",
    "For the simple website that we are constructing during this project, the `input_fn` and `output_fn` methods are relatively straightforward. We only require being able to accept a string as input and we expect to return a single value as output. You might imagine though that in a more complex application the input or output may be image data or some other binary data which would require some effort to serialize.\n",
    "\n",
    "### (TODO) Writing inference code\n",
    "\n",
    "Before writing our custom inference code, we will begin by taking a look at the code which has been provided."
   ]
  },
  {
   "cell_type": "code",
   "execution_count": 38,
   "metadata": {},
   "outputs": [
    {
     "name": "stdout",
     "output_type": "stream",
     "text": [
      "\u001b[34mimport\u001b[39;49;00m \u001b[04m\u001b[36margparse\u001b[39;49;00m\r\n",
      "\u001b[34mimport\u001b[39;49;00m \u001b[04m\u001b[36mjson\u001b[39;49;00m\r\n",
      "\u001b[34mimport\u001b[39;49;00m \u001b[04m\u001b[36mos\u001b[39;49;00m\r\n",
      "\u001b[34mimport\u001b[39;49;00m \u001b[04m\u001b[36mpickle\u001b[39;49;00m\r\n",
      "\u001b[34mimport\u001b[39;49;00m \u001b[04m\u001b[36msys\u001b[39;49;00m\r\n",
      "\u001b[34mimport\u001b[39;49;00m \u001b[04m\u001b[36msagemaker_containers\u001b[39;49;00m\r\n",
      "\u001b[34mimport\u001b[39;49;00m \u001b[04m\u001b[36mpandas\u001b[39;49;00m \u001b[34mas\u001b[39;49;00m \u001b[04m\u001b[36mpd\u001b[39;49;00m\r\n",
      "\u001b[34mimport\u001b[39;49;00m \u001b[04m\u001b[36mnumpy\u001b[39;49;00m \u001b[34mas\u001b[39;49;00m \u001b[04m\u001b[36mnp\u001b[39;49;00m\r\n",
      "\u001b[34mimport\u001b[39;49;00m \u001b[04m\u001b[36mtorch\u001b[39;49;00m\r\n",
      "\u001b[34mimport\u001b[39;49;00m \u001b[04m\u001b[36mtorch.nn\u001b[39;49;00m \u001b[34mas\u001b[39;49;00m \u001b[04m\u001b[36mnn\u001b[39;49;00m\r\n",
      "\u001b[34mimport\u001b[39;49;00m \u001b[04m\u001b[36mtorch.optim\u001b[39;49;00m \u001b[34mas\u001b[39;49;00m \u001b[04m\u001b[36moptim\u001b[39;49;00m\r\n",
      "\u001b[34mimport\u001b[39;49;00m \u001b[04m\u001b[36mtorch.utils.data\u001b[39;49;00m\r\n",
      "\r\n",
      "\u001b[34mfrom\u001b[39;49;00m \u001b[04m\u001b[36mmodel\u001b[39;49;00m \u001b[34mimport\u001b[39;49;00m LSTMClassifier\r\n",
      "\r\n",
      "\u001b[34mfrom\u001b[39;49;00m \u001b[04m\u001b[36mutils\u001b[39;49;00m \u001b[34mimport\u001b[39;49;00m review_to_words, convert_and_pad\r\n",
      "\r\n",
      "\u001b[34mdef\u001b[39;49;00m \u001b[32mmodel_fn\u001b[39;49;00m(model_dir):\r\n",
      "    \u001b[33m\"\"\"Load the PyTorch model from the `model_dir` directory.\"\"\"\u001b[39;49;00m\r\n",
      "    \u001b[34mprint\u001b[39;49;00m(\u001b[33m\"\u001b[39;49;00m\u001b[33mLoading model.\u001b[39;49;00m\u001b[33m\"\u001b[39;49;00m)\r\n",
      "\r\n",
      "    \u001b[37m# First, load the parameters used to create the model.\u001b[39;49;00m\r\n",
      "    model_info = {}\r\n",
      "    model_info_path = os.path.join(model_dir, \u001b[33m'\u001b[39;49;00m\u001b[33mmodel_info.pth\u001b[39;49;00m\u001b[33m'\u001b[39;49;00m)\r\n",
      "    \u001b[34mwith\u001b[39;49;00m \u001b[36mopen\u001b[39;49;00m(model_info_path, \u001b[33m'\u001b[39;49;00m\u001b[33mrb\u001b[39;49;00m\u001b[33m'\u001b[39;49;00m) \u001b[34mas\u001b[39;49;00m f:\r\n",
      "        model_info = torch.load(f)\r\n",
      "\r\n",
      "    \u001b[34mprint\u001b[39;49;00m(\u001b[33m\"\u001b[39;49;00m\u001b[33mmodel_info: {}\u001b[39;49;00m\u001b[33m\"\u001b[39;49;00m.format(model_info))\r\n",
      "\r\n",
      "    \u001b[37m# Determine the device and construct the model.\u001b[39;49;00m\r\n",
      "    device = torch.device(\u001b[33m\"\u001b[39;49;00m\u001b[33mcuda\u001b[39;49;00m\u001b[33m\"\u001b[39;49;00m \u001b[34mif\u001b[39;49;00m torch.cuda.is_available() \u001b[34melse\u001b[39;49;00m \u001b[33m\"\u001b[39;49;00m\u001b[33mcpu\u001b[39;49;00m\u001b[33m\"\u001b[39;49;00m)\r\n",
      "    model = LSTMClassifier(model_info[\u001b[33m'\u001b[39;49;00m\u001b[33membedding_dim\u001b[39;49;00m\u001b[33m'\u001b[39;49;00m], model_info[\u001b[33m'\u001b[39;49;00m\u001b[33mhidden_dim\u001b[39;49;00m\u001b[33m'\u001b[39;49;00m], model_info[\u001b[33m'\u001b[39;49;00m\u001b[33mvocab_size\u001b[39;49;00m\u001b[33m'\u001b[39;49;00m])\r\n",
      "\r\n",
      "    \u001b[37m# Load the store model parameters.\u001b[39;49;00m\r\n",
      "    model_path = os.path.join(model_dir, \u001b[33m'\u001b[39;49;00m\u001b[33mmodel.pth\u001b[39;49;00m\u001b[33m'\u001b[39;49;00m)\r\n",
      "    \u001b[34mwith\u001b[39;49;00m \u001b[36mopen\u001b[39;49;00m(model_path, \u001b[33m'\u001b[39;49;00m\u001b[33mrb\u001b[39;49;00m\u001b[33m'\u001b[39;49;00m) \u001b[34mas\u001b[39;49;00m f:\r\n",
      "        model.load_state_dict(torch.load(f))\r\n",
      "\r\n",
      "    \u001b[37m# Load the saved word_dict.\u001b[39;49;00m\r\n",
      "    word_dict_path = os.path.join(model_dir, \u001b[33m'\u001b[39;49;00m\u001b[33mword_dict.pkl\u001b[39;49;00m\u001b[33m'\u001b[39;49;00m)\r\n",
      "    \u001b[34mwith\u001b[39;49;00m \u001b[36mopen\u001b[39;49;00m(word_dict_path, \u001b[33m'\u001b[39;49;00m\u001b[33mrb\u001b[39;49;00m\u001b[33m'\u001b[39;49;00m) \u001b[34mas\u001b[39;49;00m f:\r\n",
      "        model.word_dict = pickle.load(f)\r\n",
      "\r\n",
      "    model.to(device).eval()\r\n",
      "\r\n",
      "    \u001b[34mprint\u001b[39;49;00m(\u001b[33m\"\u001b[39;49;00m\u001b[33mDone loading model.\u001b[39;49;00m\u001b[33m\"\u001b[39;49;00m)\r\n",
      "    \u001b[34mreturn\u001b[39;49;00m model\r\n",
      "\r\n",
      "\u001b[34mdef\u001b[39;49;00m \u001b[32minput_fn\u001b[39;49;00m(serialized_input_data, content_type):\r\n",
      "    \u001b[34mprint\u001b[39;49;00m(\u001b[33m'\u001b[39;49;00m\u001b[33mDeserializing the input data.\u001b[39;49;00m\u001b[33m'\u001b[39;49;00m)\r\n",
      "    \u001b[34mif\u001b[39;49;00m content_type == \u001b[33m'\u001b[39;49;00m\u001b[33mtext/plain\u001b[39;49;00m\u001b[33m'\u001b[39;49;00m:\r\n",
      "        data = serialized_input_data.decode(\u001b[33m'\u001b[39;49;00m\u001b[33mutf-8\u001b[39;49;00m\u001b[33m'\u001b[39;49;00m)\r\n",
      "        \u001b[34mreturn\u001b[39;49;00m data\r\n",
      "    \u001b[34mraise\u001b[39;49;00m \u001b[36mException\u001b[39;49;00m(\u001b[33m'\u001b[39;49;00m\u001b[33mRequested unsupported ContentType in content_type: \u001b[39;49;00m\u001b[33m'\u001b[39;49;00m + content_type)\r\n",
      "\r\n",
      "\u001b[34mdef\u001b[39;49;00m \u001b[32moutput_fn\u001b[39;49;00m(prediction_output, accept):\r\n",
      "    \u001b[34mprint\u001b[39;49;00m(\u001b[33m'\u001b[39;49;00m\u001b[33mSerializing the generated output.\u001b[39;49;00m\u001b[33m'\u001b[39;49;00m)\r\n",
      "    \u001b[34mreturn\u001b[39;49;00m \u001b[36mstr\u001b[39;49;00m(prediction_output)\r\n",
      "\r\n",
      "\u001b[34mdef\u001b[39;49;00m \u001b[32mpredict_fn\u001b[39;49;00m(input_data, model):\r\n",
      "    \u001b[34mprint\u001b[39;49;00m(\u001b[33m'\u001b[39;49;00m\u001b[33mInferring sentiment of input data.\u001b[39;49;00m\u001b[33m'\u001b[39;49;00m)\r\n",
      "\r\n",
      "    device = torch.device(\u001b[33m\"\u001b[39;49;00m\u001b[33mcuda\u001b[39;49;00m\u001b[33m\"\u001b[39;49;00m \u001b[34mif\u001b[39;49;00m torch.cuda.is_available() \u001b[34melse\u001b[39;49;00m \u001b[33m\"\u001b[39;49;00m\u001b[33mcpu\u001b[39;49;00m\u001b[33m\"\u001b[39;49;00m)\r\n",
      "    \r\n",
      "    \u001b[34mif\u001b[39;49;00m model.word_dict \u001b[35mis\u001b[39;49;00m \u001b[36mNone\u001b[39;49;00m:\r\n",
      "        \u001b[34mraise\u001b[39;49;00m \u001b[36mException\u001b[39;49;00m(\u001b[33m'\u001b[39;49;00m\u001b[33mModel has not been loaded properly, no word_dict.\u001b[39;49;00m\u001b[33m'\u001b[39;49;00m)\r\n",
      "    \r\n",
      "    \u001b[37m# TODO: Process input_data so that it is ready to be sent to our model.\u001b[39;49;00m\r\n",
      "    \u001b[37m#       You should produce two variables:\u001b[39;49;00m\r\n",
      "    \u001b[37m#         data_X   - A sequence of length 500 which represents the converted review\u001b[39;49;00m\r\n",
      "    \u001b[37m#         data_len - The length of the review\u001b[39;49;00m\r\n",
      "\r\n",
      "    data_X, data_len = convert_and_pad(model.word_dict, review_to_words(input_data))\r\n",
      "\r\n",
      "    \u001b[37m# Using data_X and data_len we construct an appropriate input tensor. Remember\u001b[39;49;00m\r\n",
      "    \u001b[37m# that our model expects input data of the form 'len, review[500]'.\u001b[39;49;00m\r\n",
      "    data_pack = np.hstack((data_len, data_X))\r\n",
      "    data_pack = data_pack.reshape(\u001b[34m1\u001b[39;49;00m, -\u001b[34m1\u001b[39;49;00m)\r\n",
      "    \r\n",
      "    data = torch.from_numpy(data_pack)\r\n",
      "    data = data.to(device)\r\n",
      "\r\n",
      "    \u001b[37m# Make sure to put the model into evaluation mode\u001b[39;49;00m\r\n",
      "    model.eval()\r\n",
      "\r\n",
      "    \u001b[37m# TODO: Compute the result of applying the model to the input data. The variable `result` should\u001b[39;49;00m\r\n",
      "    \u001b[37m#       be a numpy array which contains a single integer which is either 1 or 0\u001b[39;49;00m\r\n",
      "\r\n",
      "    witch torch.no_grad():\r\n",
      "        output = model(data)\r\n",
      "        \r\n",
      "    result = np.round(output.numpy())\r\n",
      "\r\n",
      "    \u001b[34mreturn\u001b[39;49;00m result\r\n"
     ]
    }
   ],
   "source": [
    "!pygmentize serve/predict.py"
   ]
  },
  {
   "cell_type": "markdown",
   "metadata": {},
   "source": [
    "As mentioned earlier, the `model_fn` method is the same as the one provided in the training code and the `input_fn` and `output_fn` methods are very simple and your task will be to complete the `predict_fn` method. Make sure that you save the completed file as `predict.py` in the `serve` directory.\n",
    "\n",
    "**TODO**: Complete the `predict_fn()` method in the `serve/predict.py` file."
   ]
  },
  {
   "cell_type": "markdown",
   "metadata": {},
   "source": [
    "### Deploying the model\n",
    "\n",
    "Now that the custom inference code has been written, we will create and deploy our model. To begin with, we need to construct a new PyTorchModel object which points to the model artifacts created during training and also points to the inference code that we wish to use. Then we can call the deploy method to launch the deployment container.\n",
    "\n",
    "**NOTE**: The default behaviour for a deployed PyTorch model is to assume that any input passed to the predictor is a `numpy` array. In our case we want to send a string so we need to construct a simple wrapper around the `RealTimePredictor` class to accomodate simple strings. In a more complicated situation you may want to provide a serialization object, for example if you wanted to sent image data."
   ]
  },
  {
   "cell_type": "code",
   "execution_count": 40,
   "metadata": {},
   "outputs": [
    {
     "name": "stdout",
     "output_type": "stream",
     "text": [
      "---------------!"
     ]
    }
   ],
   "source": [
    "from sagemaker.predictor import RealTimePredictor\n",
    "from sagemaker.pytorch import PyTorchModel\n",
    "\n",
    "class StringPredictor(RealTimePredictor):\n",
    "    def __init__(self, endpoint_name, sagemaker_session):\n",
    "        super(StringPredictor, self).__init__(endpoint_name, sagemaker_session, content_type='text/plain')\n",
    "\n",
    "model = PyTorchModel(model_data=estimator.model_data,\n",
    "                     role = role,\n",
    "                     framework_version='0.4.0',\n",
    "                     entry_point='predict.py',\n",
    "                     source_dir='serve',\n",
    "                     predictor_cls=StringPredictor)\n",
    "predictor = model.deploy(initial_instance_count=1, instance_type='ml.m4.xlarge')"
   ]
  },
  {
   "cell_type": "markdown",
   "metadata": {},
   "source": [
    "### Testing the model\n",
    "\n",
    "Now that we have deployed our model with the custom inference code, we should test to see if everything is working. Here we test our model by loading the first `250` positive and negative reviews and send them to the endpoint, then collect the results. The reason for only sending some of the data is that the amount of time it takes for our model to process the input and then perform inference is quite long and so testing the entire data set would be prohibitive."
   ]
  },
  {
   "cell_type": "code",
   "execution_count": 41,
   "metadata": {},
   "outputs": [
    {
     "name": "stdout",
     "output_type": "stream",
     "text": [
      "s3://sagemaker-eu-central-1-161089182055/sagemaker-pytorch-2020-06-08-08-42-51-200/output/model.tar.gz\n"
     ]
    }
   ],
   "source": [
    "print(estimator.model_data)"
   ]
  },
  {
   "cell_type": "code",
   "execution_count": 45,
   "metadata": {},
   "outputs": [],
   "source": [
    "import glob\n",
    "\n",
    "def test_reviews(data_dir='../data/aclImdb', stop=250):\n",
    "    \n",
    "    results = []\n",
    "    ground = []\n",
    "    \n",
    "    # We make sure to test both positive and negative reviews    \n",
    "    for sentiment in ['pos', 'neg']:\n",
    "        \n",
    "        path = os.path.join(data_dir, 'test', sentiment, '*.txt')\n",
    "        files = glob.glob(path)\n",
    "        \n",
    "        files_read = 0\n",
    "        \n",
    "        print('Starting ', sentiment, ' files')\n",
    "        \n",
    "        # Iterate through the files and send them to the predictor\n",
    "        for f in files:\n",
    "            with open(f) as review:\n",
    "                # First, we store the ground truth (was the review positive or negative)\n",
    "                if sentiment == 'pos':\n",
    "                    ground.append(1)\n",
    "                else:\n",
    "                    ground.append(0)\n",
    "                # Read in the review and convert to 'utf-8' for transmission via HTTP\n",
    "                review_input = review.read().encode('utf-8')\n",
    "                # Send the review to the predictor and store the results\n",
    "                results.append(float(predictor.predict(review_input)))\n",
    "                \n",
    "            # Sending reviews to our endpoint one at a time takes a while so we\n",
    "            # only send a small number of reviews\n",
    "            files_read += 1\n",
    "            if files_read == stop:\n",
    "                break\n",
    "            \n",
    "    return ground, results"
   ]
  },
  {
   "cell_type": "code",
   "execution_count": 46,
   "metadata": {},
   "outputs": [
    {
     "name": "stdout",
     "output_type": "stream",
     "text": [
      "Starting  pos  files\n",
      "Starting  neg  files\n"
     ]
    }
   ],
   "source": [
    "ground, results = test_reviews()"
   ]
  },
  {
   "cell_type": "code",
   "execution_count": 47,
   "metadata": {},
   "outputs": [
    {
     "data": {
      "text/plain": [
       "0.846"
      ]
     },
     "execution_count": 47,
     "metadata": {},
     "output_type": "execute_result"
    }
   ],
   "source": [
    "from sklearn.metrics import accuracy_score\n",
    "accuracy_score(ground, results)"
   ]
  },
  {
   "cell_type": "markdown",
   "metadata": {},
   "source": [
    "As an additional test, we can try sending the `test_review` that we looked at earlier."
   ]
  },
  {
   "cell_type": "code",
   "execution_count": 48,
   "metadata": {},
   "outputs": [
    {
     "data": {
      "text/plain": [
       "b'1.0'"
      ]
     },
     "execution_count": 48,
     "metadata": {},
     "output_type": "execute_result"
    }
   ],
   "source": [
    "predictor.predict(test_review)"
   ]
  },
  {
   "cell_type": "markdown",
   "metadata": {},
   "source": [
    "Now that we know our endpoint is working as expected, we can set up the web page that will interact with it. If you don't have time to finish the project now, make sure to skip down to the end of this notebook and shut down your endpoint. You can deploy it again when you come back."
   ]
  },
  {
   "cell_type": "markdown",
   "metadata": {},
   "source": [
    "## Step 7 (again): Use the model for the web app\n",
    "\n",
    "> **TODO:** This entire section and the next contain tasks for you to complete, mostly using the AWS console.\n",
    "\n",
    "So far we have been accessing our model endpoint by constructing a predictor object which uses the endpoint and then just using the predictor object to perform inference. What if we wanted to create a web app which accessed our model? The way things are set up currently makes that not possible since in order to access a SageMaker endpoint the app would first have to authenticate with AWS using an IAM role which included access to SageMaker endpoints. However, there is an easier way! We just need to use some additional AWS services.\n",
    "\n",
    "<img src=\"Web App Diagram.svg\">\n",
    "\n",
    "The diagram above gives an overview of how the various services will work together. On the far right is the model which we trained above and which is deployed using SageMaker. On the far left is our web app that collects a user's movie review, sends it off and expects a positive or negative sentiment in return.\n",
    "\n",
    "In the middle is where some of the magic happens. We will construct a Lambda function, which you can think of as a straightforward Python function that can be executed whenever a specified event occurs. We will give this function permission to send and recieve data from a SageMaker endpoint.\n",
    "\n",
    "Lastly, the method we will use to execute the Lambda function is a new endpoint that we will create using API Gateway. This endpoint will be a url that listens for data to be sent to it. Once it gets some data it will pass that data on to the Lambda function and then return whatever the Lambda function returns. Essentially it will act as an interface that lets our web app communicate with the Lambda function.\n",
    "\n",
    "### Setting up a Lambda function\n",
    "\n",
    "The first thing we are going to do is set up a Lambda function. This Lambda function will be executed whenever our public API has data sent to it. When it is executed it will receive the data, perform any sort of processing that is required, send the data (the review) to the SageMaker endpoint we've created and then return the result.\n",
    "\n",
    "#### Part A: Create an IAM Role for the Lambda function\n",
    "\n",
    "Since we want the Lambda function to call a SageMaker endpoint, we need to make sure that it has permission to do so. To do this, we will construct a role that we can later give the Lambda function.\n",
    "\n",
    "Using the AWS Console, navigate to the **IAM** page and click on **Roles**. Then, click on **Create role**. Make sure that the **AWS service** is the type of trusted entity selected and choose **Lambda** as the service that will use this role, then click **Next: Permissions**.\n",
    "\n",
    "In the search box type `sagemaker` and select the check box next to the **AmazonSageMakerFullAccess** policy. Then, click on **Next: Review**.\n",
    "\n",
    "Lastly, give this role a name. Make sure you use a name that you will remember later on, for example `LambdaSageMakerRole`. Then, click on **Create role**.\n",
    "\n",
    "#### Part B: Create a Lambda function\n",
    "\n",
    "Now it is time to actually create the Lambda function.\n",
    "\n",
    "Using the AWS Console, navigate to the AWS Lambda page and click on **Create a function**. When you get to the next page, make sure that **Author from scratch** is selected. Now, name your Lambda function, using a name that you will remember later on, for example `sentiment_analysis_func`. Make sure that the **Python 3.6** runtime is selected and then choose the role that you created in the previous part. Then, click on **Create Function**.\n",
    "\n",
    "On the next page you will see some information about the Lambda function you've just created. If you scroll down you should see an editor in which you can write the code that will be executed when your Lambda function is triggered. In our example, we will use the code below. \n",
    "\n",
    "```python\n",
    "# We need to use the low-level library to interact with SageMaker since the SageMaker API\n",
    "# is not available natively through Lambda.\n",
    "import boto3\n",
    "\n",
    "def lambda_handler(event, context):\n",
    "\n",
    "    # The SageMaker runtime is what allows us to invoke the endpoint that we've created.\n",
    "    runtime = boto3.Session().client('sagemaker-runtime')\n",
    "\n",
    "    # Now we use the SageMaker runtime to invoke our endpoint, sending the review we were given\n",
    "    response = runtime.invoke_endpoint(EndpointName = '**ENDPOINT NAME HERE**',    # The name of the endpoint we created\n",
    "                                       ContentType = 'text/plain',                 # The data format that is expected\n",
    "                                       Body = event['body'])                       # The actual review\n",
    "\n",
    "    # The response is an HTTP response whose body contains the result of our inference\n",
    "    result = response['Body'].read().decode('utf-8')\n",
    "\n",
    "    return {\n",
    "        'statusCode' : 200,\n",
    "        'headers' : { 'Content-Type' : 'text/plain', 'Access-Control-Allow-Origin' : '*' },\n",
    "        'body' : result\n",
    "    }\n",
    "```\n",
    "\n",
    "Once you have copy and pasted the code above into the Lambda code editor, replace the `**ENDPOINT NAME HERE**` portion with the name of the endpoint that we deployed earlier. You can determine the name of the endpoint using the code cell below."
   ]
  },
  {
   "cell_type": "code",
   "execution_count": 49,
   "metadata": {},
   "outputs": [
    {
     "data": {
      "text/plain": [
       "'sagemaker-pytorch-2020-06-08-10-33-19-402'"
      ]
     },
     "execution_count": 49,
     "metadata": {},
     "output_type": "execute_result"
    }
   ],
   "source": [
    "predictor.endpoint"
   ]
  },
  {
   "cell_type": "markdown",
   "metadata": {},
   "source": [
    "Once you have added the endpoint name to the Lambda function, click on **Save**. Your Lambda function is now up and running. Next we need to create a way for our web app to execute the Lambda function.\n",
    "\n",
    "### Setting up API Gateway\n",
    "\n",
    "Now that our Lambda function is set up, it is time to create a new API using API Gateway that will trigger the Lambda function we have just created.\n",
    "\n",
    "Using AWS Console, navigate to **Amazon API Gateway** and then click on **Get started**.\n",
    "\n",
    "On the next page, make sure that **New API** is selected and give the new api a name, for example, `sentiment_analysis_api`. Then, click on **Create API**.\n",
    "\n",
    "Now we have created an API, however it doesn't currently do anything. What we want it to do is to trigger the Lambda function that we created earlier.\n",
    "\n",
    "Select the **Actions** dropdown menu and click **Create Method**. A new blank method will be created, select its dropdown menu and select **POST**, then click on the check mark beside it.\n",
    "\n",
    "For the integration point, make sure that **Lambda Function** is selected and click on the **Use Lambda Proxy integration**. This option makes sure that the data that is sent to the API is then sent directly to the Lambda function with no processing. It also means that the return value must be a proper response object as it will also not be processed by API Gateway.\n",
    "\n",
    "Type the name of the Lambda function you created earlier into the **Lambda Function** text entry box and then click on **Save**. Click on **OK** in the pop-up box that then appears, giving permission to API Gateway to invoke the Lambda function you created.\n",
    "\n",
    "The last step in creating the API Gateway is to select the **Actions** dropdown and click on **Deploy API**. You will need to create a new Deployment stage and name it anything you like, for example `prod`.\n",
    "\n",
    "You have now successfully set up a public API to access your SageMaker model. Make sure to copy or write down the URL provided to invoke your newly created public API as this will be needed in the next step. This URL can be found at the top of the page, highlighted in blue next to the text **Invoke URL**."
   ]
  },
  {
   "cell_type": "markdown",
   "metadata": {},
   "source": [
    "## Step 4: Deploying our web app\n",
    "\n",
    "Now that we have a publicly available API, we can start using it in a web app. For our purposes, we have provided a simple static html file which can make use of the public api you created earlier.\n",
    "\n",
    "In the `website` folder there should be a file called `index.html`. Download the file to your computer and open that file up in a text editor of your choice. There should be a line which contains **\\*\\*REPLACE WITH PUBLIC API URL\\*\\***. Replace this string with the url that you wrote down in the last step and then save the file.\n",
    "\n",
    "Now, if you open `index.html` on your local computer, your browser will behave as a local web server and you can use the provided site to interact with your SageMaker model.\n",
    "\n",
    "If you'd like to go further, you can host this html file anywhere you'd like, for example using github or hosting a static site on Amazon's S3. Once you have done this you can share the link with anyone you'd like and have them play with it too!\n",
    "\n",
    "> **Important Note** In order for the web app to communicate with the SageMaker endpoint, the endpoint has to actually be deployed and running. This means that you are paying for it. Make sure that the endpoint is running when you want to use the web app but that you shut it down when you don't need it, otherwise you will end up with a surprisingly large AWS bill.\n",
    "\n",
    "**TODO:** Make sure that you include the edited `index.html` file in your project submission."
   ]
  },
  {
   "cell_type": "markdown",
   "metadata": {},
   "source": [
    "Now that your web app is working, trying playing around with it and see how well it works.\n",
    "\n",
    "**Question**: Give an example of a review that you entered into your web app. What was the predicted sentiment of your example review?"
   ]
  },
  {
   "cell_type": "markdown",
   "metadata": {},
   "source": [
    "**Answer:**\n",
    "Being someone who has devoured all of Agatha Christie's work, I thought this movie would be fun. I was not dissapointed! A great murder mystery with so many references to Christie, Sherlock Holmes, Murder, She Wrote etc. If you like a good murder mystery, watch this ASAP!\n",
    "\n",
    "Your review was POSITIVE!"
   ]
  },
  {
   "cell_type": "markdown",
   "metadata": {},
   "source": [
    "### Delete the endpoint\n",
    "\n",
    "Remember to always shut down your endpoint if you are no longer using it. You are charged for the length of time that the endpoint is running so if you forget and leave it on you could end up with an unexpectedly large bill."
   ]
  },
  {
   "cell_type": "code",
   "execution_count": null,
   "metadata": {},
   "outputs": [],
   "source": [
    "predictor.delete_endpoint()"
   ]
  },
  {
   "cell_type": "code",
   "execution_count": null,
   "metadata": {},
   "outputs": [],
   "source": []
  }
 ],
 "metadata": {
  "kernelspec": {
   "display_name": "conda_pytorch_p36",
   "language": "python",
   "name": "conda_pytorch_p36"
  },
  "language_info": {
   "codemirror_mode": {
    "name": "ipython",
    "version": 3
   },
   "file_extension": ".py",
   "mimetype": "text/x-python",
   "name": "python",
   "nbconvert_exporter": "python",
   "pygments_lexer": "ipython3",
   "version": "3.6.5"
  }
 },
 "nbformat": 4,
 "nbformat_minor": 2
}
